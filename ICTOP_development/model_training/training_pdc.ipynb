{
 "cells": [
  {
   "cell_type": "raw",
   "metadata": {},
   "source": [
    "Training of the B cell model"
   ]
  },
  {
   "cell_type": "code",
   "execution_count": 1,
   "metadata": {
    "execution": {
     "iopub.execute_input": "2024-06-04T14:57:38.353445Z",
     "iopub.status.busy": "2024-06-04T14:57:38.352648Z",
     "iopub.status.idle": "2024-06-04T14:57:39.634451Z",
     "shell.execute_reply": "2024-06-04T14:57:39.633869Z"
    }
   },
   "outputs": [],
   "source": [
    "import re\n",
    "import pandas as pd\n",
    "import anndata\n",
    "import matplotlib.pyplot as plt\n",
    "import numpy as np\n",
    "import scanpy as sc\n",
    "import seaborn as sns\n",
    "import sklearn\n",
    "from scipy.sparse import vstack\n",
    "from scipy.special import expit\n",
    "from scipy.stats import pearsonr, spearmanr\n",
    "from sklearn import metrics\n",
    "from sklearn.linear_model import LogisticRegression\n",
    "from sklearn.metrics import *\n",
    "from sklearn.metrics import accuracy_score, auc, classification_report, roc_curve\n",
    "from sklearn.model_selection import (\n",
    "    # LearningCurveDisplay,\n",
    "    # learning_curve,\n",
    "    train_test_split,\n",
    ")\n",
    "from sklearn.preprocessing import LabelEncoder, OneHotEncoder\n",
    "from sklearn.metrics import mean_absolute_error\n",
    "from sklearn.metrics._dist_metrics import DistanceMetric\n",
    "from sklearn.metrics import accuracy_score\n",
    "import xgboost as xgb"
   ]
  },
  {
   "cell_type": "code",
   "execution_count": 5,
   "metadata": {
    "execution": {
     "iopub.execute_input": "2024-06-04T14:57:39.837699Z",
     "iopub.status.busy": "2024-06-04T14:57:39.837225Z",
     "iopub.status.idle": "2024-06-04T14:57:46.264322Z",
     "shell.execute_reply": "2024-06-04T14:57:46.263668Z"
    }
   },
   "outputs": [
    {
     "data": {
      "text/plain": [
       "AnnData object with n_obs × n_vars = 329762 × 36601\n",
       "    obs: 'Organ', 'Donor', 'Chemistry', 'Cell_category', 'Predicted_labels_CellTypist', 'Majority_voting_CellTypist', 'Majority_voting_CellTypist_high', 'Manually_curated_celltype', 'Sex', 'Age_range'\n",
       "    uns: 'Age_range_colors', 'Sex_colors'\n",
       "    obsm: 'X_umap'\n",
       "    layers: 'counts'"
      ]
     },
     "execution_count": 5,
     "metadata": {},
     "output_type": "execute_result"
    }
   ],
   "source": [
    "file = \"/home/jkuhn/Bachelors-Thesis/input/CountAdded_PIP_global_object_for_cellxgene1.h5ad\"\n",
    "adata_all = sc.read_h5ad(file)\n",
    "adata_all.var_names_make_unique()\n",
    "adata_all "
   ]
  },
  {
   "cell_type": "markdown",
   "metadata": {},
   "source": [
    "# One hot encoding"
   ]
  },
  {
   "cell_type": "code",
   "execution_count": 6,
   "metadata": {
    "execution": {
     "iopub.execute_input": "2024-06-04T14:57:46.266699Z",
     "iopub.status.busy": "2024-06-04T14:57:46.266454Z",
     "iopub.status.idle": "2024-06-04T14:57:46.295199Z",
     "shell.execute_reply": "2024-06-04T14:57:46.294707Z"
    }
   },
   "outputs": [],
   "source": [
    "encoder_organ = LabelEncoder()\n",
    "y_encoded = encoder_organ.fit_transform(adata_all.obs[\"Organ\"])  # encode the organ labels"
   ]
  },
  {
   "cell_type": "code",
   "execution_count": 7,
   "metadata": {
    "execution": {
     "iopub.execute_input": "2024-06-04T14:57:46.296960Z",
     "iopub.status.busy": "2024-06-04T14:57:46.296770Z",
     "iopub.status.idle": "2024-06-04T14:57:46.299944Z",
     "shell.execute_reply": "2024-06-04T14:57:46.299350Z"
    }
   },
   "outputs": [],
   "source": [
    "# Replace the existing 'Organ' column with the encoded labels\n",
    "adata_all.obs[\"Organ\"] = y_encoded"
   ]
  },
  {
   "cell_type": "code",
   "execution_count": 8,
   "metadata": {
    "execution": {
     "iopub.execute_input": "2024-06-04T14:57:46.302056Z",
     "iopub.status.busy": "2024-06-04T14:57:46.301809Z",
     "iopub.status.idle": "2024-06-04T14:57:46.307544Z",
     "shell.execute_reply": "2024-06-04T14:57:46.307070Z"
    },
    "scrolled": true
   },
   "outputs": [
    {
     "name": "stdout",
     "output_type": "stream",
     "text": [
      "    Encoded_Label Decoded_Label\n",
      "0               0           BLD\n",
      "1               1           BMA\n",
      "2               2           CAE\n",
      "3               3           DUO\n",
      "4               4           ILE\n",
      "5               5        JEJEPI\n",
      "6               6         JEJLP\n",
      "7               7           LIV\n",
      "8               8           LLN\n",
      "9               9           LNG\n",
      "10             10           MLN\n",
      "11             11           OME\n",
      "12             12           SCL\n",
      "13             13           SKM\n",
      "14             14           SPL\n",
      "15             15           TCL\n",
      "16             16           THY\n"
     ]
    }
   ],
   "source": [
    "label_table = pd.DataFrame(\n",
    "    {\n",
    "        \"Encoded_Label\": encoder_organ.transform(encoder_organ.classes_),\n",
    "        \"Decoded_Label\": encoder_organ.classes_,\n",
    "    }\n",
    ")\n",
    "\n",
    "# Print the table\n",
    "print(label_table)"
   ]
  },
  {
   "cell_type": "markdown",
   "metadata": {},
   "source": [
    "### Subsetting the dataset: "
   ]
  },
  {
   "cell_type": "code",
   "execution_count": 9,
   "metadata": {
    "execution": {
     "iopub.execute_input": "2024-06-04T14:57:46.309548Z",
     "iopub.status.busy": "2024-06-04T14:57:46.309318Z",
     "iopub.status.idle": "2024-06-04T14:57:46.312043Z",
     "shell.execute_reply": "2024-06-04T14:57:46.311582Z"
    }
   },
   "outputs": [],
   "source": [
    "celltype = \"pDC\""
   ]
  },
  {
   "cell_type": "code",
   "execution_count": 10,
   "metadata": {
    "execution": {
     "iopub.execute_input": "2024-06-04T14:57:46.314033Z",
     "iopub.status.busy": "2024-06-04T14:57:46.313797Z",
     "iopub.status.idle": "2024-06-04T14:57:46.320501Z",
     "shell.execute_reply": "2024-06-04T14:57:46.320086Z"
    }
   },
   "outputs": [],
   "source": [
    "adata = adata_all[(adata_all.obs[\"Majority_voting_CellTypist_high\"] == celltype)]"
   ]
  },
  {
   "cell_type": "code",
   "execution_count": 11,
   "metadata": {
    "execution": {
     "iopub.execute_input": "2024-06-04T14:57:46.322361Z",
     "iopub.status.busy": "2024-06-04T14:57:46.322137Z",
     "iopub.status.idle": "2024-06-04T14:57:46.325912Z",
     "shell.execute_reply": "2024-06-04T14:57:46.325410Z"
    }
   },
   "outputs": [
    {
     "data": {
      "text/plain": [
       "View of AnnData object with n_obs × n_vars = 791 × 36601\n",
       "    obs: 'Organ', 'Donor', 'Chemistry', 'Cell_category', 'Predicted_labels_CellTypist', 'Majority_voting_CellTypist', 'Majority_voting_CellTypist_high', 'Manually_curated_celltype', 'Sex', 'Age_range'\n",
       "    uns: 'Age_range_colors', 'Sex_colors'\n",
       "    obsm: 'X_umap'\n",
       "    layers: 'counts'"
      ]
     },
     "execution_count": 11,
     "metadata": {},
     "output_type": "execute_result"
    }
   ],
   "source": [
    "adata"
   ]
  },
  {
   "cell_type": "code",
   "execution_count": null,
   "metadata": {},
   "outputs": [],
   "source": [
    "# split for each chem and organ for this celltype into train and test\n",
    "def ttsplit(celltype: str) -> (pd.DataFrame, pd.DataFrame, pd.DataFrame, pd.DataFrame):\n",
    "    count = 0\n",
    "\n",
    "    subset_celltype = adata[(adata.obs[\"Majority_voting_CellTypist_high\"] == celltype)]\n",
    "\n",
    "    for chem in subset_celltype.obs[\"Chemistry\"].unique():\n",
    "        subset_chemistry = subset_celltype[\n",
    "                (subset_celltype.obs[\"Chemistry\"] == chem)\n",
    "            ]\n",
    "\n",
    "        for organ in subset_chemistry.obs[\"Organ\"].unique(): \n",
    "\n",
    "            subset_organ = subset_chemistry[(subset_chemistry.obs[\"Organ\"] == organ)]\n",
    "            X = subset_organ.to_df()\n",
    "            y = subset_organ.obs[\"Organ\"]\n",
    "            subset_name = f\"{celltype}_{organ}_{chem}\"\n",
    "    \n",
    "            try:\n",
    "                if count != 0:\n",
    "                    X_train_pre, X_test_pre, y_train_pre, y_test_pre = train_test_split(\n",
    "                        X, y, test_size=0.2, random_state=42\n",
    "                    )\n",
    "\n",
    "                    X_test = pd.concat([X_test, X_test_pre])\n",
    "                    X_train = pd.concat([X_train, X_train_pre])\n",
    "                    y_test = pd.concat([y_test, y_test_pre])\n",
    "                    y_train = pd.concat([y_train, y_train_pre])\n",
    "                    count = count + 1\n",
    "\n",
    "                else:\n",
    "                    X_train, X_test, y_train, y_test = train_test_split(\n",
    "                        X, y, test_size=0.2, random_state=42\n",
    "                    )\n",
    "                    count = count + 1\n",
    "\n",
    "            except ValueError as e:\n",
    "\n",
    "                num_elements = X.shape[0]\n",
    "\n",
    "                if num_elements == 1:\n",
    "                    X_train_pre, X_test_pre, y_train_pre, y_test_pre = X, None, y, None\n",
    "\n",
    "                    X_test = pd.concat([X_test, X_test_pre])\n",
    "                    X_train = pd.concat([X_train, X_train_pre])\n",
    "                    y_test = pd.concat([y_test, y_test_pre])\n",
    "                    y_train = pd.concat([y_train, y_train_pre])\n",
    "\n",
    "                else:\n",
    "                    print(f\"Subset with name '{subset_name}' caused an error: {e}\")\n",
    "\n",
    "                continue\n",
    "    return X_train, X_test, y_train, y_test"
   ]
  },
  {
   "cell_type": "code",
   "execution_count": 13,
   "metadata": {
    "execution": {
     "iopub.execute_input": "2024-06-04T14:57:46.336416Z",
     "iopub.status.busy": "2024-06-04T14:57:46.336023Z",
     "iopub.status.idle": "2024-06-04T14:57:46.338584Z",
     "shell.execute_reply": "2024-06-04T14:57:46.338196Z"
    }
   },
   "outputs": [],
   "source": [
    "def save_model(bst: xgb.Booster, modelname: str):\n",
    "    print(\"modelname: \" + model_name)\n",
    "    # save model\n",
    "    bst.save_model(model_name)"
   ]
  },
  {
   "cell_type": "code",
   "execution_count": 15,
   "metadata": {
    "execution": {
     "iopub.execute_input": "2024-06-04T14:57:46.344972Z",
     "iopub.status.busy": "2024-06-04T14:57:46.344653Z",
     "iopub.status.idle": "2024-06-04T14:57:46.347369Z",
     "shell.execute_reply": "2024-06-04T14:57:46.346983Z"
    }
   },
   "outputs": [],
   "source": [
    "def load_model(modelname: str) -> xgb.Booster:\n",
    "    bst = xgb.Booster()\n",
    "    bst.load_model(modelname)\n",
    "    return bst"
   ]
  },
  {
   "cell_type": "code",
   "execution_count": null,
   "metadata": {},
   "outputs": [],
   "source": [
    "def prediction(bst: xgb.Booster) -> pd.DataFrame: # gets model and returns classification report, y_pred_encoded oder adata mit prediction\n",
    "    y_pred_prob = bst.predict(dtest) # predict\n",
    "    y_pred_encoded = np.argmax(y_pred_prob, axis =1)\n",
    "\n",
    "    accuracy = accuracy_score(y_test, y_pred_encoded)\n",
    "    print(f\"Accuracy: {accuracy}\")\n",
    "    \n",
    "    y_test_decoded = encoder_organ.inverse_transform(\n",
    "        y_test\n",
    "    ) \n",
    "    y_pred_encoded_series = pd.Series(y_pred_encoded)\n",
    "\n",
    "    # Map the encoded labels to decoded labels using the label table DataFrame\n",
    "    y_pred = y_pred_encoded_series.map(\n",
    "        dict(zip(label_table[\"Encoded_Label\"], label_table[\"Decoded_Label\"]))\n",
    "    )\n",
    "\n",
    "    class_report = metrics.classification_report(y_test, y_pred_encoded)\n",
    "\n",
    "    print(\"Classification Report for celltype: \", celltype)\n",
    "    print(class_report)\n",
    "\n",
    "    with open(report_name, \"a\") as f:\n",
    "        print(\"Classification Report for celltype:\", celltype, file=f)\n",
    "        print(class_report, file=f)\n",
    "\n",
    "    result_df = pd.DataFrame({\"Actual\": y_test, \"Predicted\": y_pred_encoded})\n",
    "\n",
    "    actual_counts = result_df[\"Actual\"].value_counts()\n",
    "    predicted_counts = result_df[\"Predicted\"].value_counts()\n",
    "    combined_counts = pd.concat([actual_counts, predicted_counts], axis=1)\n",
    "    combined_counts.columns = [\"Actual\", \"Predicted\"]\n",
    "    combined_counts = combined_counts.fillna(0)  # Fill NaN values with 0\n",
    "\n",
    "    # Plot the distributions\n",
    "    combined_counts.plot(kind=\"bar\", figsize=(12, 6))\n",
    "    plt.title(\"Distribution of Actual and Predicted Categories for \" + celltype)\n",
    "    plt.xlabel(\"Category\")\n",
    "    plt.ylabel(\"Count\")\n",
    "    plt.xticks(rotation=45)\n",
    "    plt.legend([\"Actual\", \"Predicted\"])\n",
    "    plt.show()\n",
    "\n",
    "    return y_pred_encoded"
   ]
  },
  {
   "cell_type": "code",
   "execution_count": 18,
   "metadata": {
    "execution": {
     "iopub.execute_input": "2024-06-04T14:57:46.362555Z",
     "iopub.status.busy": "2024-06-04T14:57:46.362326Z",
     "iopub.status.idle": "2024-06-04T14:57:52.972010Z",
     "shell.execute_reply": "2024-06-04T14:57:52.971256Z"
    }
   },
   "outputs": [],
   "source": [
    "X_train, X_test, y_train, y_test = ttsplit(celltype) \n",
    "X = adata.to_df()\n",
    "y = adata.obs[\"Organ\"]\n",
    "\n",
    "dtrain = xgb.DMatrix(X_train, label=y_train)\n",
    "dtest = xgb.DMatrix(X_test, label=y_test)"
   ]
  },
  {
   "cell_type": "code",
   "execution_count": 19,
   "metadata": {
    "execution": {
     "iopub.execute_input": "2024-06-04T14:57:52.975014Z",
     "iopub.status.busy": "2024-06-04T14:57:52.974682Z",
     "iopub.status.idle": "2024-06-04T14:57:52.979032Z",
     "shell.execute_reply": "2024-06-04T14:57:52.977957Z"
    }
   },
   "outputs": [
    {
     "name": "stdout",
     "output_type": "stream",
     "text": [
      "Number of classes: 17\n"
     ]
    }
   ],
   "source": [
    "num_classes = len(encoder_organ.classes_)\n",
    "print(\"Number of classes:\", num_classes)\n",
    "class_names = encoder_organ.classes_\n",
    "model_number = \"0005\"\n",
    "report_name = f\"{model_number}_classification_report.txt\""
   ]
  },
  {
   "cell_type": "markdown",
   "metadata": {},
   "source": [
    "# Parameter Tuning\n",
    "Here, the following tutorial was adapted: https://blog.cambridgespark.com/hyperparameter-tuning-in-xgboost-4ff9100a3b2f"
   ]
  },
  {
   "cell_type": "code",
   "execution_count": 20,
   "metadata": {
    "execution": {
     "iopub.execute_input": "2024-06-04T14:57:52.981409Z",
     "iopub.status.busy": "2024-06-04T14:57:52.980875Z",
     "iopub.status.idle": "2024-06-04T14:57:52.984573Z",
     "shell.execute_reply": "2024-06-04T14:57:52.983901Z"
    }
   },
   "outputs": [],
   "source": [
    "params = {\n",
    "    'max_depth':5,\n",
    "    'min_child_weight': 15,\n",
    "    'eta':0.05,\n",
    "    'subsample': 1,\n",
    "    'colsample_bytree': 0.7,\n",
    "    \"num_class\": num_classes,\n",
    "    # Other parameters\n",
    "    \"objective\": \"multi:softprob\",\n",
    "    \"eval_metric\": ['merror','mlogloss'], \n",
    "    'device': 'cuda'\n",
    "}"
   ]
  },
  {
   "cell_type": "markdown",
   "metadata": {},
   "source": [
    "### Parameters num_boost_round and early_stopping_rounds"
   ]
  },
  {
   "cell_type": "code",
   "execution_count": 21,
   "metadata": {
    "execution": {
     "iopub.execute_input": "2024-06-04T14:57:52.986553Z",
     "iopub.status.busy": "2024-06-04T14:57:52.986313Z",
     "iopub.status.idle": "2024-06-04T15:08:32.188033Z",
     "shell.execute_reply": "2024-06-04T15:08:32.187136Z"
    }
   },
   "outputs": [
    {
     "name": "stderr",
     "output_type": "stream",
     "text": [
      "[16:57:53] WARNING: /home/conda/feedstock_root/build_artifacts/xgboost-split_1705650052425/work/src/context.cc:44: No visible GPU is found, setting device to CPU.\n"
     ]
    },
    {
     "name": "stdout",
     "output_type": "stream",
     "text": [
      "[0]\ttrain-merror:0.36160\ttrain-mlogloss:2.65089\teval-merror:0.40964\teval-mlogloss:2.66099\n",
      "[1]\ttrain-merror:0.35680\ttrain-mlogloss:2.50486\teval-merror:0.39759\teval-mlogloss:2.53208\n",
      "[2]\ttrain-merror:0.36320\ttrain-mlogloss:2.38129\teval-merror:0.40361\teval-mlogloss:2.42109\n",
      "[3]\ttrain-merror:0.35360\ttrain-mlogloss:2.27308\teval-merror:0.42169\teval-mlogloss:2.32871\n",
      "[4]\ttrain-merror:0.34720\ttrain-mlogloss:2.17706\teval-merror:0.40361\teval-mlogloss:2.24031\n",
      "[5]\ttrain-merror:0.33280\ttrain-mlogloss:2.09155\teval-merror:0.40964\teval-mlogloss:2.16556\n",
      "[6]\ttrain-merror:0.32640\ttrain-mlogloss:2.01546\teval-merror:0.39157\teval-mlogloss:2.10425\n",
      "[7]\ttrain-merror:0.32000\ttrain-mlogloss:1.94322\teval-merror:0.38554\teval-mlogloss:2.04452\n",
      "[8]\ttrain-merror:0.30240\ttrain-mlogloss:1.87311\teval-merror:0.37349\teval-mlogloss:1.98865\n",
      "[9]\ttrain-merror:0.28960\ttrain-mlogloss:1.81168\teval-merror:0.38554\teval-mlogloss:1.93466\n",
      "[10]\ttrain-merror:0.28480\ttrain-mlogloss:1.75559\teval-merror:0.37952\teval-mlogloss:1.88788\n",
      "[11]\ttrain-merror:0.28160\ttrain-mlogloss:1.70228\teval-merror:0.37952\teval-mlogloss:1.84628\n",
      "[12]\ttrain-merror:0.28160\ttrain-mlogloss:1.65182\teval-merror:0.37349\teval-mlogloss:1.80667\n",
      "[13]\ttrain-merror:0.26880\ttrain-mlogloss:1.60158\teval-merror:0.36747\teval-mlogloss:1.76638\n",
      "[14]\ttrain-merror:0.26400\ttrain-mlogloss:1.55548\teval-merror:0.37349\teval-mlogloss:1.72767\n",
      "[15]\ttrain-merror:0.25440\ttrain-mlogloss:1.51062\teval-merror:0.36145\teval-mlogloss:1.69058\n",
      "[16]\ttrain-merror:0.24800\ttrain-mlogloss:1.46810\teval-merror:0.34940\teval-mlogloss:1.65946\n",
      "[17]\ttrain-merror:0.24000\ttrain-mlogloss:1.42890\teval-merror:0.34940\teval-mlogloss:1.62735\n",
      "[18]\ttrain-merror:0.23360\ttrain-mlogloss:1.39114\teval-merror:0.34337\teval-mlogloss:1.59699\n",
      "[19]\ttrain-merror:0.22720\ttrain-mlogloss:1.35501\teval-merror:0.35542\teval-mlogloss:1.57008\n",
      "[20]\ttrain-merror:0.22400\ttrain-mlogloss:1.32003\teval-merror:0.34337\teval-mlogloss:1.54443\n",
      "[21]\ttrain-merror:0.21760\ttrain-mlogloss:1.28559\teval-merror:0.33735\teval-mlogloss:1.52037\n",
      "[22]\ttrain-merror:0.20480\ttrain-mlogloss:1.25180\teval-merror:0.33735\teval-mlogloss:1.49436\n",
      "[23]\ttrain-merror:0.20160\ttrain-mlogloss:1.22191\teval-merror:0.34940\teval-mlogloss:1.47139\n",
      "[24]\ttrain-merror:0.19840\ttrain-mlogloss:1.19170\teval-merror:0.34940\teval-mlogloss:1.44903\n",
      "[25]\ttrain-merror:0.18560\ttrain-mlogloss:1.16382\teval-merror:0.33735\teval-mlogloss:1.42650\n",
      "[26]\ttrain-merror:0.18240\ttrain-mlogloss:1.13568\teval-merror:0.32530\teval-mlogloss:1.40596\n",
      "[27]\ttrain-merror:0.18080\ttrain-mlogloss:1.10820\teval-merror:0.31325\teval-mlogloss:1.38604\n",
      "[28]\ttrain-merror:0.17440\ttrain-mlogloss:1.08201\teval-merror:0.31325\teval-mlogloss:1.36623\n",
      "[29]\ttrain-merror:0.17440\ttrain-mlogloss:1.05683\teval-merror:0.31928\teval-mlogloss:1.34697\n",
      "[30]\ttrain-merror:0.16800\ttrain-mlogloss:1.03297\teval-merror:0.30723\teval-mlogloss:1.33172\n",
      "[31]\ttrain-merror:0.16640\ttrain-mlogloss:1.00951\teval-merror:0.31325\teval-mlogloss:1.31347\n",
      "[32]\ttrain-merror:0.16320\ttrain-mlogloss:0.98732\teval-merror:0.30723\teval-mlogloss:1.29799\n",
      "[33]\ttrain-merror:0.15680\ttrain-mlogloss:0.96672\teval-merror:0.30723\teval-mlogloss:1.28232\n",
      "[34]\ttrain-merror:0.15200\ttrain-mlogloss:0.94605\teval-merror:0.31928\teval-mlogloss:1.26775\n",
      "[35]\ttrain-merror:0.15200\ttrain-mlogloss:0.92649\teval-merror:0.30723\teval-mlogloss:1.25166\n",
      "[36]\ttrain-merror:0.14560\ttrain-mlogloss:0.90772\teval-merror:0.30723\teval-mlogloss:1.24064\n",
      "[37]\ttrain-merror:0.14720\ttrain-mlogloss:0.88895\teval-merror:0.32530\teval-mlogloss:1.22709\n",
      "[38]\ttrain-merror:0.14560\ttrain-mlogloss:0.87123\teval-merror:0.31325\teval-mlogloss:1.21443\n",
      "[39]\ttrain-merror:0.13920\ttrain-mlogloss:0.85303\teval-merror:0.31928\teval-mlogloss:1.20142\n",
      "[40]\ttrain-merror:0.13600\ttrain-mlogloss:0.83674\teval-merror:0.30723\teval-mlogloss:1.19006\n",
      "[41]\ttrain-merror:0.13280\ttrain-mlogloss:0.81999\teval-merror:0.31928\teval-mlogloss:1.17944\n",
      "[42]\ttrain-merror:0.12960\ttrain-mlogloss:0.80406\teval-merror:0.31325\teval-mlogloss:1.16869\n",
      "[43]\ttrain-merror:0.12640\ttrain-mlogloss:0.78852\teval-merror:0.31928\teval-mlogloss:1.15882\n",
      "[44]\ttrain-merror:0.12640\ttrain-mlogloss:0.77432\teval-merror:0.31928\teval-mlogloss:1.15063\n",
      "[45]\ttrain-merror:0.12640\ttrain-mlogloss:0.76011\teval-merror:0.31325\teval-mlogloss:1.14276\n",
      "[46]\ttrain-merror:0.12480\ttrain-mlogloss:0.74700\teval-merror:0.31325\teval-mlogloss:1.13543\n",
      "[47]\ttrain-merror:0.12000\ttrain-mlogloss:0.73384\teval-merror:0.31325\teval-mlogloss:1.12631\n",
      "[48]\ttrain-merror:0.11680\ttrain-mlogloss:0.72162\teval-merror:0.31325\teval-mlogloss:1.11923\n",
      "[49]\ttrain-merror:0.11360\ttrain-mlogloss:0.70965\teval-merror:0.31325\teval-mlogloss:1.11231\n",
      "[50]\ttrain-merror:0.11040\ttrain-mlogloss:0.69751\teval-merror:0.31325\teval-mlogloss:1.10414\n",
      "[51]\ttrain-merror:0.10400\ttrain-mlogloss:0.68500\teval-merror:0.31325\teval-mlogloss:1.09792\n",
      "[52]\ttrain-merror:0.09920\ttrain-mlogloss:0.67400\teval-merror:0.31325\teval-mlogloss:1.09270\n",
      "[53]\ttrain-merror:0.09760\ttrain-mlogloss:0.66288\teval-merror:0.31325\teval-mlogloss:1.08510\n",
      "[54]\ttrain-merror:0.09760\ttrain-mlogloss:0.65407\teval-merror:0.32530\teval-mlogloss:1.07986\n",
      "[55]\ttrain-merror:0.09600\ttrain-mlogloss:0.64521\teval-merror:0.31325\teval-mlogloss:1.07480\n",
      "[56]\ttrain-merror:0.09440\ttrain-mlogloss:0.63621\teval-merror:0.31325\teval-mlogloss:1.07019\n",
      "[57]\ttrain-merror:0.09440\ttrain-mlogloss:0.62867\teval-merror:0.31928\teval-mlogloss:1.06612\n",
      "[58]\ttrain-merror:0.09440\ttrain-mlogloss:0.62123\teval-merror:0.31928\teval-mlogloss:1.06321\n",
      "[59]\ttrain-merror:0.09120\ttrain-mlogloss:0.61393\teval-merror:0.31928\teval-mlogloss:1.05794\n",
      "[60]\ttrain-merror:0.09120\ttrain-mlogloss:0.60679\teval-merror:0.31325\teval-mlogloss:1.05351\n",
      "[61]\ttrain-merror:0.08960\ttrain-mlogloss:0.60014\teval-merror:0.31928\teval-mlogloss:1.04886\n",
      "[62]\ttrain-merror:0.08960\ttrain-mlogloss:0.59316\teval-merror:0.31928\teval-mlogloss:1.04697\n",
      "[63]\ttrain-merror:0.08800\ttrain-mlogloss:0.58638\teval-merror:0.32530\teval-mlogloss:1.04366\n",
      "[64]\ttrain-merror:0.08480\ttrain-mlogloss:0.57973\teval-merror:0.31928\teval-mlogloss:1.04131\n",
      "[65]\ttrain-merror:0.08000\ttrain-mlogloss:0.57326\teval-merror:0.31928\teval-mlogloss:1.03739\n",
      "[66]\ttrain-merror:0.07520\ttrain-mlogloss:0.56733\teval-merror:0.32530\teval-mlogloss:1.03658\n",
      "[67]\ttrain-merror:0.07360\ttrain-mlogloss:0.56117\teval-merror:0.31928\teval-mlogloss:1.03488\n",
      "[68]\ttrain-merror:0.07360\ttrain-mlogloss:0.55515\teval-merror:0.31928\teval-mlogloss:1.03187\n",
      "[69]\ttrain-merror:0.07200\ttrain-mlogloss:0.54966\teval-merror:0.31928\teval-mlogloss:1.03017\n",
      "[70]\ttrain-merror:0.06880\ttrain-mlogloss:0.54313\teval-merror:0.31928\teval-mlogloss:1.02570\n",
      "[71]\ttrain-merror:0.07200\ttrain-mlogloss:0.53723\teval-merror:0.30723\teval-mlogloss:1.02365\n",
      "[72]\ttrain-merror:0.07200\ttrain-mlogloss:0.53171\teval-merror:0.31325\teval-mlogloss:1.02124\n",
      "[73]\ttrain-merror:0.07040\ttrain-mlogloss:0.52611\teval-merror:0.31325\teval-mlogloss:1.01977\n",
      "[74]\ttrain-merror:0.06880\ttrain-mlogloss:0.52111\teval-merror:0.31325\teval-mlogloss:1.01749\n",
      "[75]\ttrain-merror:0.06720\ttrain-mlogloss:0.51589\teval-merror:0.31325\teval-mlogloss:1.01438\n",
      "[76]\ttrain-merror:0.06720\ttrain-mlogloss:0.51028\teval-merror:0.31325\teval-mlogloss:1.01381\n",
      "[77]\ttrain-merror:0.06560\ttrain-mlogloss:0.50486\teval-merror:0.31325\teval-mlogloss:1.01167\n",
      "[78]\ttrain-merror:0.06560\ttrain-mlogloss:0.49983\teval-merror:0.31325\teval-mlogloss:1.00944\n",
      "[79]\ttrain-merror:0.06560\ttrain-mlogloss:0.49541\teval-merror:0.31325\teval-mlogloss:1.00862\n",
      "[80]\ttrain-merror:0.06240\ttrain-mlogloss:0.49067\teval-merror:0.31325\teval-mlogloss:1.00655\n",
      "[81]\ttrain-merror:0.06240\ttrain-mlogloss:0.48631\teval-merror:0.31325\teval-mlogloss:1.00482\n",
      "[82]\ttrain-merror:0.05920\ttrain-mlogloss:0.48190\teval-merror:0.31325\teval-mlogloss:1.00471\n",
      "[83]\ttrain-merror:0.05920\ttrain-mlogloss:0.47773\teval-merror:0.31325\teval-mlogloss:1.00331\n",
      "[84]\ttrain-merror:0.05600\ttrain-mlogloss:0.47373\teval-merror:0.31325\teval-mlogloss:1.00264\n",
      "[85]\ttrain-merror:0.05440\ttrain-mlogloss:0.46942\teval-merror:0.31325\teval-mlogloss:1.00167\n",
      "[86]\ttrain-merror:0.05440\ttrain-mlogloss:0.46538\teval-merror:0.31325\teval-mlogloss:1.00080\n",
      "[87]\ttrain-merror:0.05440\ttrain-mlogloss:0.46144\teval-merror:0.31325\teval-mlogloss:0.99908\n",
      "[88]\ttrain-merror:0.05440\ttrain-mlogloss:0.45762\teval-merror:0.31325\teval-mlogloss:0.99600\n",
      "[89]\ttrain-merror:0.05280\ttrain-mlogloss:0.45380\teval-merror:0.31325\teval-mlogloss:0.99471\n",
      "[90]\ttrain-merror:0.05280\ttrain-mlogloss:0.45002\teval-merror:0.31325\teval-mlogloss:0.99297\n",
      "[91]\ttrain-merror:0.05120\ttrain-mlogloss:0.44608\teval-merror:0.31325\teval-mlogloss:0.99146\n",
      "[92]\ttrain-merror:0.05120\ttrain-mlogloss:0.44252\teval-merror:0.31325\teval-mlogloss:0.99008\n",
      "[93]\ttrain-merror:0.05120\ttrain-mlogloss:0.43914\teval-merror:0.31325\teval-mlogloss:0.98744\n",
      "[94]\ttrain-merror:0.05120\ttrain-mlogloss:0.43569\teval-merror:0.31325\teval-mlogloss:0.98565\n",
      "[95]\ttrain-merror:0.05120\ttrain-mlogloss:0.43249\teval-merror:0.31325\teval-mlogloss:0.98504\n",
      "[96]\ttrain-merror:0.05120\ttrain-mlogloss:0.42900\teval-merror:0.31928\teval-mlogloss:0.98230\n",
      "[97]\ttrain-merror:0.05120\ttrain-mlogloss:0.42601\teval-merror:0.31325\teval-mlogloss:0.98135\n",
      "[98]\ttrain-merror:0.05120\ttrain-mlogloss:0.42284\teval-merror:0.31325\teval-mlogloss:0.98039\n",
      "[99]\ttrain-merror:0.05120\ttrain-mlogloss:0.41967\teval-merror:0.31928\teval-mlogloss:0.98039\n",
      "[100]\ttrain-merror:0.05120\ttrain-mlogloss:0.41659\teval-merror:0.31928\teval-mlogloss:0.97934\n",
      "[101]\ttrain-merror:0.05120\ttrain-mlogloss:0.41340\teval-merror:0.31928\teval-mlogloss:0.97884\n",
      "[102]\ttrain-merror:0.05120\ttrain-mlogloss:0.41025\teval-merror:0.31928\teval-mlogloss:0.97776\n",
      "[103]\ttrain-merror:0.05120\ttrain-mlogloss:0.40681\teval-merror:0.31928\teval-mlogloss:0.97562\n",
      "[104]\ttrain-merror:0.05120\ttrain-mlogloss:0.40377\teval-merror:0.31928\teval-mlogloss:0.97446\n",
      "[105]\ttrain-merror:0.05120\ttrain-mlogloss:0.40110\teval-merror:0.31928\teval-mlogloss:0.97271\n",
      "[106]\ttrain-merror:0.05120\ttrain-mlogloss:0.39817\teval-merror:0.31928\teval-mlogloss:0.97158\n",
      "[107]\ttrain-merror:0.05120\ttrain-mlogloss:0.39529\teval-merror:0.31928\teval-mlogloss:0.97006\n",
      "[108]\ttrain-merror:0.04960\ttrain-mlogloss:0.39279\teval-merror:0.31928\teval-mlogloss:0.96912\n",
      "[109]\ttrain-merror:0.05120\ttrain-mlogloss:0.39011\teval-merror:0.31928\teval-mlogloss:0.96767\n",
      "[110]\ttrain-merror:0.04960\ttrain-mlogloss:0.38733\teval-merror:0.31928\teval-mlogloss:0.96515\n",
      "[111]\ttrain-merror:0.04640\ttrain-mlogloss:0.38446\teval-merror:0.31325\teval-mlogloss:0.96305\n",
      "[112]\ttrain-merror:0.04640\ttrain-mlogloss:0.38182\teval-merror:0.31928\teval-mlogloss:0.96328\n",
      "[113]\ttrain-merror:0.04480\ttrain-mlogloss:0.37897\teval-merror:0.31928\teval-mlogloss:0.96172\n",
      "[114]\ttrain-merror:0.04640\ttrain-mlogloss:0.37655\teval-merror:0.31325\teval-mlogloss:0.95980\n",
      "[115]\ttrain-merror:0.04640\ttrain-mlogloss:0.37442\teval-merror:0.30723\teval-mlogloss:0.95737\n",
      "[116]\ttrain-merror:0.04480\ttrain-mlogloss:0.37207\teval-merror:0.30723\teval-mlogloss:0.95640\n",
      "[117]\ttrain-merror:0.04480\ttrain-mlogloss:0.36973\teval-merror:0.30723\teval-mlogloss:0.95551\n",
      "[118]\ttrain-merror:0.04480\ttrain-mlogloss:0.36739\teval-merror:0.30723\teval-mlogloss:0.95416\n",
      "[119]\ttrain-merror:0.04480\ttrain-mlogloss:0.36523\teval-merror:0.30723\teval-mlogloss:0.95248\n",
      "[120]\ttrain-merror:0.04480\ttrain-mlogloss:0.36322\teval-merror:0.30723\teval-mlogloss:0.95133\n",
      "[121]\ttrain-merror:0.04480\ttrain-mlogloss:0.36111\teval-merror:0.30723\teval-mlogloss:0.95042\n",
      "[122]\ttrain-merror:0.04480\ttrain-mlogloss:0.35883\teval-merror:0.30723\teval-mlogloss:0.94959\n",
      "[123]\ttrain-merror:0.04160\ttrain-mlogloss:0.35701\teval-merror:0.30723\teval-mlogloss:0.94869\n",
      "[124]\ttrain-merror:0.04160\ttrain-mlogloss:0.35499\teval-merror:0.30723\teval-mlogloss:0.94743\n",
      "[125]\ttrain-merror:0.04160\ttrain-mlogloss:0.35305\teval-merror:0.30723\teval-mlogloss:0.94724\n",
      "[126]\ttrain-merror:0.03840\ttrain-mlogloss:0.35131\teval-merror:0.30723\teval-mlogloss:0.94545\n",
      "[127]\ttrain-merror:0.03840\ttrain-mlogloss:0.34953\teval-merror:0.30723\teval-mlogloss:0.94436\n",
      "[128]\ttrain-merror:0.03840\ttrain-mlogloss:0.34760\teval-merror:0.30723\teval-mlogloss:0.94222\n",
      "[129]\ttrain-merror:0.03840\ttrain-mlogloss:0.34560\teval-merror:0.30723\teval-mlogloss:0.94104\n",
      "[130]\ttrain-merror:0.04000\ttrain-mlogloss:0.34372\teval-merror:0.30723\teval-mlogloss:0.94002\n",
      "[131]\ttrain-merror:0.03840\ttrain-mlogloss:0.34187\teval-merror:0.30723\teval-mlogloss:0.93870\n",
      "[132]\ttrain-merror:0.03840\ttrain-mlogloss:0.34024\teval-merror:0.30723\teval-mlogloss:0.93869\n",
      "[133]\ttrain-merror:0.03840\ttrain-mlogloss:0.33842\teval-merror:0.30723\teval-mlogloss:0.93839\n",
      "[134]\ttrain-merror:0.03840\ttrain-mlogloss:0.33674\teval-merror:0.30723\teval-mlogloss:0.93741\n",
      "[135]\ttrain-merror:0.03840\ttrain-mlogloss:0.33502\teval-merror:0.30723\teval-mlogloss:0.93668\n",
      "[136]\ttrain-merror:0.03840\ttrain-mlogloss:0.33320\teval-merror:0.30723\teval-mlogloss:0.93505\n",
      "[137]\ttrain-merror:0.03680\ttrain-mlogloss:0.33148\teval-merror:0.30723\teval-mlogloss:0.93439\n",
      "[138]\ttrain-merror:0.03680\ttrain-mlogloss:0.32994\teval-merror:0.30723\teval-mlogloss:0.93328\n",
      "[139]\ttrain-merror:0.03680\ttrain-mlogloss:0.32845\teval-merror:0.30723\teval-mlogloss:0.93346\n",
      "[140]\ttrain-merror:0.03680\ttrain-mlogloss:0.32685\teval-merror:0.30723\teval-mlogloss:0.93225\n",
      "[141]\ttrain-merror:0.03680\ttrain-mlogloss:0.32507\teval-merror:0.30723\teval-mlogloss:0.93196\n",
      "[142]\ttrain-merror:0.03680\ttrain-mlogloss:0.32364\teval-merror:0.30723\teval-mlogloss:0.93053\n",
      "[143]\ttrain-merror:0.03680\ttrain-mlogloss:0.32220\teval-merror:0.30723\teval-mlogloss:0.93038\n",
      "[144]\ttrain-merror:0.03680\ttrain-mlogloss:0.32063\teval-merror:0.30723\teval-mlogloss:0.92950\n",
      "[145]\ttrain-merror:0.03520\ttrain-mlogloss:0.31912\teval-merror:0.30723\teval-mlogloss:0.92944\n",
      "[146]\ttrain-merror:0.03520\ttrain-mlogloss:0.31760\teval-merror:0.30723\teval-mlogloss:0.92894\n",
      "[147]\ttrain-merror:0.03520\ttrain-mlogloss:0.31622\teval-merror:0.30723\teval-mlogloss:0.92822\n",
      "[148]\ttrain-merror:0.03520\ttrain-mlogloss:0.31490\teval-merror:0.30723\teval-mlogloss:0.92789\n",
      "[149]\ttrain-merror:0.03520\ttrain-mlogloss:0.31360\teval-merror:0.30723\teval-mlogloss:0.92779\n",
      "[150]\ttrain-merror:0.03520\ttrain-mlogloss:0.31220\teval-merror:0.30723\teval-mlogloss:0.92771\n",
      "[151]\ttrain-merror:0.03520\ttrain-mlogloss:0.31091\teval-merror:0.30723\teval-mlogloss:0.92752\n",
      "[152]\ttrain-merror:0.03520\ttrain-mlogloss:0.30946\teval-merror:0.30723\teval-mlogloss:0.92605\n",
      "[153]\ttrain-merror:0.03520\ttrain-mlogloss:0.30813\teval-merror:0.30723\teval-mlogloss:0.92610\n",
      "[154]\ttrain-merror:0.03520\ttrain-mlogloss:0.30683\teval-merror:0.30723\teval-mlogloss:0.92559\n",
      "[155]\ttrain-merror:0.03520\ttrain-mlogloss:0.30552\teval-merror:0.30723\teval-mlogloss:0.92539\n",
      "[156]\ttrain-merror:0.03520\ttrain-mlogloss:0.30410\teval-merror:0.30723\teval-mlogloss:0.92502\n",
      "[157]\ttrain-merror:0.03520\ttrain-mlogloss:0.30283\teval-merror:0.30723\teval-mlogloss:0.92497\n",
      "[158]\ttrain-merror:0.03520\ttrain-mlogloss:0.30152\teval-merror:0.30723\teval-mlogloss:0.92433\n",
      "[159]\ttrain-merror:0.03520\ttrain-mlogloss:0.30016\teval-merror:0.30723\teval-mlogloss:0.92336\n",
      "[160]\ttrain-merror:0.03520\ttrain-mlogloss:0.29893\teval-merror:0.30723\teval-mlogloss:0.92324\n",
      "[161]\ttrain-merror:0.03520\ttrain-mlogloss:0.29765\teval-merror:0.30723\teval-mlogloss:0.92270\n",
      "[162]\ttrain-merror:0.03520\ttrain-mlogloss:0.29650\teval-merror:0.30723\teval-mlogloss:0.92212\n",
      "[163]\ttrain-merror:0.03520\ttrain-mlogloss:0.29526\teval-merror:0.30723\teval-mlogloss:0.92235\n",
      "[164]\ttrain-merror:0.03520\ttrain-mlogloss:0.29399\teval-merror:0.30723\teval-mlogloss:0.92218\n",
      "[165]\ttrain-merror:0.03520\ttrain-mlogloss:0.29285\teval-merror:0.30723\teval-mlogloss:0.92130\n",
      "[166]\ttrain-merror:0.03520\ttrain-mlogloss:0.29169\teval-merror:0.30723\teval-mlogloss:0.92075\n",
      "[167]\ttrain-merror:0.03520\ttrain-mlogloss:0.29055\teval-merror:0.30723\teval-mlogloss:0.92071\n",
      "[168]\ttrain-merror:0.03520\ttrain-mlogloss:0.28942\teval-merror:0.30723\teval-mlogloss:0.91948\n",
      "[169]\ttrain-merror:0.03520\ttrain-mlogloss:0.28838\teval-merror:0.30723\teval-mlogloss:0.91869\n",
      "[170]\ttrain-merror:0.03520\ttrain-mlogloss:0.28734\teval-merror:0.30120\teval-mlogloss:0.91790\n",
      "[171]\ttrain-merror:0.03360\ttrain-mlogloss:0.28614\teval-merror:0.30120\teval-mlogloss:0.91743\n",
      "[172]\ttrain-merror:0.03360\ttrain-mlogloss:0.28506\teval-merror:0.30120\teval-mlogloss:0.91681\n",
      "[173]\ttrain-merror:0.03360\ttrain-mlogloss:0.28399\teval-merror:0.30120\teval-mlogloss:0.91526\n",
      "[174]\ttrain-merror:0.03360\ttrain-mlogloss:0.28284\teval-merror:0.30120\teval-mlogloss:0.91437\n",
      "[175]\ttrain-merror:0.03360\ttrain-mlogloss:0.28188\teval-merror:0.30120\teval-mlogloss:0.91401\n",
      "[176]\ttrain-merror:0.03200\ttrain-mlogloss:0.28065\teval-merror:0.30120\teval-mlogloss:0.91349\n",
      "[177]\ttrain-merror:0.03200\ttrain-mlogloss:0.27965\teval-merror:0.30120\teval-mlogloss:0.91192\n",
      "[178]\ttrain-merror:0.03200\ttrain-mlogloss:0.27859\teval-merror:0.30120\teval-mlogloss:0.91202\n",
      "[179]\ttrain-merror:0.03200\ttrain-mlogloss:0.27758\teval-merror:0.30120\teval-mlogloss:0.91128\n",
      "[180]\ttrain-merror:0.03200\ttrain-mlogloss:0.27657\teval-merror:0.30120\teval-mlogloss:0.91110\n",
      "[181]\ttrain-merror:0.03200\ttrain-mlogloss:0.27566\teval-merror:0.30120\teval-mlogloss:0.91117\n",
      "[182]\ttrain-merror:0.03200\ttrain-mlogloss:0.27467\teval-merror:0.30120\teval-mlogloss:0.91087\n",
      "[183]\ttrain-merror:0.03200\ttrain-mlogloss:0.27363\teval-merror:0.30120\teval-mlogloss:0.91007\n",
      "[184]\ttrain-merror:0.03200\ttrain-mlogloss:0.27258\teval-merror:0.30120\teval-mlogloss:0.90939\n",
      "[185]\ttrain-merror:0.03200\ttrain-mlogloss:0.27168\teval-merror:0.30120\teval-mlogloss:0.90887\n",
      "[186]\ttrain-merror:0.03200\ttrain-mlogloss:0.27065\teval-merror:0.30120\teval-mlogloss:0.90765\n",
      "[187]\ttrain-merror:0.03200\ttrain-mlogloss:0.26961\teval-merror:0.30120\teval-mlogloss:0.90677\n",
      "[188]\ttrain-merror:0.03200\ttrain-mlogloss:0.26863\teval-merror:0.30120\teval-mlogloss:0.90625\n",
      "[189]\ttrain-merror:0.03200\ttrain-mlogloss:0.26781\teval-merror:0.30120\teval-mlogloss:0.90628\n",
      "[190]\ttrain-merror:0.03200\ttrain-mlogloss:0.26695\teval-merror:0.30120\teval-mlogloss:0.90641\n",
      "[191]\ttrain-merror:0.03200\ttrain-mlogloss:0.26606\teval-merror:0.30120\teval-mlogloss:0.90665\n",
      "[192]\ttrain-merror:0.03200\ttrain-mlogloss:0.26512\teval-merror:0.30120\teval-mlogloss:0.90622\n",
      "[193]\ttrain-merror:0.03200\ttrain-mlogloss:0.26420\teval-merror:0.30120\teval-mlogloss:0.90597\n",
      "[194]\ttrain-merror:0.03200\ttrain-mlogloss:0.26357\teval-merror:0.30120\teval-mlogloss:0.90561\n",
      "[195]\ttrain-merror:0.03040\ttrain-mlogloss:0.26260\teval-merror:0.30120\teval-mlogloss:0.90600\n",
      "[196]\ttrain-merror:0.03040\ttrain-mlogloss:0.26168\teval-merror:0.30120\teval-mlogloss:0.90531\n",
      "[197]\ttrain-merror:0.03040\ttrain-mlogloss:0.26076\teval-merror:0.30120\teval-mlogloss:0.90511\n",
      "[198]\ttrain-merror:0.03040\ttrain-mlogloss:0.26001\teval-merror:0.30120\teval-mlogloss:0.90519\n",
      "[199]\ttrain-merror:0.03040\ttrain-mlogloss:0.25910\teval-merror:0.30120\teval-mlogloss:0.90397\n",
      "[200]\ttrain-merror:0.03040\ttrain-mlogloss:0.25830\teval-merror:0.30120\teval-mlogloss:0.90356\n",
      "[201]\ttrain-merror:0.03040\ttrain-mlogloss:0.25744\teval-merror:0.30120\teval-mlogloss:0.90306\n",
      "[202]\ttrain-merror:0.03040\ttrain-mlogloss:0.25662\teval-merror:0.30120\teval-mlogloss:0.90248\n",
      "[203]\ttrain-merror:0.03040\ttrain-mlogloss:0.25583\teval-merror:0.30120\teval-mlogloss:0.90209\n",
      "[204]\ttrain-merror:0.03040\ttrain-mlogloss:0.25494\teval-merror:0.30120\teval-mlogloss:0.90167\n",
      "[205]\ttrain-merror:0.02880\ttrain-mlogloss:0.25416\teval-merror:0.30120\teval-mlogloss:0.90191\n",
      "[206]\ttrain-merror:0.03040\ttrain-mlogloss:0.25334\teval-merror:0.30120\teval-mlogloss:0.90115\n",
      "[207]\ttrain-merror:0.03040\ttrain-mlogloss:0.25258\teval-merror:0.30120\teval-mlogloss:0.90157\n",
      "[208]\ttrain-merror:0.02880\ttrain-mlogloss:0.25179\teval-merror:0.29518\teval-mlogloss:0.90154\n",
      "[209]\ttrain-merror:0.02880\ttrain-mlogloss:0.25086\teval-merror:0.29518\teval-mlogloss:0.90061\n",
      "[210]\ttrain-merror:0.02880\ttrain-mlogloss:0.25005\teval-merror:0.29518\teval-mlogloss:0.90066\n",
      "[211]\ttrain-merror:0.02880\ttrain-mlogloss:0.24932\teval-merror:0.30120\teval-mlogloss:0.90082\n",
      "[212]\ttrain-merror:0.02880\ttrain-mlogloss:0.24858\teval-merror:0.30120\teval-mlogloss:0.90000\n",
      "[213]\ttrain-merror:0.02880\ttrain-mlogloss:0.24794\teval-merror:0.30120\teval-mlogloss:0.89906\n",
      "[214]\ttrain-merror:0.02880\ttrain-mlogloss:0.24720\teval-merror:0.29518\teval-mlogloss:0.89828\n",
      "[215]\ttrain-merror:0.02880\ttrain-mlogloss:0.24655\teval-merror:0.29518\teval-mlogloss:0.89858\n",
      "[216]\ttrain-merror:0.02880\ttrain-mlogloss:0.24575\teval-merror:0.29518\teval-mlogloss:0.89856\n",
      "[217]\ttrain-merror:0.02880\ttrain-mlogloss:0.24501\teval-merror:0.29518\teval-mlogloss:0.89841\n",
      "[218]\ttrain-merror:0.02880\ttrain-mlogloss:0.24440\teval-merror:0.29518\teval-mlogloss:0.89791\n",
      "[219]\ttrain-merror:0.02880\ttrain-mlogloss:0.24374\teval-merror:0.29518\teval-mlogloss:0.89806\n",
      "[220]\ttrain-merror:0.02880\ttrain-mlogloss:0.24307\teval-merror:0.29518\teval-mlogloss:0.89744\n",
      "[221]\ttrain-merror:0.02880\ttrain-mlogloss:0.24244\teval-merror:0.29518\teval-mlogloss:0.89666\n",
      "[222]\ttrain-merror:0.02880\ttrain-mlogloss:0.24180\teval-merror:0.29518\teval-mlogloss:0.89703\n",
      "[223]\ttrain-merror:0.02880\ttrain-mlogloss:0.24116\teval-merror:0.29518\teval-mlogloss:0.89613\n",
      "[224]\ttrain-merror:0.02880\ttrain-mlogloss:0.24049\teval-merror:0.29518\teval-mlogloss:0.89604\n",
      "[225]\ttrain-merror:0.02880\ttrain-mlogloss:0.23982\teval-merror:0.29518\teval-mlogloss:0.89550\n",
      "[226]\ttrain-merror:0.02880\ttrain-mlogloss:0.23910\teval-merror:0.29518\teval-mlogloss:0.89516\n",
      "[227]\ttrain-merror:0.02880\ttrain-mlogloss:0.23834\teval-merror:0.29518\teval-mlogloss:0.89563\n",
      "[228]\ttrain-merror:0.02880\ttrain-mlogloss:0.23777\teval-merror:0.29518\teval-mlogloss:0.89530\n",
      "[229]\ttrain-merror:0.02880\ttrain-mlogloss:0.23717\teval-merror:0.29518\teval-mlogloss:0.89506\n",
      "[230]\ttrain-merror:0.02880\ttrain-mlogloss:0.23662\teval-merror:0.29518\teval-mlogloss:0.89479\n",
      "[231]\ttrain-merror:0.02880\ttrain-mlogloss:0.23611\teval-merror:0.29518\teval-mlogloss:0.89432\n",
      "[232]\ttrain-merror:0.02880\ttrain-mlogloss:0.23553\teval-merror:0.29518\teval-mlogloss:0.89428\n",
      "[233]\ttrain-merror:0.02880\ttrain-mlogloss:0.23503\teval-merror:0.29518\teval-mlogloss:0.89464\n",
      "[234]\ttrain-merror:0.02880\ttrain-mlogloss:0.23444\teval-merror:0.29518\teval-mlogloss:0.89451\n",
      "[235]\ttrain-merror:0.02880\ttrain-mlogloss:0.23382\teval-merror:0.29518\teval-mlogloss:0.89418\n",
      "[236]\ttrain-merror:0.02880\ttrain-mlogloss:0.23331\teval-merror:0.29518\teval-mlogloss:0.89420\n",
      "[237]\ttrain-merror:0.02880\ttrain-mlogloss:0.23271\teval-merror:0.29518\teval-mlogloss:0.89440\n",
      "[238]\ttrain-merror:0.02880\ttrain-mlogloss:0.23214\teval-merror:0.29518\teval-mlogloss:0.89412\n",
      "[239]\ttrain-merror:0.02880\ttrain-mlogloss:0.23156\teval-merror:0.29518\teval-mlogloss:0.89357\n",
      "[240]\ttrain-merror:0.02880\ttrain-mlogloss:0.23103\teval-merror:0.29518\teval-mlogloss:0.89343\n",
      "[241]\ttrain-merror:0.02880\ttrain-mlogloss:0.23046\teval-merror:0.29518\teval-mlogloss:0.89345\n",
      "[242]\ttrain-merror:0.02880\ttrain-mlogloss:0.22988\teval-merror:0.29518\teval-mlogloss:0.89361\n",
      "[243]\ttrain-merror:0.02880\ttrain-mlogloss:0.22937\teval-merror:0.29518\teval-mlogloss:0.89392\n",
      "[244]\ttrain-merror:0.02880\ttrain-mlogloss:0.22892\teval-merror:0.29518\teval-mlogloss:0.89374\n",
      "[245]\ttrain-merror:0.02880\ttrain-mlogloss:0.22835\teval-merror:0.29518\teval-mlogloss:0.89428\n",
      "[246]\ttrain-merror:0.02880\ttrain-mlogloss:0.22784\teval-merror:0.29518\teval-mlogloss:0.89427\n",
      "[247]\ttrain-merror:0.02880\ttrain-mlogloss:0.22736\teval-merror:0.29518\teval-mlogloss:0.89358\n",
      "[248]\ttrain-merror:0.02880\ttrain-mlogloss:0.22682\teval-merror:0.29518\teval-mlogloss:0.89359\n",
      "[249]\ttrain-merror:0.02880\ttrain-mlogloss:0.22625\teval-merror:0.29518\teval-mlogloss:0.89319\n",
      "[250]\ttrain-merror:0.02880\ttrain-mlogloss:0.22577\teval-merror:0.29518\teval-mlogloss:0.89280\n",
      "[251]\ttrain-merror:0.02720\ttrain-mlogloss:0.22522\teval-merror:0.29518\teval-mlogloss:0.89318\n",
      "[252]\ttrain-merror:0.02720\ttrain-mlogloss:0.22477\teval-merror:0.29518\teval-mlogloss:0.89352\n",
      "[253]\ttrain-merror:0.02720\ttrain-mlogloss:0.22422\teval-merror:0.29518\teval-mlogloss:0.89405\n",
      "[254]\ttrain-merror:0.02720\ttrain-mlogloss:0.22376\teval-merror:0.29518\teval-mlogloss:0.89341\n",
      "[255]\ttrain-merror:0.02720\ttrain-mlogloss:0.22334\teval-merror:0.29518\teval-mlogloss:0.89297\n",
      "[256]\ttrain-merror:0.02720\ttrain-mlogloss:0.22283\teval-merror:0.29518\teval-mlogloss:0.89272\n",
      "[257]\ttrain-merror:0.02720\ttrain-mlogloss:0.22236\teval-merror:0.29518\teval-mlogloss:0.89264\n",
      "[258]\ttrain-merror:0.02720\ttrain-mlogloss:0.22192\teval-merror:0.29518\teval-mlogloss:0.89234\n",
      "[259]\ttrain-merror:0.02720\ttrain-mlogloss:0.22152\teval-merror:0.29518\teval-mlogloss:0.89202\n",
      "[260]\ttrain-merror:0.02720\ttrain-mlogloss:0.22106\teval-merror:0.29518\teval-mlogloss:0.89165\n",
      "[261]\ttrain-merror:0.02720\ttrain-mlogloss:0.22055\teval-merror:0.29518\teval-mlogloss:0.89086\n",
      "[262]\ttrain-merror:0.02720\ttrain-mlogloss:0.22017\teval-merror:0.29518\teval-mlogloss:0.89065\n",
      "[263]\ttrain-merror:0.02720\ttrain-mlogloss:0.21969\teval-merror:0.29518\teval-mlogloss:0.89093\n",
      "[264]\ttrain-merror:0.02720\ttrain-mlogloss:0.21930\teval-merror:0.29518\teval-mlogloss:0.89005\n",
      "[265]\ttrain-merror:0.02720\ttrain-mlogloss:0.21886\teval-merror:0.29518\teval-mlogloss:0.88968\n",
      "[266]\ttrain-merror:0.02720\ttrain-mlogloss:0.21849\teval-merror:0.29518\teval-mlogloss:0.88972\n",
      "[267]\ttrain-merror:0.02720\ttrain-mlogloss:0.21807\teval-merror:0.29518\teval-mlogloss:0.88966\n",
      "[268]\ttrain-merror:0.02720\ttrain-mlogloss:0.21765\teval-merror:0.29518\teval-mlogloss:0.89007\n",
      "[269]\ttrain-merror:0.02720\ttrain-mlogloss:0.21723\teval-merror:0.29518\teval-mlogloss:0.88989\n",
      "[270]\ttrain-merror:0.02720\ttrain-mlogloss:0.21680\teval-merror:0.29518\teval-mlogloss:0.89001\n",
      "[271]\ttrain-merror:0.02720\ttrain-mlogloss:0.21633\teval-merror:0.29518\teval-mlogloss:0.89025\n",
      "[272]\ttrain-merror:0.02720\ttrain-mlogloss:0.21593\teval-merror:0.29518\teval-mlogloss:0.89039\n",
      "[273]\ttrain-merror:0.02720\ttrain-mlogloss:0.21557\teval-merror:0.29518\teval-mlogloss:0.89012\n",
      "[274]\ttrain-merror:0.02720\ttrain-mlogloss:0.21514\teval-merror:0.29518\teval-mlogloss:0.88956\n",
      "[275]\ttrain-merror:0.02720\ttrain-mlogloss:0.21472\teval-merror:0.29518\teval-mlogloss:0.88982\n",
      "[276]\ttrain-merror:0.02720\ttrain-mlogloss:0.21426\teval-merror:0.29518\teval-mlogloss:0.88952\n",
      "[277]\ttrain-merror:0.02720\ttrain-mlogloss:0.21384\teval-merror:0.29518\teval-mlogloss:0.88898\n",
      "[278]\ttrain-merror:0.02720\ttrain-mlogloss:0.21340\teval-merror:0.29518\teval-mlogloss:0.88956\n",
      "[279]\ttrain-merror:0.02720\ttrain-mlogloss:0.21304\teval-merror:0.29518\teval-mlogloss:0.88921\n",
      "[280]\ttrain-merror:0.02720\ttrain-mlogloss:0.21269\teval-merror:0.29518\teval-mlogloss:0.88988\n",
      "[281]\ttrain-merror:0.02720\ttrain-mlogloss:0.21228\teval-merror:0.29518\teval-mlogloss:0.88966\n",
      "[282]\ttrain-merror:0.02720\ttrain-mlogloss:0.21189\teval-merror:0.29518\teval-mlogloss:0.88950\n",
      "[283]\ttrain-merror:0.02720\ttrain-mlogloss:0.21150\teval-merror:0.29518\teval-mlogloss:0.88950\n",
      "[284]\ttrain-merror:0.02720\ttrain-mlogloss:0.21116\teval-merror:0.29518\teval-mlogloss:0.88926\n",
      "[285]\ttrain-merror:0.02560\ttrain-mlogloss:0.21076\teval-merror:0.29518\teval-mlogloss:0.88873\n",
      "[286]\ttrain-merror:0.02720\ttrain-mlogloss:0.21038\teval-merror:0.29518\teval-mlogloss:0.88803\n",
      "[287]\ttrain-merror:0.02720\ttrain-mlogloss:0.21000\teval-merror:0.28916\teval-mlogloss:0.88764\n",
      "[288]\ttrain-merror:0.02560\ttrain-mlogloss:0.20962\teval-merror:0.28916\teval-mlogloss:0.88767\n",
      "[289]\ttrain-merror:0.02720\ttrain-mlogloss:0.20925\teval-merror:0.28916\teval-mlogloss:0.88716\n",
      "[290]\ttrain-merror:0.02720\ttrain-mlogloss:0.20891\teval-merror:0.29518\teval-mlogloss:0.88763\n",
      "[291]\ttrain-merror:0.02720\ttrain-mlogloss:0.20852\teval-merror:0.29518\teval-mlogloss:0.88746\n",
      "[292]\ttrain-merror:0.02720\ttrain-mlogloss:0.20819\teval-merror:0.29518\teval-mlogloss:0.88698\n",
      "[293]\ttrain-merror:0.02720\ttrain-mlogloss:0.20784\teval-merror:0.28916\teval-mlogloss:0.88666\n",
      "[294]\ttrain-merror:0.02720\ttrain-mlogloss:0.20746\teval-merror:0.29518\teval-mlogloss:0.88640\n",
      "[295]\ttrain-merror:0.02720\ttrain-mlogloss:0.20713\teval-merror:0.29518\teval-mlogloss:0.88622\n",
      "[296]\ttrain-merror:0.02560\ttrain-mlogloss:0.20676\teval-merror:0.29518\teval-mlogloss:0.88593\n",
      "[297]\ttrain-merror:0.02560\ttrain-mlogloss:0.20641\teval-merror:0.29518\teval-mlogloss:0.88625\n",
      "[298]\ttrain-merror:0.02560\ttrain-mlogloss:0.20609\teval-merror:0.29518\teval-mlogloss:0.88629\n",
      "[299]\ttrain-merror:0.02560\ttrain-mlogloss:0.20577\teval-merror:0.29518\teval-mlogloss:0.88632\n",
      "[300]\ttrain-merror:0.02560\ttrain-mlogloss:0.20542\teval-merror:0.29518\teval-mlogloss:0.88662\n",
      "[301]\ttrain-merror:0.02560\ttrain-mlogloss:0.20510\teval-merror:0.29518\teval-mlogloss:0.88630\n",
      "[302]\ttrain-merror:0.02560\ttrain-mlogloss:0.20479\teval-merror:0.29518\teval-mlogloss:0.88630\n",
      "[303]\ttrain-merror:0.02560\ttrain-mlogloss:0.20442\teval-merror:0.29518\teval-mlogloss:0.88588\n",
      "[304]\ttrain-merror:0.02560\ttrain-mlogloss:0.20406\teval-merror:0.29518\teval-mlogloss:0.88553\n",
      "[305]\ttrain-merror:0.02560\ttrain-mlogloss:0.20376\teval-merror:0.29518\teval-mlogloss:0.88573\n",
      "[306]\ttrain-merror:0.02560\ttrain-mlogloss:0.20342\teval-merror:0.29518\teval-mlogloss:0.88554\n",
      "[307]\ttrain-merror:0.02560\ttrain-mlogloss:0.20311\teval-merror:0.29518\teval-mlogloss:0.88553\n",
      "[308]\ttrain-merror:0.02560\ttrain-mlogloss:0.20280\teval-merror:0.29518\teval-mlogloss:0.88520\n",
      "[309]\ttrain-merror:0.02560\ttrain-mlogloss:0.20249\teval-merror:0.29518\teval-mlogloss:0.88522\n",
      "[310]\ttrain-merror:0.02400\ttrain-mlogloss:0.20218\teval-merror:0.29518\teval-mlogloss:0.88526\n",
      "[311]\ttrain-merror:0.02560\ttrain-mlogloss:0.20186\teval-merror:0.29518\teval-mlogloss:0.88556\n",
      "[312]\ttrain-merror:0.02400\ttrain-mlogloss:0.20156\teval-merror:0.29518\teval-mlogloss:0.88566\n",
      "[313]\ttrain-merror:0.02560\ttrain-mlogloss:0.20126\teval-merror:0.29518\teval-mlogloss:0.88533\n",
      "[314]\ttrain-merror:0.02400\ttrain-mlogloss:0.20097\teval-merror:0.29518\teval-mlogloss:0.88570\n",
      "[315]\ttrain-merror:0.02400\ttrain-mlogloss:0.20068\teval-merror:0.29518\teval-mlogloss:0.88595\n",
      "[316]\ttrain-merror:0.02400\ttrain-mlogloss:0.20038\teval-merror:0.29518\teval-mlogloss:0.88590\n",
      "[317]\ttrain-merror:0.02400\ttrain-mlogloss:0.20008\teval-merror:0.29518\teval-mlogloss:0.88545\n",
      "[318]\ttrain-merror:0.02400\ttrain-mlogloss:0.19979\teval-merror:0.29518\teval-mlogloss:0.88544\n",
      "Best merror: 0.89 in 309 rounds\n"
     ]
    }
   ],
   "source": [
    "# train model with that\n",
    "evals_result = {}\n",
    "\n",
    "model = xgb.train(\n",
    "    params,\n",
    "    dtrain,\n",
    "    num_boost_round=999,\n",
    "    evals=[(dtrain, \"train\"), (dtest, \"eval\")],\n",
    "    early_stopping_rounds=10,\n",
    "    evals_result = evals_result\n",
    ")\n",
    "print(\"Best merror: {:.2f} in {} rounds\".format(model.best_score, model.best_iteration+1))"
   ]
  },
  {
   "cell_type": "code",
   "execution_count": 22,
   "metadata": {
    "execution": {
     "iopub.execute_input": "2024-06-04T15:08:32.191262Z",
     "iopub.status.busy": "2024-06-04T15:08:32.190740Z",
     "iopub.status.idle": "2024-06-04T15:08:32.382460Z",
     "shell.execute_reply": "2024-06-04T15:08:32.381713Z"
    }
   },
   "outputs": [
    {
     "data": {
      "image/png": "[encoded data removed]",
      "text/plain": [
       "<Figure size 640x480 with 1 Axes>"
      ]
     },
     "metadata": {},
     "output_type": "display_data"
    }
   ],
   "source": [
    "epochs = len(evals_result['train']['mlogloss'])\n",
    "x_axis = range(0, epochs)\n",
    "\n",
    "fig, ax = plt.subplots()\n",
    "ax.plot(x_axis, evals_result['train']['mlogloss'], label='Train')\n",
    "ax.plot(x_axis, evals_result['eval']['mlogloss'], label='Eval')\n",
    "ax.legend()\n",
    "plt.ylabel('Log Loss')\n",
    "plt.xlabel('iteration')\n",
    "plt.title('Log Loss')\n",
    "plt.show()"
   ]
  },
  {
   "cell_type": "code",
   "execution_count": 23,
   "metadata": {
    "execution": {
     "iopub.execute_input": "2024-06-04T15:08:32.385155Z",
     "iopub.status.busy": "2024-06-04T15:08:32.384829Z",
     "iopub.status.idle": "2024-06-04T15:08:32.577129Z",
     "shell.execute_reply": "2024-06-04T15:08:32.576381Z"
    }
   },
   "outputs": [
    {
     "data": {
      "image/png": "[encoded data removed]",
      "text/plain": [
       "<Figure size 900x500 with 1 Axes>"
      ]
     },
     "metadata": {},
     "output_type": "display_data"
    }
   ],
   "source": [
    "# xgboost 'merror' plot\n",
    "fig, ax = plt.subplots(figsize=(9,5))\n",
    "ax.plot(x_axis, evals_result['train']['merror'], label='Train')\n",
    "ax.plot(x_axis, evals_result['eval']['merror'], label='Test')\n",
    "ax.legend()\n",
    "plt.ylabel('merror')\n",
    "plt.xlabel('iteration')\n",
    "plt.title('XGBoost merror')\n",
    "plt.show()"
   ]
  },
  {
   "cell_type": "code",
   "execution_count": 24,
   "metadata": {
    "execution": {
     "iopub.execute_input": "2024-06-04T15:08:32.579963Z",
     "iopub.status.busy": "2024-06-04T15:08:32.579625Z",
     "iopub.status.idle": "2024-06-04T15:18:35.424711Z",
     "shell.execute_reply": "2024-06-04T15:18:35.423915Z"
    }
   },
   "outputs": [
    {
     "name": "stderr",
     "output_type": "stream",
     "text": [
      "[17:08:32] WARNING: /home/conda/feedstock_root/build_artifacts/xgboost-split_1705650052425/work/src/context.cc:44: No visible GPU is found, setting device to CPU.\n"
     ]
    },
    {
     "name": "stdout",
     "output_type": "stream",
     "text": [
      "[0]\tTest-merror:0.40964\tTest-mlogloss:2.66099\n",
      "[1]\tTest-merror:0.39759\tTest-mlogloss:2.53208\n",
      "[2]\tTest-merror:0.40361\tTest-mlogloss:2.42109\n",
      "[3]\tTest-merror:0.42169\tTest-mlogloss:2.32871\n",
      "[4]\tTest-merror:0.40361\tTest-mlogloss:2.24031\n",
      "[5]\tTest-merror:0.40964\tTest-mlogloss:2.16556\n",
      "[6]\tTest-merror:0.39157\tTest-mlogloss:2.10425\n",
      "[7]\tTest-merror:0.38554\tTest-mlogloss:2.04452\n",
      "[8]\tTest-merror:0.37349\tTest-mlogloss:1.98865\n",
      "[9]\tTest-merror:0.38554\tTest-mlogloss:1.93466\n",
      "[10]\tTest-merror:0.37952\tTest-mlogloss:1.88788\n",
      "[11]\tTest-merror:0.37952\tTest-mlogloss:1.84628\n",
      "[12]\tTest-merror:0.37349\tTest-mlogloss:1.80667\n",
      "[13]\tTest-merror:0.36747\tTest-mlogloss:1.76638\n",
      "[14]\tTest-merror:0.37349\tTest-mlogloss:1.72767\n",
      "[15]\tTest-merror:0.36145\tTest-mlogloss:1.69058\n",
      "[16]\tTest-merror:0.34940\tTest-mlogloss:1.65946\n",
      "[17]\tTest-merror:0.34940\tTest-mlogloss:1.62735\n",
      "[18]\tTest-merror:0.34337\tTest-mlogloss:1.59699\n",
      "[19]\tTest-merror:0.35542\tTest-mlogloss:1.57008\n",
      "[20]\tTest-merror:0.34337\tTest-mlogloss:1.54443\n",
      "[21]\tTest-merror:0.33735\tTest-mlogloss:1.52037\n",
      "[22]\tTest-merror:0.33735\tTest-mlogloss:1.49436\n",
      "[23]\tTest-merror:0.34940\tTest-mlogloss:1.47139\n",
      "[24]\tTest-merror:0.34940\tTest-mlogloss:1.44903\n",
      "[25]\tTest-merror:0.33735\tTest-mlogloss:1.42650\n",
      "[26]\tTest-merror:0.32530\tTest-mlogloss:1.40596\n",
      "[27]\tTest-merror:0.31325\tTest-mlogloss:1.38604\n",
      "[28]\tTest-merror:0.31325\tTest-mlogloss:1.36623\n",
      "[29]\tTest-merror:0.31928\tTest-mlogloss:1.34697\n",
      "[30]\tTest-merror:0.30723\tTest-mlogloss:1.33172\n",
      "[31]\tTest-merror:0.31325\tTest-mlogloss:1.31347\n",
      "[32]\tTest-merror:0.30723\tTest-mlogloss:1.29799\n",
      "[33]\tTest-merror:0.30723\tTest-mlogloss:1.28232\n",
      "[34]\tTest-merror:0.31928\tTest-mlogloss:1.26775\n",
      "[35]\tTest-merror:0.30723\tTest-mlogloss:1.25166\n",
      "[36]\tTest-merror:0.30723\tTest-mlogloss:1.24064\n",
      "[37]\tTest-merror:0.32530\tTest-mlogloss:1.22709\n",
      "[38]\tTest-merror:0.31325\tTest-mlogloss:1.21443\n",
      "[39]\tTest-merror:0.31928\tTest-mlogloss:1.20142\n",
      "[40]\tTest-merror:0.30723\tTest-mlogloss:1.19006\n",
      "[41]\tTest-merror:0.31928\tTest-mlogloss:1.17944\n",
      "[42]\tTest-merror:0.31325\tTest-mlogloss:1.16869\n",
      "[43]\tTest-merror:0.31928\tTest-mlogloss:1.15882\n",
      "[44]\tTest-merror:0.31928\tTest-mlogloss:1.15063\n",
      "[45]\tTest-merror:0.31325\tTest-mlogloss:1.14276\n",
      "[46]\tTest-merror:0.31325\tTest-mlogloss:1.13543\n",
      "[47]\tTest-merror:0.31325\tTest-mlogloss:1.12631\n",
      "[48]\tTest-merror:0.31325\tTest-mlogloss:1.11923\n",
      "[49]\tTest-merror:0.31325\tTest-mlogloss:1.11231\n",
      "[50]\tTest-merror:0.31325\tTest-mlogloss:1.10414\n",
      "[51]\tTest-merror:0.31325\tTest-mlogloss:1.09792\n",
      "[52]\tTest-merror:0.31325\tTest-mlogloss:1.09270\n",
      "[53]\tTest-merror:0.31325\tTest-mlogloss:1.08510\n",
      "[54]\tTest-merror:0.32530\tTest-mlogloss:1.07986\n",
      "[55]\tTest-merror:0.31325\tTest-mlogloss:1.07480\n",
      "[56]\tTest-merror:0.31325\tTest-mlogloss:1.07019\n",
      "[57]\tTest-merror:0.31928\tTest-mlogloss:1.06612\n",
      "[58]\tTest-merror:0.31928\tTest-mlogloss:1.06321\n",
      "[59]\tTest-merror:0.31928\tTest-mlogloss:1.05794\n",
      "[60]\tTest-merror:0.31325\tTest-mlogloss:1.05351\n",
      "[61]\tTest-merror:0.31928\tTest-mlogloss:1.04886\n",
      "[62]\tTest-merror:0.31928\tTest-mlogloss:1.04697\n",
      "[63]\tTest-merror:0.32530\tTest-mlogloss:1.04366\n",
      "[64]\tTest-merror:0.31928\tTest-mlogloss:1.04131\n",
      "[65]\tTest-merror:0.31928\tTest-mlogloss:1.03739\n",
      "[66]\tTest-merror:0.32530\tTest-mlogloss:1.03658\n",
      "[67]\tTest-merror:0.31928\tTest-mlogloss:1.03488\n",
      "[68]\tTest-merror:0.31928\tTest-mlogloss:1.03187\n",
      "[69]\tTest-merror:0.31928\tTest-mlogloss:1.03017\n",
      "[70]\tTest-merror:0.31928\tTest-mlogloss:1.02570\n",
      "[71]\tTest-merror:0.30723\tTest-mlogloss:1.02365\n",
      "[72]\tTest-merror:0.31325\tTest-mlogloss:1.02124\n",
      "[73]\tTest-merror:0.31325\tTest-mlogloss:1.01977\n",
      "[74]\tTest-merror:0.31325\tTest-mlogloss:1.01749\n",
      "[75]\tTest-merror:0.31325\tTest-mlogloss:1.01438\n",
      "[76]\tTest-merror:0.31325\tTest-mlogloss:1.01381\n",
      "[77]\tTest-merror:0.31325\tTest-mlogloss:1.01167\n",
      "[78]\tTest-merror:0.31325\tTest-mlogloss:1.00944\n",
      "[79]\tTest-merror:0.31325\tTest-mlogloss:1.00862\n",
      "[80]\tTest-merror:0.31325\tTest-mlogloss:1.00655\n",
      "[81]\tTest-merror:0.31325\tTest-mlogloss:1.00482\n",
      "[82]\tTest-merror:0.31325\tTest-mlogloss:1.00471\n",
      "[83]\tTest-merror:0.31325\tTest-mlogloss:1.00331\n",
      "[84]\tTest-merror:0.31325\tTest-mlogloss:1.00264\n",
      "[85]\tTest-merror:0.31325\tTest-mlogloss:1.00167\n",
      "[86]\tTest-merror:0.31325\tTest-mlogloss:1.00080\n",
      "[87]\tTest-merror:0.31325\tTest-mlogloss:0.99908\n",
      "[88]\tTest-merror:0.31325\tTest-mlogloss:0.99600\n",
      "[89]\tTest-merror:0.31325\tTest-mlogloss:0.99471\n",
      "[90]\tTest-merror:0.31325\tTest-mlogloss:0.99297\n",
      "[91]\tTest-merror:0.31325\tTest-mlogloss:0.99146\n",
      "[92]\tTest-merror:0.31325\tTest-mlogloss:0.99008\n",
      "[93]\tTest-merror:0.31325\tTest-mlogloss:0.98744\n",
      "[94]\tTest-merror:0.31325\tTest-mlogloss:0.98565\n",
      "[95]\tTest-merror:0.31325\tTest-mlogloss:0.98504\n",
      "[96]\tTest-merror:0.31928\tTest-mlogloss:0.98230\n",
      "[97]\tTest-merror:0.31325\tTest-mlogloss:0.98135\n",
      "[98]\tTest-merror:0.31325\tTest-mlogloss:0.98039\n",
      "[99]\tTest-merror:0.31928\tTest-mlogloss:0.98039\n",
      "[100]\tTest-merror:0.31928\tTest-mlogloss:0.97934\n",
      "[101]\tTest-merror:0.31928\tTest-mlogloss:0.97884\n",
      "[102]\tTest-merror:0.31928\tTest-mlogloss:0.97776\n",
      "[103]\tTest-merror:0.31928\tTest-mlogloss:0.97562\n",
      "[104]\tTest-merror:0.31928\tTest-mlogloss:0.97446\n",
      "[105]\tTest-merror:0.31928\tTest-mlogloss:0.97271\n",
      "[106]\tTest-merror:0.31928\tTest-mlogloss:0.97158\n",
      "[107]\tTest-merror:0.31928\tTest-mlogloss:0.97006\n",
      "[108]\tTest-merror:0.31928\tTest-mlogloss:0.96912\n",
      "[109]\tTest-merror:0.31928\tTest-mlogloss:0.96767\n",
      "[110]\tTest-merror:0.31928\tTest-mlogloss:0.96515\n",
      "[111]\tTest-merror:0.31325\tTest-mlogloss:0.96305\n",
      "[112]\tTest-merror:0.31928\tTest-mlogloss:0.96328\n",
      "[113]\tTest-merror:0.31928\tTest-mlogloss:0.96172\n",
      "[114]\tTest-merror:0.31325\tTest-mlogloss:0.95980\n",
      "[115]\tTest-merror:0.30723\tTest-mlogloss:0.95737\n",
      "[116]\tTest-merror:0.30723\tTest-mlogloss:0.95640\n",
      "[117]\tTest-merror:0.30723\tTest-mlogloss:0.95551\n",
      "[118]\tTest-merror:0.30723\tTest-mlogloss:0.95416\n",
      "[119]\tTest-merror:0.30723\tTest-mlogloss:0.95248\n",
      "[120]\tTest-merror:0.30723\tTest-mlogloss:0.95133\n",
      "[121]\tTest-merror:0.30723\tTest-mlogloss:0.95042\n",
      "[122]\tTest-merror:0.30723\tTest-mlogloss:0.94959\n",
      "[123]\tTest-merror:0.30723\tTest-mlogloss:0.94869\n",
      "[124]\tTest-merror:0.30723\tTest-mlogloss:0.94743\n",
      "[125]\tTest-merror:0.30723\tTest-mlogloss:0.94724\n",
      "[126]\tTest-merror:0.30723\tTest-mlogloss:0.94545\n",
      "[127]\tTest-merror:0.30723\tTest-mlogloss:0.94436\n",
      "[128]\tTest-merror:0.30723\tTest-mlogloss:0.94222\n",
      "[129]\tTest-merror:0.30723\tTest-mlogloss:0.94104\n",
      "[130]\tTest-merror:0.30723\tTest-mlogloss:0.94002\n",
      "[131]\tTest-merror:0.30723\tTest-mlogloss:0.93870\n",
      "[132]\tTest-merror:0.30723\tTest-mlogloss:0.93869\n",
      "[133]\tTest-merror:0.30723\tTest-mlogloss:0.93839\n",
      "[134]\tTest-merror:0.30723\tTest-mlogloss:0.93741\n",
      "[135]\tTest-merror:0.30723\tTest-mlogloss:0.93668\n",
      "[136]\tTest-merror:0.30723\tTest-mlogloss:0.93505\n",
      "[137]\tTest-merror:0.30723\tTest-mlogloss:0.93439\n",
      "[138]\tTest-merror:0.30723\tTest-mlogloss:0.93328\n",
      "[139]\tTest-merror:0.30723\tTest-mlogloss:0.93346\n",
      "[140]\tTest-merror:0.30723\tTest-mlogloss:0.93225\n",
      "[141]\tTest-merror:0.30723\tTest-mlogloss:0.93196\n",
      "[142]\tTest-merror:0.30723\tTest-mlogloss:0.93053\n",
      "[143]\tTest-merror:0.30723\tTest-mlogloss:0.93038\n",
      "[144]\tTest-merror:0.30723\tTest-mlogloss:0.92950\n",
      "[145]\tTest-merror:0.30723\tTest-mlogloss:0.92944\n",
      "[146]\tTest-merror:0.30723\tTest-mlogloss:0.92894\n",
      "[147]\tTest-merror:0.30723\tTest-mlogloss:0.92822\n",
      "[148]\tTest-merror:0.30723\tTest-mlogloss:0.92789\n",
      "[149]\tTest-merror:0.30723\tTest-mlogloss:0.92779\n",
      "[150]\tTest-merror:0.30723\tTest-mlogloss:0.92771\n",
      "[151]\tTest-merror:0.30723\tTest-mlogloss:0.92752\n",
      "[152]\tTest-merror:0.30723\tTest-mlogloss:0.92605\n",
      "[153]\tTest-merror:0.30723\tTest-mlogloss:0.92610\n",
      "[154]\tTest-merror:0.30723\tTest-mlogloss:0.92559\n",
      "[155]\tTest-merror:0.30723\tTest-mlogloss:0.92539\n",
      "[156]\tTest-merror:0.30723\tTest-mlogloss:0.92502\n",
      "[157]\tTest-merror:0.30723\tTest-mlogloss:0.92497\n",
      "[158]\tTest-merror:0.30723\tTest-mlogloss:0.92433\n",
      "[159]\tTest-merror:0.30723\tTest-mlogloss:0.92336\n",
      "[160]\tTest-merror:0.30723\tTest-mlogloss:0.92324\n",
      "[161]\tTest-merror:0.30723\tTest-mlogloss:0.92270\n",
      "[162]\tTest-merror:0.30723\tTest-mlogloss:0.92212\n",
      "[163]\tTest-merror:0.30723\tTest-mlogloss:0.92235\n",
      "[164]\tTest-merror:0.30723\tTest-mlogloss:0.92218\n",
      "[165]\tTest-merror:0.30723\tTest-mlogloss:0.92130\n",
      "[166]\tTest-merror:0.30723\tTest-mlogloss:0.92075\n",
      "[167]\tTest-merror:0.30723\tTest-mlogloss:0.92071\n",
      "[168]\tTest-merror:0.30723\tTest-mlogloss:0.91948\n",
      "[169]\tTest-merror:0.30723\tTest-mlogloss:0.91869\n",
      "[170]\tTest-merror:0.30120\tTest-mlogloss:0.91790\n",
      "[171]\tTest-merror:0.30120\tTest-mlogloss:0.91743\n",
      "[172]\tTest-merror:0.30120\tTest-mlogloss:0.91681\n",
      "[173]\tTest-merror:0.30120\tTest-mlogloss:0.91526\n",
      "[174]\tTest-merror:0.30120\tTest-mlogloss:0.91437\n",
      "[175]\tTest-merror:0.30120\tTest-mlogloss:0.91401\n",
      "[176]\tTest-merror:0.30120\tTest-mlogloss:0.91349\n",
      "[177]\tTest-merror:0.30120\tTest-mlogloss:0.91192\n",
      "[178]\tTest-merror:0.30120\tTest-mlogloss:0.91202\n",
      "[179]\tTest-merror:0.30120\tTest-mlogloss:0.91128\n",
      "[180]\tTest-merror:0.30120\tTest-mlogloss:0.91110\n",
      "[181]\tTest-merror:0.30120\tTest-mlogloss:0.91117\n",
      "[182]\tTest-merror:0.30120\tTest-mlogloss:0.91087\n",
      "[183]\tTest-merror:0.30120\tTest-mlogloss:0.91007\n",
      "[184]\tTest-merror:0.30120\tTest-mlogloss:0.90939\n",
      "[185]\tTest-merror:0.30120\tTest-mlogloss:0.90887\n",
      "[186]\tTest-merror:0.30120\tTest-mlogloss:0.90765\n",
      "[187]\tTest-merror:0.30120\tTest-mlogloss:0.90677\n",
      "[188]\tTest-merror:0.30120\tTest-mlogloss:0.90625\n",
      "[189]\tTest-merror:0.30120\tTest-mlogloss:0.90628\n",
      "[190]\tTest-merror:0.30120\tTest-mlogloss:0.90641\n",
      "[191]\tTest-merror:0.30120\tTest-mlogloss:0.90665\n",
      "[192]\tTest-merror:0.30120\tTest-mlogloss:0.90622\n",
      "[193]\tTest-merror:0.30120\tTest-mlogloss:0.90597\n",
      "[194]\tTest-merror:0.30120\tTest-mlogloss:0.90561\n",
      "[195]\tTest-merror:0.30120\tTest-mlogloss:0.90600\n",
      "[196]\tTest-merror:0.30120\tTest-mlogloss:0.90531\n",
      "[197]\tTest-merror:0.30120\tTest-mlogloss:0.90511\n",
      "[198]\tTest-merror:0.30120\tTest-mlogloss:0.90519\n",
      "[199]\tTest-merror:0.30120\tTest-mlogloss:0.90397\n",
      "[200]\tTest-merror:0.30120\tTest-mlogloss:0.90356\n",
      "[201]\tTest-merror:0.30120\tTest-mlogloss:0.90306\n",
      "[202]\tTest-merror:0.30120\tTest-mlogloss:0.90248\n",
      "[203]\tTest-merror:0.30120\tTest-mlogloss:0.90209\n",
      "[204]\tTest-merror:0.30120\tTest-mlogloss:0.90167\n",
      "[205]\tTest-merror:0.30120\tTest-mlogloss:0.90191\n",
      "[206]\tTest-merror:0.30120\tTest-mlogloss:0.90115\n",
      "[207]\tTest-merror:0.30120\tTest-mlogloss:0.90157\n",
      "[208]\tTest-merror:0.29518\tTest-mlogloss:0.90154\n",
      "[209]\tTest-merror:0.29518\tTest-mlogloss:0.90061\n",
      "[210]\tTest-merror:0.29518\tTest-mlogloss:0.90066\n",
      "[211]\tTest-merror:0.30120\tTest-mlogloss:0.90082\n",
      "[212]\tTest-merror:0.30120\tTest-mlogloss:0.90000\n",
      "[213]\tTest-merror:0.30120\tTest-mlogloss:0.89906\n",
      "[214]\tTest-merror:0.29518\tTest-mlogloss:0.89828\n",
      "[215]\tTest-merror:0.29518\tTest-mlogloss:0.89858\n",
      "[216]\tTest-merror:0.29518\tTest-mlogloss:0.89856\n",
      "[217]\tTest-merror:0.29518\tTest-mlogloss:0.89841\n",
      "[218]\tTest-merror:0.29518\tTest-mlogloss:0.89791\n",
      "[219]\tTest-merror:0.29518\tTest-mlogloss:0.89806\n",
      "[220]\tTest-merror:0.29518\tTest-mlogloss:0.89744\n",
      "[221]\tTest-merror:0.29518\tTest-mlogloss:0.89666\n",
      "[222]\tTest-merror:0.29518\tTest-mlogloss:0.89703\n",
      "[223]\tTest-merror:0.29518\tTest-mlogloss:0.89613\n",
      "[224]\tTest-merror:0.29518\tTest-mlogloss:0.89604\n",
      "[225]\tTest-merror:0.29518\tTest-mlogloss:0.89550\n",
      "[226]\tTest-merror:0.29518\tTest-mlogloss:0.89516\n",
      "[227]\tTest-merror:0.29518\tTest-mlogloss:0.89563\n",
      "[228]\tTest-merror:0.29518\tTest-mlogloss:0.89530\n",
      "[229]\tTest-merror:0.29518\tTest-mlogloss:0.89506\n",
      "[230]\tTest-merror:0.29518\tTest-mlogloss:0.89479\n",
      "[231]\tTest-merror:0.29518\tTest-mlogloss:0.89432\n",
      "[232]\tTest-merror:0.29518\tTest-mlogloss:0.89428\n",
      "[233]\tTest-merror:0.29518\tTest-mlogloss:0.89464\n",
      "[234]\tTest-merror:0.29518\tTest-mlogloss:0.89451\n",
      "[235]\tTest-merror:0.29518\tTest-mlogloss:0.89418\n",
      "[236]\tTest-merror:0.29518\tTest-mlogloss:0.89420\n",
      "[237]\tTest-merror:0.29518\tTest-mlogloss:0.89440\n",
      "[238]\tTest-merror:0.29518\tTest-mlogloss:0.89412\n",
      "[239]\tTest-merror:0.29518\tTest-mlogloss:0.89357\n",
      "[240]\tTest-merror:0.29518\tTest-mlogloss:0.89343\n",
      "[241]\tTest-merror:0.29518\tTest-mlogloss:0.89345\n",
      "[242]\tTest-merror:0.29518\tTest-mlogloss:0.89361\n",
      "[243]\tTest-merror:0.29518\tTest-mlogloss:0.89392\n",
      "[244]\tTest-merror:0.29518\tTest-mlogloss:0.89374\n",
      "[245]\tTest-merror:0.29518\tTest-mlogloss:0.89428\n",
      "[246]\tTest-merror:0.29518\tTest-mlogloss:0.89427\n",
      "[247]\tTest-merror:0.29518\tTest-mlogloss:0.89358\n",
      "[248]\tTest-merror:0.29518\tTest-mlogloss:0.89359\n",
      "[249]\tTest-merror:0.29518\tTest-mlogloss:0.89319\n",
      "[250]\tTest-merror:0.29518\tTest-mlogloss:0.89280\n",
      "[251]\tTest-merror:0.29518\tTest-mlogloss:0.89318\n",
      "[252]\tTest-merror:0.29518\tTest-mlogloss:0.89352\n",
      "[253]\tTest-merror:0.29518\tTest-mlogloss:0.89405\n",
      "[254]\tTest-merror:0.29518\tTest-mlogloss:0.89341\n",
      "[255]\tTest-merror:0.29518\tTest-mlogloss:0.89297\n",
      "[256]\tTest-merror:0.29518\tTest-mlogloss:0.89272\n",
      "[257]\tTest-merror:0.29518\tTest-mlogloss:0.89264\n",
      "[258]\tTest-merror:0.29518\tTest-mlogloss:0.89234\n",
      "[259]\tTest-merror:0.29518\tTest-mlogloss:0.89202\n",
      "[260]\tTest-merror:0.29518\tTest-mlogloss:0.89165\n",
      "[261]\tTest-merror:0.29518\tTest-mlogloss:0.89086\n",
      "[262]\tTest-merror:0.29518\tTest-mlogloss:0.89065\n",
      "[263]\tTest-merror:0.29518\tTest-mlogloss:0.89093\n",
      "[264]\tTest-merror:0.29518\tTest-mlogloss:0.89005\n",
      "[265]\tTest-merror:0.29518\tTest-mlogloss:0.88968\n",
      "[266]\tTest-merror:0.29518\tTest-mlogloss:0.88972\n",
      "[267]\tTest-merror:0.29518\tTest-mlogloss:0.88966\n",
      "[268]\tTest-merror:0.29518\tTest-mlogloss:0.89007\n",
      "[269]\tTest-merror:0.29518\tTest-mlogloss:0.88989\n",
      "[270]\tTest-merror:0.29518\tTest-mlogloss:0.89001\n",
      "[271]\tTest-merror:0.29518\tTest-mlogloss:0.89025\n",
      "[272]\tTest-merror:0.29518\tTest-mlogloss:0.89039\n",
      "[273]\tTest-merror:0.29518\tTest-mlogloss:0.89012\n",
      "[274]\tTest-merror:0.29518\tTest-mlogloss:0.88956\n",
      "[275]\tTest-merror:0.29518\tTest-mlogloss:0.88982\n",
      "[276]\tTest-merror:0.29518\tTest-mlogloss:0.88952\n",
      "[277]\tTest-merror:0.29518\tTest-mlogloss:0.88898\n",
      "[278]\tTest-merror:0.29518\tTest-mlogloss:0.88956\n",
      "[279]\tTest-merror:0.29518\tTest-mlogloss:0.88921\n",
      "[280]\tTest-merror:0.29518\tTest-mlogloss:0.88988\n",
      "[281]\tTest-merror:0.29518\tTest-mlogloss:0.88966\n",
      "[282]\tTest-merror:0.29518\tTest-mlogloss:0.88950\n",
      "[283]\tTest-merror:0.29518\tTest-mlogloss:0.88950\n",
      "[284]\tTest-merror:0.29518\tTest-mlogloss:0.88926\n",
      "[285]\tTest-merror:0.29518\tTest-mlogloss:0.88873\n",
      "[286]\tTest-merror:0.29518\tTest-mlogloss:0.88803\n",
      "[287]\tTest-merror:0.28916\tTest-mlogloss:0.88764\n",
      "[288]\tTest-merror:0.28916\tTest-mlogloss:0.88767\n",
      "[289]\tTest-merror:0.28916\tTest-mlogloss:0.88716\n",
      "[290]\tTest-merror:0.29518\tTest-mlogloss:0.88763\n",
      "[291]\tTest-merror:0.29518\tTest-mlogloss:0.88746\n",
      "[292]\tTest-merror:0.29518\tTest-mlogloss:0.88698\n",
      "[293]\tTest-merror:0.28916\tTest-mlogloss:0.88666\n",
      "[294]\tTest-merror:0.29518\tTest-mlogloss:0.88640\n",
      "[295]\tTest-merror:0.29518\tTest-mlogloss:0.88622\n",
      "[296]\tTest-merror:0.29518\tTest-mlogloss:0.88593\n",
      "[297]\tTest-merror:0.29518\tTest-mlogloss:0.88625\n",
      "[298]\tTest-merror:0.29518\tTest-mlogloss:0.88629\n",
      "[299]\tTest-merror:0.29518\tTest-mlogloss:0.88632\n",
      "[300]\tTest-merror:0.29518\tTest-mlogloss:0.88662\n",
      "[301]\tTest-merror:0.29518\tTest-mlogloss:0.88630\n",
      "[302]\tTest-merror:0.29518\tTest-mlogloss:0.88630\n",
      "[303]\tTest-merror:0.29518\tTest-mlogloss:0.88588\n",
      "[304]\tTest-merror:0.29518\tTest-mlogloss:0.88553\n",
      "[305]\tTest-merror:0.29518\tTest-mlogloss:0.88573\n",
      "[306]\tTest-merror:0.29518\tTest-mlogloss:0.88554\n",
      "[307]\tTest-merror:0.29518\tTest-mlogloss:0.88553\n",
      "[308]\tTest-merror:0.29518\tTest-mlogloss:0.88520\n"
     ]
    }
   ],
   "source": [
    "# saving that \n",
    "evals_result = {}\n",
    "\n",
    "num_boost_round = model.best_iteration + 1\n",
    "best_model = xgb.train(\n",
    "    params,\n",
    "    dtrain,\n",
    "    num_boost_round=num_boost_round,\n",
    "    evals=[(dtest, \"Test\")],\n",
    "    evals_result = evals_result\n",
    ")"
   ]
  },
  {
   "cell_type": "code",
   "execution_count": 25,
   "metadata": {
    "execution": {
     "iopub.execute_input": "2024-06-04T15:18:35.428722Z",
     "iopub.status.busy": "2024-06-04T15:18:35.427967Z",
     "iopub.status.idle": "2024-06-04T15:18:35.436492Z",
     "shell.execute_reply": "2024-06-04T15:18:35.435790Z"
    }
   },
   "outputs": [
    {
     "name": "stderr",
     "output_type": "stream",
     "text": [
      "[17:18:35] WARNING: /home/conda/feedstock_root/build_artifacts/xgboost-split_1705650052425/work/src/c_api/c_api.cc:1240: Saving into deprecated binary model format, please consider using `json` or `ubj`. Model format will default to JSON in XGBoost 2.2 if not specified.\n"
     ]
    }
   ],
   "source": [
    "best_model.save_model(\"bestPdc_softprob.model\")"
   ]
  },
  {
   "cell_type": "code",
   "execution_count": 26,
   "metadata": {
    "execution": {
     "iopub.execute_input": "2024-06-04T15:18:35.439345Z",
     "iopub.status.busy": "2024-06-04T15:18:35.438863Z",
     "iopub.status.idle": "2024-06-04T15:18:35.446890Z",
     "shell.execute_reply": "2024-06-04T15:18:35.446359Z"
    }
   },
   "outputs": [],
   "source": [
    "# use model later: \n",
    "loaded_model = xgb.Booster()\n",
    "loaded_model.load_model(\"bestPdc_softprob.model\")"
   ]
  },
  {
   "cell_type": "code",
   "execution_count": 27,
   "metadata": {
    "execution": {
     "iopub.execute_input": "2024-06-04T15:18:35.449501Z",
     "iopub.status.busy": "2024-06-04T15:18:35.449205Z",
     "iopub.status.idle": "2024-06-04T15:18:35.485493Z",
     "shell.execute_reply": "2024-06-04T15:18:35.484945Z"
    }
   },
   "outputs": [
    {
     "name": "stdout",
     "output_type": "stream",
     "text": [
      "training done\n",
      "SCORE: 0.7048192771084337\n"
     ]
    }
   ],
   "source": [
    "print(\"training done\")\n",
    "y_pred_prob = loaded_model.predict(dtest)\n",
    "y_pred_encoded = np.argmax(y_pred_prob, axis =1)\n",
    "\n",
    "accuracy = accuracy_score(y_test, y_pred_encoded)\n",
    "print (\"SCORE:\", accuracy)"
   ]
  },
  {
   "cell_type": "code",
   "execution_count": 29,
   "metadata": {
    "execution": {
     "iopub.execute_input": "2024-06-04T15:18:35.496466Z",
     "iopub.status.busy": "2024-06-04T15:18:35.495872Z",
     "iopub.status.idle": "2024-06-04T15:18:35.886257Z",
     "shell.execute_reply": "2024-06-04T15:18:35.885538Z"
    }
   },
   "outputs": [
    {
     "data": {
      "image/png": "[encoded data removed]",
      "text/plain": [
       "<Figure size 1400x800 with 1 Axes>"
      ]
     },
     "metadata": {},
     "output_type": "display_data"
    }
   ],
   "source": [
    "# Convert class indices to class labels\n",
    "class_labels = label_table['Decoded_Label'].tolist()\n",
    "df = pd.DataFrame(y_pred_prob, columns=class_labels)\n",
    "\n",
    "# Boxplot for each class\n",
    "plt.figure(figsize=(14, 8))\n",
    "sns.boxplot(data=df)\n",
    "plt.title('Boxplots of probabilities for each class')\n",
    "plt.xlabel('Class')\n",
    "plt.ylabel('Probability')\n",
    "plt.xticks(rotation=45)\n",
    "plt.show()"
   ]
  },
  {
   "cell_type": "markdown",
   "metadata": {},
   "source": [
    "## Apply on Exercise Dataset"
   ]
  },
  {
   "cell_type": "code",
   "execution_count": 30,
   "metadata": {
    "execution": {
     "iopub.execute_input": "2024-06-04T15:18:35.889486Z",
     "iopub.status.busy": "2024-06-04T15:18:35.889002Z",
     "iopub.status.idle": "2024-06-04T15:18:39.780453Z",
     "shell.execute_reply": "2024-06-04T15:18:39.779852Z"
    }
   },
   "outputs": [
    {
     "name": "stdout",
     "output_type": "stream",
     "text": [
      "reading file\n"
     ]
    }
   ],
   "source": [
    "file = \"adata_final.h5ad\"\n",
    "print(\"reading file\")\n",
    "adata2 = sc.read_h5ad(file)\n",
    "modelname = \"Pdc\""
   ]
  },
  {
   "cell_type": "code",
   "execution_count": 31,
   "metadata": {
    "execution": {
     "iopub.execute_input": "2024-06-04T15:18:39.783758Z",
     "iopub.status.busy": "2024-06-04T15:18:39.783107Z",
     "iopub.status.idle": "2024-06-04T15:18:39.790734Z",
     "shell.execute_reply": "2024-06-04T15:18:39.790180Z"
    }
   },
   "outputs": [],
   "source": [
    "bst = xgb.Booster()\n",
    "bst.load_model(\"bestPdc_softprob.model\")"
   ]
  },
  {
   "cell_type": "code",
   "execution_count": 32,
   "metadata": {
    "execution": {
     "iopub.execute_input": "2024-06-04T15:18:39.793494Z",
     "iopub.status.busy": "2024-06-04T15:18:39.793028Z",
     "iopub.status.idle": "2024-06-04T15:18:41.268910Z",
     "shell.execute_reply": "2024-06-04T15:18:41.268472Z"
    }
   },
   "outputs": [],
   "source": [
    "subset = adata2[(adata2.obs[\"celltypist_cell_label_coarse\"] == \"pDC\")]\n",
    "X = subset.to_df()\n",
    "deval = xgb.DMatrix(X) "
   ]
  },
  {
   "cell_type": "code",
   "execution_count": 33,
   "metadata": {
    "execution": {
     "iopub.execute_input": "2024-06-04T15:18:41.271099Z",
     "iopub.status.busy": "2024-06-04T15:18:41.270785Z",
     "iopub.status.idle": "2024-06-04T15:18:41.296976Z",
     "shell.execute_reply": "2024-06-04T15:18:41.296615Z"
    }
   },
   "outputs": [],
   "source": [
    "y_pred_prob_ex = loaded_model.predict(deval) # predict\n",
    "predictions = np.argmax(y_pred_prob_ex, axis =1)"
   ]
  },
  {
   "cell_type": "code",
   "execution_count": 34,
   "metadata": {
    "execution": {
     "iopub.execute_input": "2024-06-04T15:18:41.299296Z",
     "iopub.status.busy": "2024-06-04T15:18:41.299142Z",
     "iopub.status.idle": "2024-06-04T15:18:41.301987Z",
     "shell.execute_reply": "2024-06-04T15:18:41.301463Z"
    }
   },
   "outputs": [],
   "source": [
    "label_mapping = {\n",
    "            0: 'BLD',\n",
    "            1: 'BMA',\n",
    "            2: 'CAE',\n",
    "            3: 'DUO',\n",
    "            4: 'ILE',\n",
    "            5: 'JEJEPI',\n",
    "            6: 'JEJLP',\n",
    "            7: 'LIV',\n",
    "            8: 'LLN',\n",
    "            9: 'LNG',\n",
    "            10: 'MLN',\n",
    "            11: 'OME',\n",
    "            12: 'SCL',\n",
    "            13: 'SKM',\n",
    "            14: 'SPL',\n",
    "            15: 'TCL',\n",
    "            16: 'THY'\n",
    "}"
   ]
  },
  {
   "cell_type": "code",
   "execution_count": 35,
   "metadata": {
    "execution": {
     "iopub.execute_input": "2024-06-04T15:18:41.303652Z",
     "iopub.status.busy": "2024-06-04T15:18:41.303466Z",
     "iopub.status.idle": "2024-06-04T15:18:41.320002Z",
     "shell.execute_reply": "2024-06-04T15:18:41.319552Z"
    }
   },
   "outputs": [
    {
     "name": "stderr",
     "output_type": "stream",
     "text": [
      "Trying to modify attribute `.obs` of view, initializing view as actual.\n"
     ]
    }
   ],
   "source": [
    "# Add predictions to the subset\n",
    "subset.obs[\"Predicted_tissue\"] = [label_mapping[int(pred)] for pred in predictions]\n",
    "subset.obs[\"celltype_model\"] = modelname"
   ]
  },
  {
   "cell_type": "code",
   "execution_count": 36,
   "metadata": {
    "execution": {
     "iopub.execute_input": "2024-06-04T15:18:41.321650Z",
     "iopub.status.busy": "2024-06-04T15:18:41.321405Z",
     "iopub.status.idle": "2024-06-04T15:18:41.655144Z",
     "shell.execute_reply": "2024-06-04T15:18:41.654623Z"
    }
   },
   "outputs": [
    {
     "data": {
      "image/png": "[encoded data removed]",
      "text/plain": [
       "<Figure size 1400x800 with 1 Axes>"
      ]
     },
     "metadata": {},
     "output_type": "display_data"
    }
   ],
   "source": [
    "# Convert class indices to class labels\n",
    "class_labels = [label_mapping[i] for i in range(y_pred_prob_ex.shape[1])]\n",
    "df = pd.DataFrame(y_pred_prob_ex, columns=class_labels)\n",
    "\n",
    "# Boxplot for each class\n",
    "plt.figure(figsize=(14, 8))\n",
    "sns.boxplot(data=df)\n",
    "plt.title('Boxplots of probabilities for each class')\n",
    "plt.xlabel('Class')\n",
    "plt.ylabel('Probability')\n",
    "plt.xticks(rotation=45)\n",
    "plt.show()"
   ]
  },
  {
   "cell_type": "code",
   "execution_count": 39,
   "metadata": {
    "execution": {
     "iopub.execute_input": "2024-06-04T15:18:41.667317Z",
     "iopub.status.busy": "2024-06-04T15:18:41.667151Z",
     "iopub.status.idle": "2024-06-04T15:18:41.675852Z",
     "shell.execute_reply": "2024-06-04T15:18:41.675473Z"
    }
   },
   "outputs": [
    {
     "name": "stdout",
     "output_type": "stream",
     "text": [
      "Timepoint 5b:\n",
      "('5b', 'BLD')\t37\n",
      "('5b', 'BMA')\t14\n",
      "('5b', 'SPL')\t4\n",
      "\n",
      "Timepoint 5a:\n",
      "('5a', 'BLD')\t22\n",
      "('5a', 'BMA')\t16\n",
      "('5a', 'SPL')\t8\n",
      "\n",
      "Timepoint 30a:\n",
      "('30a', 'BLD')\t35\n",
      "('30a', 'BMA')\t16\n",
      "('30a', 'SPL')\t5\n",
      "\n",
      "Timepoint 120a:\n",
      "('120a', 'BLD')\t138\n",
      "('120a', 'BMA')\t65\n",
      "('120a', 'SPL')\t27\n",
      "\n"
     ]
    }
   ],
   "source": [
    "# Extract 'timepoint' and 'Predicted_tissue' columns\n",
    "data = {\n",
    "    'timepoint': subset.obs['timepoint'],\n",
    "    'Predicted_tissue': subset.obs['Predicted_tissue']\n",
    "}\n",
    "df = pd.DataFrame(data)\n",
    "\n",
    "df = pd.DataFrame(data)\n",
    "\n",
    "# Group by timepoint and calculate predicted tissue value counts for each timepoint\n",
    "predicted_tissue_counts_by_timepoint = df.groupby('timepoint')['Predicted_tissue'].value_counts()\n",
    "\n",
    "# Print the predicted tissue value counts for each timepoint\n",
    "for timepoint, counts in predicted_tissue_counts_by_timepoint.groupby(level=0):\n",
    "    print(f\"Timepoint {timepoint}:\")\n",
    "    for tissue, count in counts.items():\n",
    "        print(f\"{tissue}\\t{count}\")\n",
    "    print()\n"
   ]
  }
 ],
 "metadata": {
  "kernelspec": {
   "display_name": "xgboost",
   "language": "python",
   "name": "xgboost"
  },
  "language_info": {
   "codemirror_mode": {
    "name": "ipython",
    "version": 3
   },
   "file_extension": ".py",
   "mimetype": "text/x-python",
   "name": "python",
   "nbconvert_exporter": "python",
   "pygments_lexer": "ipython3",
   "version": "3.8.18"
  }
 },
 "nbformat": 4,
 "nbformat_minor": 4
}
