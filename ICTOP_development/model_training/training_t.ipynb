{
 "cells": [
  {
   "cell_type": "raw",
   "metadata": {},
   "source": [
    "Training of the T cells model"
   ]
  },
  {
   "cell_type": "code",
   "execution_count": 4,
   "metadata": {},
   "outputs": [],
   "source": [
    "# import seaborn as sns\n",
    "import re\n",
    "import pandas as pd\n",
    "import anndata\n",
    "import matplotlib.pyplot as plt\n",
    "import numpy as np\n",
    "import scanpy as sc\n",
    "import seaborn as sns\n",
    "import sklearn\n",
    "from scipy.sparse import vstack\n",
    "from scipy.special import expit\n",
    "from scipy.stats import pearsonr, spearmanr\n",
    "from sklearn import metrics\n",
    "from sklearn.linear_model import LogisticRegression\n",
    "from sklearn.metrics import *\n",
    "from sklearn.metrics import accuracy_score, auc, classification_report, roc_curve\n",
    "from sklearn.model_selection import (\n",
    "    # LearningCurveDisplay,\n",
    "    # learning_curve,\n",
    "    train_test_split,\n",
    ")\n",
    "from sklearn.preprocessing import LabelEncoder, OneHotEncoder\n",
    "from sklearn.metrics import mean_absolute_error\n",
    "from sklearn.metrics._dist_metrics import DistanceMetric\n",
    "from sklearn.metrics import accuracy_score\n",
    "import xgboost as xgb"
   ]
  },
  {
   "cell_type": "code",
   "execution_count": 5,
   "metadata": {},
   "outputs": [
    {
     "data": {
      "text/plain": [
       "AnnData object with n_obs × n_vars = 329762 × 36601\n",
       "    obs: 'Organ', 'Donor', 'Chemistry', 'Cell_category', 'Predicted_labels_CellTypist', 'Majority_voting_CellTypist', 'Majority_voting_CellTypist_high', 'Manually_curated_celltype', 'Sex', 'Age_range'\n",
       "    uns: 'Age_range_colors', 'Sex_colors'\n",
       "    obsm: 'X_umap'\n",
       "    layers: 'counts'"
      ]
     },
     "execution_count": 5,
     "metadata": {},
     "output_type": "execute_result"
    }
   ],
   "source": [
    "# adata -> output of preprocessing (in theory)\n",
    "file = \"/home/jkuhn/Bachelors-Thesis/input/CountAdded_PIP_global_object_for_cellxgene1.h5ad\"\n",
    "adata_all = sc.read_h5ad(file)\n",
    "adata_all.var_names_make_unique()\n",
    "adata_all"
   ]
  },
  {
   "cell_type": "markdown",
   "metadata": {},
   "source": [
    "# One hot encoding"
   ]
  },
  {
   "cell_type": "code",
   "execution_count": 6,
   "metadata": {},
   "outputs": [],
   "source": [
    "encoder_organ = LabelEncoder()\n",
    "y_encoded = encoder_organ.fit_transform(adata_all.obs[\"Organ\"])  # encode the organ labels"
   ]
  },
  {
   "cell_type": "code",
   "execution_count": 7,
   "metadata": {},
   "outputs": [],
   "source": [
    "# Replace the existing 'Organ' column with the encoded labels\n",
    "adata_all.obs[\"Organ\"] = y_encoded"
   ]
  },
  {
   "cell_type": "code",
   "execution_count": 8,
   "metadata": {
    "scrolled": true
   },
   "outputs": [
    {
     "name": "stdout",
     "output_type": "stream",
     "text": [
      "    Encoded_Label Decoded_Label\n",
      "0               0           BLD\n",
      "1               1           BMA\n",
      "2               2           CAE\n",
      "3               3           DUO\n",
      "4               4           ILE\n",
      "5               5        JEJEPI\n",
      "6               6         JEJLP\n",
      "7               7           LIV\n",
      "8               8           LLN\n",
      "9               9           LNG\n",
      "10             10           MLN\n",
      "11             11           OME\n",
      "12             12           SCL\n",
      "13             13           SKM\n",
      "14             14           SPL\n",
      "15             15           TCL\n",
      "16             16           THY\n"
     ]
    }
   ],
   "source": [
    "label_table = pd.DataFrame(\n",
    "    {\n",
    "        \"Encoded_Label\": encoder_organ.transform(encoder_organ.classes_),\n",
    "        \"Decoded_Label\": encoder_organ.classes_,\n",
    "    }\n",
    ")\n",
    "\n",
    "# Print the table\n",
    "print(label_table)"
   ]
  },
  {
   "cell_type": "markdown",
   "metadata": {},
   "source": [
    "### Subsetting the dataset: "
   ]
  },
  {
   "cell_type": "code",
   "execution_count": 9,
   "metadata": {},
   "outputs": [],
   "source": [
    "celltype = \"T cells\""
   ]
  },
  {
   "cell_type": "code",
   "execution_count": 10,
   "metadata": {},
   "outputs": [],
   "source": [
    "adata = adata_all[(adata_all.obs[\"Majority_voting_CellTypist_high\"] == celltype)]"
   ]
  },
  {
   "cell_type": "code",
   "execution_count": 11,
   "metadata": {},
   "outputs": [
    {
     "data": {
      "text/plain": [
       "View of AnnData object with n_obs × n_vars = 183796 × 36601\n",
       "    obs: 'Organ', 'Donor', 'Chemistry', 'Cell_category', 'Predicted_labels_CellTypist', 'Majority_voting_CellTypist', 'Majority_voting_CellTypist_high', 'Manually_curated_celltype', 'Sex', 'Age_range'\n",
       "    uns: 'Age_range_colors', 'Sex_colors'\n",
       "    obsm: 'X_umap'\n",
       "    layers: 'counts'"
      ]
     },
     "execution_count": 11,
     "metadata": {},
     "output_type": "execute_result"
    }
   ],
   "source": [
    "adata"
   ]
  },
  {
   "cell_type": "code",
   "execution_count": null,
   "metadata": {},
   "outputs": [],
   "source": [
    "# split for each chem and organ for this celltype into train and test\n",
    "def ttsplit(celltype: str) -> (pd.DataFrame, pd.DataFrame, pd.DataFrame, pd.DataFrame):\n",
    "    count = 0\n",
    "\n",
    "    subset_celltype = adata[(adata.obs[\"Majority_voting_CellTypist_high\"] == celltype)]\n",
    "\n",
    "    for chem in subset_celltype.obs[\"Chemistry\"].unique():\n",
    "        subset_chemistry = subset_celltype[\n",
    "                (subset_celltype.obs[\"Chemistry\"] == chem)\n",
    "            ]\n",
    "\n",
    "        for organ in subset_chemistry.obs[\"Organ\"].unique():\n",
    "\n",
    "            subset_organ = subset_chemistry[(subset_chemistry.obs[\"Organ\"] == organ)]\n",
    "            X = subset_organ.to_df()\n",
    "            y = subset_organ.obs[\"Organ\"]\n",
    "            subset_name = f\"{celltype}_{organ}_{chem}\"\n",
    "    \n",
    "            try:\n",
    "                if count != 0:\n",
    "                    X_train_pre, X_test_pre, y_train_pre, y_test_pre = train_test_split(\n",
    "                        X, y, test_size=0.2, random_state=42\n",
    "                    )\n",
    "\n",
    "                    X_test = pd.concat([X_test, X_test_pre])\n",
    "                    X_train = pd.concat([X_train, X_train_pre])\n",
    "                    y_test = pd.concat([y_test, y_test_pre])\n",
    "                    y_train = pd.concat([y_train, y_train_pre])\n",
    "                    count = count + 1\n",
    "\n",
    "                else:\n",
    "                    X_train, X_test, y_train, y_test = train_test_split(\n",
    "                        X, y, test_size=0.2, random_state=42\n",
    "                    )\n",
    "                    count = count + 1\n",
    "\n",
    "            except ValueError as e:\n",
    "\n",
    "                num_elements = X.shape[0]\n",
    "\n",
    "                if num_elements == 1: \n",
    "                    X_train_pre, X_test_pre, y_train_pre, y_test_pre = X, None, y, None\n",
    "\n",
    "                    X_test = pd.concat([X_test, X_test_pre])\n",
    "                    X_train = pd.concat([X_train, X_train_pre])\n",
    "                    y_test = pd.concat([y_test, y_test_pre])\n",
    "                    y_train = pd.concat([y_train, y_train_pre])\n",
    "\n",
    "                else:\n",
    "                    print(f\"Subset with name '{subset_name}' caused an error: {e}\")\n",
    "\n",
    "                continue \n",
    "    return X_train, X_test, y_train, y_test"
   ]
  },
  {
   "cell_type": "code",
   "execution_count": 16,
   "metadata": {},
   "outputs": [],
   "source": [
    "def save_model(bst: xgb.Booster, modelname: str):\n",
    "    print(\"modelname: \" + model_name)\n",
    "    # save model\n",
    "    bst.save_model(model_name)"
   ]
  },
  {
   "cell_type": "code",
   "execution_count": 18,
   "metadata": {},
   "outputs": [],
   "source": [
    "def load_model(modelname: str) -> xgb.Booster:\n",
    "    bst = xgb.Booster()\n",
    "    bst.load_model(modelname)\n",
    "    return bst"
   ]
  },
  {
   "cell_type": "code",
   "execution_count": null,
   "metadata": {},
   "outputs": [],
   "source": [
    "def prediction(bst: xgb.Booster) -> pd.DataFrame: # gets model and returns classification report, y_pred_encoded oder adata mit prediction\n",
    "    y_pred_prob = bst.predict(dtest) # predict\n",
    "    y_pred_encoded = np.argmax(y_pred_prob, axis =1)\n",
    "\n",
    "    accuracy = accuracy_score(y_test, y_pred_encoded)\n",
    "    print(f\"Accuracy: {accuracy}\")\n",
    "    \n",
    "    y_test_decoded = encoder_organ.inverse_transform(\n",
    "        y_test\n",
    "    ) \n",
    "    y_pred_encoded_series = pd.Series(y_pred_encoded)\n",
    "\n",
    "    # Map the encoded labels to decoded labels using the label table DataFrame\n",
    "    y_pred = y_pred_encoded_series.map(\n",
    "        dict(zip(label_table[\"Encoded_Label\"], label_table[\"Decoded_Label\"]))\n",
    "    )\n",
    "\n",
    "    class_report = metrics.classification_report(y_test, y_pred_encoded)\n",
    "\n",
    "    print(\"Classification Report for celltype: \", celltype)\n",
    "    print(class_report)\n",
    "\n",
    "    with open(report_name, \"a\") as f:\n",
    "        print(\"Classification Report for celltype:\", celltype, file=f)\n",
    "        print(class_report, file=f)\n",
    "\n",
    "    result_df = pd.DataFrame({\"Actual\": y_test, \"Predicted\": y_pred_encoded})\n",
    "\n",
    "    actual_counts = result_df[\"Actual\"].value_counts()\n",
    "    predicted_counts = result_df[\"Predicted\"].value_counts()\n",
    "    combined_counts = pd.concat([actual_counts, predicted_counts], axis=1)\n",
    "    combined_counts.columns = [\"Actual\", \"Predicted\"]\n",
    "    combined_counts = combined_counts.fillna(0)  # Fill NaN values with 0\n",
    "\n",
    "    # Plot the distributions\n",
    "    combined_counts.plot(kind=\"bar\", figsize=(12, 6))\n",
    "    plt.title(\"Distribution of Actual and Predicted Categories for \" + celltype)\n",
    "    plt.xlabel(\"Category\")\n",
    "    plt.ylabel(\"Count\")\n",
    "    plt.xticks(rotation=45)\n",
    "    plt.legend([\"Actual\", \"Predicted\"])\n",
    "    plt.show()\n",
    "\n",
    "    return y_pred_encoded"
   ]
  },
  {
   "cell_type": "code",
   "execution_count": 21,
   "metadata": {},
   "outputs": [],
   "source": [
    "X_train, X_test, y_train, y_test = ttsplit(celltype) \n",
    "X = adata.to_df()\n",
    "y = adata.obs[\"Organ\"]\n",
    "\n",
    "dtrain = xgb.DMatrix(X_train, label=y_train)\n",
    "dtest = xgb.DMatrix(X_test, label=y_test)"
   ]
  },
  {
   "cell_type": "code",
   "execution_count": 19,
   "metadata": {},
   "outputs": [
    {
     "name": "stdout",
     "output_type": "stream",
     "text": [
      "Number of classes: 17\n"
     ]
    }
   ],
   "source": [
    "num_classes = len(encoder_organ.classes_)\n",
    "print(\"Number of classes:\", num_classes)\n",
    "class_names = encoder_organ.classes_\n",
    "model_number = \"0005\"\n",
    "report_name = f\"{model_number}_classification_report.txt\""
   ]
  },
  {
   "cell_type": "code",
   "execution_count": null,
   "metadata": {},
   "outputs": [],
   "source": [
    "params = {\n",
    "    'max_depth':6,\n",
    "    'min_child_weight': 1,\n",
    "    'eta':.3,\n",
    "    'subsample': 1,\n",
    "    'colsample_bytree': 1,\n",
    "    \"num_class\": num_classes,\n",
    "    # Other parameters\n",
    "    \"objective\": \"multi:softprob\",\n",
    "    \"eval_metric\": ['merror','mlogloss'], \n",
    "    'device': 'cuda'\n",
    "}"
   ]
  },
  {
   "cell_type": "markdown",
   "metadata": {},
   "source": [
    "# Parameter Tuning\n",
    "Here, the following tutorial was adapted: https://blog.cambridgespark.com/hyperparameter-tuning-in-xgboost-4ff9100a3b2f"
   ]
  },
  {
   "cell_type": "markdown",
   "metadata": {},
   "source": [
    "### Parameters num_boost_round and early_stopping_rounds"
   ]
  },
  {
   "cell_type": "code",
   "execution_count": 22,
   "metadata": {
    "execution": {
     "iopub.execute_input": "2024-06-04T14:25:18.436226Z",
     "iopub.status.busy": "2024-06-04T14:25:18.436119Z",
     "iopub.status.idle": "2024-06-05T00:49:38.036961Z",
     "shell.execute_reply": "2024-06-05T00:49:38.036041Z"
    }
   },
   "outputs": [
    {
     "name": "stderr",
     "output_type": "stream",
     "text": [
      "[16:25:18] WARNING: /home/conda/feedstock_root/build_artifacts/xgboost-split_1705650052425/work/src/context.cc:44: No visible GPU is found, setting device to CPU.\n"
     ]
    },
    {
     "name": "stdout",
     "output_type": "stream",
     "text": [
      "[0]\ttrain-merror:0.35017\ttrain-mlogloss:1.83905\teval-merror:0.35872\teval-mlogloss:1.86016\n",
      "[1]\ttrain-merror:0.31314\ttrain-mlogloss:1.53788\teval-merror:0.32794\teval-mlogloss:1.56997\n",
      "[2]\ttrain-merror:0.29094\ttrain-mlogloss:1.34015\teval-merror:0.30964\teval-mlogloss:1.38060\n",
      "[3]\ttrain-merror:0.27336\ttrain-mlogloss:1.19307\teval-merror:0.29517\teval-mlogloss:1.24162\n",
      "[4]\ttrain-merror:0.26097\ttrain-mlogloss:1.08257\teval-merror:0.28625\teval-mlogloss:1.13804\n",
      "[5]\ttrain-merror:0.25043\ttrain-mlogloss:0.99296\teval-merror:0.27709\teval-mlogloss:1.05478\n",
      "[6]\ttrain-merror:0.23941\ttrain-mlogloss:0.91749\teval-merror:0.26751\teval-mlogloss:0.98488\n",
      "[7]\ttrain-merror:0.23204\ttrain-mlogloss:0.85751\teval-merror:0.26205\teval-mlogloss:0.93001\n",
      "[8]\ttrain-merror:0.22388\ttrain-mlogloss:0.80679\teval-merror:0.25636\teval-mlogloss:0.88402\n",
      "[9]\ttrain-merror:0.21571\ttrain-mlogloss:0.76066\teval-merror:0.24937\teval-mlogloss:0.84258\n",
      "[10]\ttrain-merror:0.20808\ttrain-mlogloss:0.72067\teval-merror:0.24375\teval-mlogloss:0.80677\n",
      "[11]\ttrain-merror:0.20020\ttrain-mlogloss:0.68431\teval-merror:0.23752\teval-mlogloss:0.77476\n",
      "[12]\ttrain-merror:0.19443\ttrain-mlogloss:0.65386\teval-merror:0.23241\teval-mlogloss:0.74841\n",
      "[13]\ttrain-merror:0.18804\ttrain-mlogloss:0.62707\teval-merror:0.22835\teval-mlogloss:0.72573\n",
      "[14]\ttrain-merror:0.18219\ttrain-mlogloss:0.60181\teval-merror:0.22359\teval-mlogloss:0.70412\n",
      "[15]\ttrain-merror:0.17619\ttrain-mlogloss:0.57856\teval-merror:0.21922\teval-mlogloss:0.68457\n",
      "[16]\ttrain-merror:0.17081\ttrain-mlogloss:0.55983\teval-merror:0.21587\teval-mlogloss:0.66918\n",
      "[17]\ttrain-merror:0.16669\ttrain-mlogloss:0.54353\teval-merror:0.21402\teval-mlogloss:0.65572\n",
      "[18]\ttrain-merror:0.16200\ttrain-mlogloss:0.52635\teval-merror:0.21065\teval-mlogloss:0.64153\n",
      "[19]\ttrain-merror:0.15682\ttrain-mlogloss:0.51000\teval-merror:0.20747\teval-mlogloss:0.62880\n",
      "[20]\ttrain-merror:0.15208\ttrain-mlogloss:0.49536\teval-merror:0.20328\teval-mlogloss:0.61777\n",
      "[21]\ttrain-merror:0.14785\ttrain-mlogloss:0.48212\teval-merror:0.20056\teval-mlogloss:0.60815\n",
      "[22]\ttrain-merror:0.14305\ttrain-mlogloss:0.46820\teval-merror:0.19792\teval-mlogloss:0.59743\n",
      "[23]\ttrain-merror:0.13867\ttrain-mlogloss:0.45678\teval-merror:0.19602\teval-mlogloss:0.58891\n",
      "[24]\ttrain-merror:0.13526\ttrain-mlogloss:0.44584\teval-merror:0.19398\teval-mlogloss:0.58084\n",
      "[25]\ttrain-merror:0.13114\ttrain-mlogloss:0.43373\teval-merror:0.19164\teval-mlogloss:0.57155\n",
      "[26]\ttrain-merror:0.12753\ttrain-mlogloss:0.42299\teval-merror:0.19014\teval-mlogloss:0.56403\n",
      "[27]\ttrain-merror:0.12395\ttrain-mlogloss:0.41385\teval-merror:0.18778\teval-mlogloss:0.55788\n",
      "[28]\ttrain-merror:0.12103\ttrain-mlogloss:0.40537\teval-merror:0.18639\teval-mlogloss:0.55234\n",
      "[29]\ttrain-merror:0.11774\ttrain-mlogloss:0.39578\teval-merror:0.18468\teval-mlogloss:0.54592\n",
      "[30]\ttrain-merror:0.11455\ttrain-mlogloss:0.38700\teval-merror:0.18269\teval-mlogloss:0.53985\n",
      "[31]\ttrain-merror:0.11094\ttrain-mlogloss:0.37890\teval-merror:0.18125\teval-mlogloss:0.53494\n",
      "[32]\ttrain-merror:0.10808\ttrain-mlogloss:0.37084\teval-merror:0.17978\teval-mlogloss:0.52975\n",
      "[33]\ttrain-merror:0.10587\ttrain-mlogloss:0.36425\teval-merror:0.17815\teval-mlogloss:0.52531\n",
      "[34]\ttrain-merror:0.10295\ttrain-mlogloss:0.35701\teval-merror:0.17636\teval-mlogloss:0.52055\n",
      "[35]\ttrain-merror:0.10024\ttrain-mlogloss:0.35051\teval-merror:0.17565\teval-mlogloss:0.51666\n",
      "[36]\ttrain-merror:0.09796\ttrain-mlogloss:0.34438\teval-merror:0.17386\teval-mlogloss:0.51297\n",
      "[37]\ttrain-merror:0.09523\ttrain-mlogloss:0.33731\teval-merror:0.17293\teval-mlogloss:0.50888\n",
      "[38]\ttrain-merror:0.09233\ttrain-mlogloss:0.33052\teval-merror:0.17160\teval-mlogloss:0.50476\n",
      "[39]\ttrain-merror:0.08989\ttrain-mlogloss:0.32500\teval-merror:0.17021\teval-mlogloss:0.50134\n",
      "[40]\ttrain-merror:0.08759\ttrain-mlogloss:0.31933\teval-merror:0.16956\teval-mlogloss:0.49800\n",
      "[41]\ttrain-merror:0.08561\ttrain-mlogloss:0.31382\teval-merror:0.16842\teval-mlogloss:0.49422\n",
      "[42]\ttrain-merror:0.08356\ttrain-mlogloss:0.30827\teval-merror:0.16727\teval-mlogloss:0.49122\n",
      "[43]\ttrain-merror:0.08150\ttrain-mlogloss:0.30347\teval-merror:0.16551\teval-mlogloss:0.48833\n",
      "[44]\ttrain-merror:0.07931\ttrain-mlogloss:0.29832\teval-merror:0.16472\teval-mlogloss:0.48513\n",
      "[45]\ttrain-merror:0.07704\ttrain-mlogloss:0.29300\teval-merror:0.16382\teval-mlogloss:0.48211\n",
      "[46]\ttrain-merror:0.07529\ttrain-mlogloss:0.28815\teval-merror:0.16287\teval-mlogloss:0.47927\n",
      "[47]\ttrain-merror:0.07331\ttrain-mlogloss:0.28335\teval-merror:0.16208\teval-mlogloss:0.47633\n",
      "[48]\ttrain-merror:0.07157\ttrain-mlogloss:0.27920\teval-merror:0.16056\teval-mlogloss:0.47372\n",
      "[49]\ttrain-merror:0.06976\ttrain-mlogloss:0.27462\teval-merror:0.15974\teval-mlogloss:0.47121\n",
      "[50]\ttrain-merror:0.06802\ttrain-mlogloss:0.27017\teval-merror:0.15879\teval-mlogloss:0.46888\n",
      "[51]\ttrain-merror:0.06605\ttrain-mlogloss:0.26520\teval-merror:0.15740\teval-mlogloss:0.46600\n",
      "[52]\ttrain-merror:0.06387\ttrain-mlogloss:0.26090\teval-merror:0.15708\teval-mlogloss:0.46377\n",
      "[53]\ttrain-merror:0.06257\ttrain-mlogloss:0.25717\teval-merror:0.15640\teval-mlogloss:0.46168\n",
      "[54]\ttrain-merror:0.06123\ttrain-mlogloss:0.25341\teval-merror:0.15563\teval-mlogloss:0.45953\n",
      "[55]\ttrain-merror:0.05981\ttrain-mlogloss:0.24994\teval-merror:0.15531\teval-mlogloss:0.45730\n",
      "[56]\ttrain-merror:0.05804\ttrain-mlogloss:0.24597\teval-merror:0.15471\teval-mlogloss:0.45536\n",
      "[57]\ttrain-merror:0.05656\ttrain-mlogloss:0.24209\teval-merror:0.15447\teval-mlogloss:0.45347\n",
      "[58]\ttrain-merror:0.05513\ttrain-mlogloss:0.23853\teval-merror:0.15316\teval-mlogloss:0.45161\n",
      "[59]\ttrain-merror:0.05383\ttrain-mlogloss:0.23537\teval-merror:0.15259\teval-mlogloss:0.45003\n",
      "[60]\ttrain-merror:0.05277\ttrain-mlogloss:0.23188\teval-merror:0.15237\teval-mlogloss:0.44843\n",
      "[61]\ttrain-merror:0.05147\ttrain-mlogloss:0.22880\teval-merror:0.15172\teval-mlogloss:0.44693\n",
      "[62]\ttrain-merror:0.04986\ttrain-mlogloss:0.22540\teval-merror:0.15104\teval-mlogloss:0.44517\n",
      "[63]\ttrain-merror:0.04860\ttrain-mlogloss:0.22233\teval-merror:0.15109\teval-mlogloss:0.44362\n",
      "[64]\ttrain-merror:0.04730\ttrain-mlogloss:0.21927\teval-merror:0.15028\teval-mlogloss:0.44188\n",
      "[65]\ttrain-merror:0.04574\ttrain-mlogloss:0.21600\teval-merror:0.14971\teval-mlogloss:0.44001\n",
      "[66]\ttrain-merror:0.04483\ttrain-mlogloss:0.21279\teval-merror:0.14905\teval-mlogloss:0.43777\n",
      "[67]\ttrain-merror:0.04360\ttrain-mlogloss:0.20996\teval-merror:0.14832\teval-mlogloss:0.43627\n",
      "[68]\ttrain-merror:0.04191\ttrain-mlogloss:0.20631\teval-merror:0.14742\teval-mlogloss:0.43434\n",
      "[69]\ttrain-merror:0.04082\ttrain-mlogloss:0.20322\teval-merror:0.14707\teval-mlogloss:0.43277\n",
      "[70]\ttrain-merror:0.03967\ttrain-mlogloss:0.20009\teval-merror:0.14647\teval-mlogloss:0.43087\n",
      "[71]\ttrain-merror:0.03823\ttrain-mlogloss:0.19676\teval-merror:0.14579\teval-mlogloss:0.42944\n",
      "[72]\ttrain-merror:0.03725\ttrain-mlogloss:0.19438\teval-merror:0.14565\teval-mlogloss:0.42794\n",
      "[73]\ttrain-merror:0.03629\ttrain-mlogloss:0.19127\teval-merror:0.14476\teval-mlogloss:0.42609\n",
      "[74]\ttrain-merror:0.03538\ttrain-mlogloss:0.18874\teval-merror:0.14473\teval-mlogloss:0.42510\n",
      "[75]\ttrain-merror:0.03442\ttrain-mlogloss:0.18606\teval-merror:0.14468\teval-mlogloss:0.42379\n",
      "[76]\ttrain-merror:0.03333\ttrain-mlogloss:0.18336\teval-merror:0.14389\teval-mlogloss:0.42215\n",
      "[77]\ttrain-merror:0.03270\ttrain-mlogloss:0.18110\teval-merror:0.14375\teval-mlogloss:0.42134\n",
      "[78]\ttrain-merror:0.03187\ttrain-mlogloss:0.17873\teval-merror:0.14321\teval-mlogloss:0.41992\n",
      "[79]\ttrain-merror:0.03101\ttrain-mlogloss:0.17629\teval-merror:0.14307\teval-mlogloss:0.41862\n",
      "[80]\ttrain-merror:0.03037\ttrain-mlogloss:0.17405\teval-merror:0.14261\teval-mlogloss:0.41751\n",
      "[81]\ttrain-merror:0.02948\ttrain-mlogloss:0.17176\teval-merror:0.14206\teval-mlogloss:0.41674\n",
      "[82]\ttrain-merror:0.02887\ttrain-mlogloss:0.16969\teval-merror:0.14149\teval-mlogloss:0.41557\n",
      "[83]\ttrain-merror:0.02805\ttrain-mlogloss:0.16749\teval-merror:0.14141\teval-mlogloss:0.41434\n",
      "[84]\ttrain-merror:0.02719\ttrain-mlogloss:0.16491\teval-merror:0.14070\teval-mlogloss:0.41302\n",
      "[85]\ttrain-merror:0.02635\ttrain-mlogloss:0.16270\teval-merror:0.14060\teval-mlogloss:0.41208\n",
      "[86]\ttrain-merror:0.02572\ttrain-mlogloss:0.16089\teval-merror:0.14076\teval-mlogloss:0.41131\n",
      "[87]\ttrain-merror:0.02520\ttrain-mlogloss:0.15891\teval-merror:0.14008\teval-mlogloss:0.41011\n",
      "[88]\ttrain-merror:0.02418\ttrain-mlogloss:0.15651\teval-merror:0.13975\teval-mlogloss:0.40906\n",
      "[89]\ttrain-merror:0.02375\ttrain-mlogloss:0.15430\teval-merror:0.13915\teval-mlogloss:0.40806\n",
      "[90]\ttrain-merror:0.02300\ttrain-mlogloss:0.15207\teval-merror:0.13899\teval-mlogloss:0.40674\n",
      "[91]\ttrain-merror:0.02236\ttrain-mlogloss:0.15013\teval-merror:0.13880\teval-mlogloss:0.40616\n",
      "[92]\ttrain-merror:0.02181\ttrain-mlogloss:0.14798\teval-merror:0.13883\teval-mlogloss:0.40492\n",
      "[93]\ttrain-merror:0.02112\ttrain-mlogloss:0.14626\teval-merror:0.13883\teval-mlogloss:0.40421\n",
      "[94]\ttrain-merror:0.02051\ttrain-mlogloss:0.14441\teval-merror:0.13902\teval-mlogloss:0.40343\n",
      "[95]\ttrain-merror:0.02009\ttrain-mlogloss:0.14263\teval-merror:0.13807\teval-mlogloss:0.40283\n",
      "[96]\ttrain-merror:0.01943\ttrain-mlogloss:0.14061\teval-merror:0.13807\teval-mlogloss:0.40199\n",
      "[97]\ttrain-merror:0.01864\ttrain-mlogloss:0.13861\teval-merror:0.13769\teval-mlogloss:0.40115\n",
      "[98]\ttrain-merror:0.01826\ttrain-mlogloss:0.13714\teval-merror:0.13766\teval-mlogloss:0.40058\n",
      "[99]\ttrain-merror:0.01752\ttrain-mlogloss:0.13521\teval-merror:0.13766\teval-mlogloss:0.39960\n",
      "[100]\ttrain-merror:0.01713\ttrain-mlogloss:0.13360\teval-merror:0.13733\teval-mlogloss:0.39881\n",
      "[101]\ttrain-merror:0.01676\ttrain-mlogloss:0.13202\teval-merror:0.13706\teval-mlogloss:0.39827\n",
      "[102]\ttrain-merror:0.01624\ttrain-mlogloss:0.13050\teval-merror:0.13722\teval-mlogloss:0.39739\n",
      "[103]\ttrain-merror:0.01574\ttrain-mlogloss:0.12889\teval-merror:0.13641\teval-mlogloss:0.39668\n",
      "[104]\ttrain-merror:0.01523\ttrain-mlogloss:0.12708\teval-merror:0.13595\teval-mlogloss:0.39552\n",
      "[105]\ttrain-merror:0.01470\ttrain-mlogloss:0.12543\teval-merror:0.13562\teval-mlogloss:0.39475\n",
      "[106]\ttrain-merror:0.01418\ttrain-mlogloss:0.12374\teval-merror:0.13570\teval-mlogloss:0.39428\n",
      "[107]\ttrain-merror:0.01379\ttrain-mlogloss:0.12235\teval-merror:0.13573\teval-mlogloss:0.39359\n",
      "[108]\ttrain-merror:0.01345\ttrain-mlogloss:0.12089\teval-merror:0.13554\teval-mlogloss:0.39271\n",
      "[109]\ttrain-merror:0.01299\ttrain-mlogloss:0.11948\teval-merror:0.13540\teval-mlogloss:0.39213\n",
      "[110]\ttrain-merror:0.01262\ttrain-mlogloss:0.11813\teval-merror:0.13537\teval-mlogloss:0.39140\n",
      "[111]\ttrain-merror:0.01213\ttrain-mlogloss:0.11679\teval-merror:0.13494\teval-mlogloss:0.39058\n",
      "[112]\ttrain-merror:0.01176\ttrain-mlogloss:0.11534\teval-merror:0.13475\teval-mlogloss:0.39002\n",
      "[113]\ttrain-merror:0.01149\ttrain-mlogloss:0.11396\teval-merror:0.13448\teval-mlogloss:0.38953\n",
      "[114]\ttrain-merror:0.01109\ttrain-mlogloss:0.11236\teval-merror:0.13431\teval-mlogloss:0.38871\n",
      "[115]\ttrain-merror:0.01086\ttrain-mlogloss:0.11104\teval-merror:0.13361\teval-mlogloss:0.38799\n",
      "[116]\ttrain-merror:0.01041\ttrain-mlogloss:0.10962\teval-merror:0.13325\teval-mlogloss:0.38738\n",
      "[117]\ttrain-merror:0.01002\ttrain-mlogloss:0.10823\teval-merror:0.13344\teval-mlogloss:0.38686\n",
      "[118]\ttrain-merror:0.00969\ttrain-mlogloss:0.10692\teval-merror:0.13353\teval-mlogloss:0.38648\n",
      "[119]\ttrain-merror:0.00945\ttrain-mlogloss:0.10573\teval-merror:0.13355\teval-mlogloss:0.38599\n",
      "[120]\ttrain-merror:0.00909\ttrain-mlogloss:0.10449\teval-merror:0.13314\teval-mlogloss:0.38537\n",
      "[121]\ttrain-merror:0.00876\ttrain-mlogloss:0.10331\teval-merror:0.13293\teval-mlogloss:0.38476\n",
      "[122]\ttrain-merror:0.00844\ttrain-mlogloss:0.10194\teval-merror:0.13230\teval-mlogloss:0.38423\n",
      "[123]\ttrain-merror:0.00812\ttrain-mlogloss:0.10058\teval-merror:0.13214\teval-mlogloss:0.38346\n",
      "[124]\ttrain-merror:0.00781\ttrain-mlogloss:0.09922\teval-merror:0.13236\teval-mlogloss:0.38279\n",
      "[125]\ttrain-merror:0.00761\ttrain-mlogloss:0.09827\teval-merror:0.13195\teval-mlogloss:0.38220\n",
      "[126]\ttrain-merror:0.00743\ttrain-mlogloss:0.09726\teval-merror:0.13189\teval-mlogloss:0.38184\n",
      "[127]\ttrain-merror:0.00729\ttrain-mlogloss:0.09624\teval-merror:0.13179\teval-mlogloss:0.38130\n",
      "[128]\ttrain-merror:0.00711\ttrain-mlogloss:0.09520\teval-merror:0.13159\teval-mlogloss:0.38077\n",
      "[129]\ttrain-merror:0.00694\ttrain-mlogloss:0.09412\teval-merror:0.13130\teval-mlogloss:0.38037\n",
      "[130]\ttrain-merror:0.00677\ttrain-mlogloss:0.09305\teval-merror:0.13116\teval-mlogloss:0.37976\n",
      "[131]\ttrain-merror:0.00649\ttrain-mlogloss:0.09194\teval-merror:0.13127\teval-mlogloss:0.37932\n",
      "[132]\ttrain-merror:0.00628\ttrain-mlogloss:0.09076\teval-merror:0.13157\teval-mlogloss:0.37861\n",
      "[133]\ttrain-merror:0.00607\ttrain-mlogloss:0.08954\teval-merror:0.13105\teval-mlogloss:0.37792\n",
      "[134]\ttrain-merror:0.00584\ttrain-mlogloss:0.08829\teval-merror:0.13032\teval-mlogloss:0.37720\n",
      "[135]\ttrain-merror:0.00562\ttrain-mlogloss:0.08740\teval-merror:0.13010\teval-mlogloss:0.37675\n",
      "[136]\ttrain-merror:0.00550\ttrain-mlogloss:0.08655\teval-merror:0.12977\teval-mlogloss:0.37618\n",
      "[137]\ttrain-merror:0.00528\ttrain-mlogloss:0.08545\teval-merror:0.12966\teval-mlogloss:0.37583\n",
      "[138]\ttrain-merror:0.00511\ttrain-mlogloss:0.08439\teval-merror:0.12985\teval-mlogloss:0.37543\n",
      "[139]\ttrain-merror:0.00492\ttrain-mlogloss:0.08339\teval-merror:0.12931\teval-mlogloss:0.37502\n",
      "[140]\ttrain-merror:0.00482\ttrain-mlogloss:0.08244\teval-merror:0.12969\teval-mlogloss:0.37459\n",
      "[141]\ttrain-merror:0.00467\ttrain-mlogloss:0.08150\teval-merror:0.12931\teval-mlogloss:0.37425\n",
      "[142]\ttrain-merror:0.00455\ttrain-mlogloss:0.08063\teval-merror:0.12920\teval-mlogloss:0.37390\n",
      "[143]\ttrain-merror:0.00435\ttrain-mlogloss:0.07967\teval-merror:0.12898\teval-mlogloss:0.37340\n",
      "[144]\ttrain-merror:0.00420\ttrain-mlogloss:0.07873\teval-merror:0.12888\teval-mlogloss:0.37305\n",
      "[145]\ttrain-merror:0.00414\ttrain-mlogloss:0.07783\teval-merror:0.12855\teval-mlogloss:0.37257\n",
      "[146]\ttrain-merror:0.00405\ttrain-mlogloss:0.07680\teval-merror:0.12817\teval-mlogloss:0.37192\n",
      "[147]\ttrain-merror:0.00385\ttrain-mlogloss:0.07581\teval-merror:0.12803\teval-mlogloss:0.37140\n",
      "[148]\ttrain-merror:0.00377\ttrain-mlogloss:0.07493\teval-merror:0.12841\teval-mlogloss:0.37091\n",
      "[149]\ttrain-merror:0.00362\ttrain-mlogloss:0.07403\teval-merror:0.12820\teval-mlogloss:0.37067\n",
      "[150]\ttrain-merror:0.00345\ttrain-mlogloss:0.07307\teval-merror:0.12779\teval-mlogloss:0.36995\n",
      "[151]\ttrain-merror:0.00331\ttrain-mlogloss:0.07221\teval-merror:0.12790\teval-mlogloss:0.36978\n",
      "[152]\ttrain-merror:0.00320\ttrain-mlogloss:0.07144\teval-merror:0.12784\teval-mlogloss:0.36945\n",
      "[153]\ttrain-merror:0.00307\ttrain-mlogloss:0.07062\teval-merror:0.12765\teval-mlogloss:0.36894\n",
      "[154]\ttrain-merror:0.00294\ttrain-mlogloss:0.06980\teval-merror:0.12746\teval-mlogloss:0.36838\n",
      "[155]\ttrain-merror:0.00286\ttrain-mlogloss:0.06900\teval-merror:0.12735\teval-mlogloss:0.36798\n",
      "[156]\ttrain-merror:0.00268\ttrain-mlogloss:0.06815\teval-merror:0.12703\teval-mlogloss:0.36744\n",
      "[157]\ttrain-merror:0.00252\ttrain-mlogloss:0.06733\teval-merror:0.12713\teval-mlogloss:0.36703\n",
      "[158]\ttrain-merror:0.00250\ttrain-mlogloss:0.06645\teval-merror:0.12689\teval-mlogloss:0.36657\n",
      "[159]\ttrain-merror:0.00243\ttrain-mlogloss:0.06580\teval-merror:0.12689\teval-mlogloss:0.36591\n",
      "[160]\ttrain-merror:0.00233\ttrain-mlogloss:0.06503\teval-merror:0.12656\teval-mlogloss:0.36562\n",
      "[161]\ttrain-merror:0.00222\ttrain-mlogloss:0.06428\teval-merror:0.12637\teval-mlogloss:0.36527\n",
      "[162]\ttrain-merror:0.00217\ttrain-mlogloss:0.06347\teval-merror:0.12645\teval-mlogloss:0.36521\n",
      "[163]\ttrain-merror:0.00205\ttrain-mlogloss:0.06256\teval-merror:0.12621\teval-mlogloss:0.36449\n",
      "[164]\ttrain-merror:0.00199\ttrain-mlogloss:0.06193\teval-merror:0.12632\teval-mlogloss:0.36417\n",
      "[165]\ttrain-merror:0.00193\ttrain-mlogloss:0.06128\teval-merror:0.12599\teval-mlogloss:0.36375\n",
      "[166]\ttrain-merror:0.00183\ttrain-mlogloss:0.06059\teval-merror:0.12610\teval-mlogloss:0.36340\n",
      "[167]\ttrain-merror:0.00177\ttrain-mlogloss:0.05983\teval-merror:0.12599\teval-mlogloss:0.36297\n",
      "[168]\ttrain-merror:0.00163\ttrain-mlogloss:0.05914\teval-merror:0.12569\teval-mlogloss:0.36272\n",
      "[169]\ttrain-merror:0.00149\ttrain-mlogloss:0.05842\teval-merror:0.12529\teval-mlogloss:0.36238\n",
      "[170]\ttrain-merror:0.00148\ttrain-mlogloss:0.05770\teval-merror:0.12537\teval-mlogloss:0.36188\n",
      "[171]\ttrain-merror:0.00137\ttrain-mlogloss:0.05699\teval-merror:0.12515\teval-mlogloss:0.36152\n",
      "[172]\ttrain-merror:0.00135\ttrain-mlogloss:0.05639\teval-merror:0.12461\teval-mlogloss:0.36123\n",
      "[173]\ttrain-merror:0.00131\ttrain-mlogloss:0.05569\teval-merror:0.12499\teval-mlogloss:0.36078\n",
      "[174]\ttrain-merror:0.00124\ttrain-mlogloss:0.05510\teval-merror:0.12452\teval-mlogloss:0.36070\n",
      "[175]\ttrain-merror:0.00122\ttrain-mlogloss:0.05441\teval-merror:0.12439\teval-mlogloss:0.36026\n",
      "[176]\ttrain-merror:0.00115\ttrain-mlogloss:0.05379\teval-merror:0.12412\teval-mlogloss:0.35999\n",
      "[177]\ttrain-merror:0.00108\ttrain-mlogloss:0.05329\teval-merror:0.12431\teval-mlogloss:0.35966\n",
      "[178]\ttrain-merror:0.00104\ttrain-mlogloss:0.05267\teval-merror:0.12403\teval-mlogloss:0.35930\n",
      "[179]\ttrain-merror:0.00101\ttrain-mlogloss:0.05202\teval-merror:0.12406\teval-mlogloss:0.35895\n",
      "[180]\ttrain-merror:0.00097\ttrain-mlogloss:0.05143\teval-merror:0.12414\teval-mlogloss:0.35866\n",
      "[181]\ttrain-merror:0.00089\ttrain-mlogloss:0.05094\teval-merror:0.12395\teval-mlogloss:0.35832\n",
      "[182]\ttrain-merror:0.00085\ttrain-mlogloss:0.05028\teval-merror:0.12368\teval-mlogloss:0.35802\n",
      "[183]\ttrain-merror:0.00080\ttrain-mlogloss:0.04961\teval-merror:0.12346\teval-mlogloss:0.35761\n",
      "[184]\ttrain-merror:0.00073\ttrain-mlogloss:0.04891\teval-merror:0.12297\teval-mlogloss:0.35723\n",
      "[185]\ttrain-merror:0.00071\ttrain-mlogloss:0.04822\teval-merror:0.12314\teval-mlogloss:0.35696\n",
      "[186]\ttrain-merror:0.00069\ttrain-mlogloss:0.04768\teval-merror:0.12270\teval-mlogloss:0.35681\n",
      "[187]\ttrain-merror:0.00064\ttrain-mlogloss:0.04708\teval-merror:0.12319\teval-mlogloss:0.35665\n",
      "[188]\ttrain-merror:0.00057\ttrain-mlogloss:0.04658\teval-merror:0.12259\teval-mlogloss:0.35640\n",
      "[189]\ttrain-merror:0.00054\ttrain-mlogloss:0.04607\teval-merror:0.12259\teval-mlogloss:0.35603\n",
      "[190]\ttrain-merror:0.00055\ttrain-mlogloss:0.04559\teval-merror:0.12257\teval-mlogloss:0.35566\n",
      "[191]\ttrain-merror:0.00050\ttrain-mlogloss:0.04517\teval-merror:0.12276\teval-mlogloss:0.35546\n",
      "[192]\ttrain-merror:0.00048\ttrain-mlogloss:0.04470\teval-merror:0.12278\teval-mlogloss:0.35521\n",
      "[193]\ttrain-merror:0.00048\ttrain-mlogloss:0.04423\teval-merror:0.12276\teval-mlogloss:0.35523\n",
      "[194]\ttrain-merror:0.00043\ttrain-mlogloss:0.04372\teval-merror:0.12284\teval-mlogloss:0.35496\n",
      "[195]\ttrain-merror:0.00041\ttrain-mlogloss:0.04317\teval-merror:0.12281\teval-mlogloss:0.35486\n",
      "[196]\ttrain-merror:0.00039\ttrain-mlogloss:0.04262\teval-merror:0.12254\teval-mlogloss:0.35448\n",
      "[197]\ttrain-merror:0.00038\ttrain-mlogloss:0.04208\teval-merror:0.12229\teval-mlogloss:0.35421\n",
      "[198]\ttrain-merror:0.00033\ttrain-mlogloss:0.04149\teval-merror:0.12243\teval-mlogloss:0.35388\n",
      "[199]\ttrain-merror:0.00031\ttrain-mlogloss:0.04095\teval-merror:0.12210\teval-mlogloss:0.35348\n",
      "[200]\ttrain-merror:0.00029\ttrain-mlogloss:0.04041\teval-merror:0.12164\teval-mlogloss:0.35324\n",
      "[201]\ttrain-merror:0.00027\ttrain-mlogloss:0.03984\teval-merror:0.12189\teval-mlogloss:0.35302\n",
      "[202]\ttrain-merror:0.00026\ttrain-mlogloss:0.03940\teval-merror:0.12156\teval-mlogloss:0.35277\n",
      "[203]\ttrain-merror:0.00025\ttrain-mlogloss:0.03896\teval-merror:0.12170\teval-mlogloss:0.35251\n",
      "[204]\ttrain-merror:0.00024\ttrain-mlogloss:0.03853\teval-merror:0.12164\teval-mlogloss:0.35220\n",
      "[205]\ttrain-merror:0.00023\ttrain-mlogloss:0.03814\teval-merror:0.12129\teval-mlogloss:0.35216\n",
      "[206]\ttrain-merror:0.00022\ttrain-mlogloss:0.03771\teval-merror:0.12148\teval-mlogloss:0.35203\n",
      "[207]\ttrain-merror:0.00019\ttrain-mlogloss:0.03728\teval-merror:0.12142\teval-mlogloss:0.35175\n",
      "[208]\ttrain-merror:0.00020\ttrain-mlogloss:0.03694\teval-merror:0.12164\teval-mlogloss:0.35162\n",
      "[209]\ttrain-merror:0.00019\ttrain-mlogloss:0.03658\teval-merror:0.12180\teval-mlogloss:0.35144\n",
      "[210]\ttrain-merror:0.00018\ttrain-mlogloss:0.03616\teval-merror:0.12134\teval-mlogloss:0.35140\n",
      "[211]\ttrain-merror:0.00016\ttrain-mlogloss:0.03578\teval-merror:0.12140\teval-mlogloss:0.35113\n",
      "[212]\ttrain-merror:0.00016\ttrain-mlogloss:0.03542\teval-merror:0.12096\teval-mlogloss:0.35090\n",
      "[213]\ttrain-merror:0.00016\ttrain-mlogloss:0.03504\teval-merror:0.12093\teval-mlogloss:0.35077\n",
      "[214]\ttrain-merror:0.00016\ttrain-mlogloss:0.03471\teval-merror:0.12091\teval-mlogloss:0.35056\n",
      "[215]\ttrain-merror:0.00015\ttrain-mlogloss:0.03430\teval-merror:0.12083\teval-mlogloss:0.35038\n",
      "[216]\ttrain-merror:0.00013\ttrain-mlogloss:0.03392\teval-merror:0.12050\teval-mlogloss:0.35027\n",
      "[217]\ttrain-merror:0.00012\ttrain-mlogloss:0.03351\teval-merror:0.12012\teval-mlogloss:0.34979\n",
      "[218]\ttrain-merror:0.00012\ttrain-mlogloss:0.03313\teval-merror:0.11996\teval-mlogloss:0.34959\n",
      "[219]\ttrain-merror:0.00010\ttrain-mlogloss:0.03272\teval-merror:0.12034\teval-mlogloss:0.34939\n",
      "[220]\ttrain-merror:0.00009\ttrain-mlogloss:0.03239\teval-merror:0.11982\teval-mlogloss:0.34916\n",
      "[221]\ttrain-merror:0.00009\ttrain-mlogloss:0.03202\teval-merror:0.11966\teval-mlogloss:0.34900\n",
      "[222]\ttrain-merror:0.00008\ttrain-mlogloss:0.03172\teval-merror:0.11966\teval-mlogloss:0.34875\n",
      "[223]\ttrain-merror:0.00008\ttrain-mlogloss:0.03132\teval-merror:0.11960\teval-mlogloss:0.34865\n",
      "[224]\ttrain-merror:0.00007\ttrain-mlogloss:0.03098\teval-merror:0.11960\teval-mlogloss:0.34839\n",
      "[225]\ttrain-merror:0.00007\ttrain-mlogloss:0.03063\teval-merror:0.11938\teval-mlogloss:0.34813\n",
      "[226]\ttrain-merror:0.00007\ttrain-mlogloss:0.03035\teval-merror:0.11933\teval-mlogloss:0.34799\n",
      "[227]\ttrain-merror:0.00005\ttrain-mlogloss:0.03001\teval-merror:0.11911\teval-mlogloss:0.34776\n",
      "[228]\ttrain-merror:0.00005\ttrain-mlogloss:0.02970\teval-merror:0.11887\teval-mlogloss:0.34756\n",
      "[229]\ttrain-merror:0.00005\ttrain-mlogloss:0.02932\teval-merror:0.11919\teval-mlogloss:0.34716\n",
      "[230]\ttrain-merror:0.00004\ttrain-mlogloss:0.02900\teval-merror:0.11914\teval-mlogloss:0.34700\n",
      "[231]\ttrain-merror:0.00005\ttrain-mlogloss:0.02868\teval-merror:0.11851\teval-mlogloss:0.34667\n",
      "[232]\ttrain-merror:0.00004\ttrain-mlogloss:0.02835\teval-merror:0.11873\teval-mlogloss:0.34664\n",
      "[233]\ttrain-merror:0.00003\ttrain-mlogloss:0.02802\teval-merror:0.11849\teval-mlogloss:0.34641\n",
      "[234]\ttrain-merror:0.00002\ttrain-mlogloss:0.02776\teval-merror:0.11854\teval-mlogloss:0.34630\n",
      "[235]\ttrain-merror:0.00002\ttrain-mlogloss:0.02746\teval-merror:0.11846\teval-mlogloss:0.34608\n",
      "[236]\ttrain-merror:0.00002\ttrain-mlogloss:0.02717\teval-merror:0.11854\teval-mlogloss:0.34584\n",
      "[237]\ttrain-merror:0.00002\ttrain-mlogloss:0.02694\teval-merror:0.11860\teval-mlogloss:0.34574\n",
      "[238]\ttrain-merror:0.00002\ttrain-mlogloss:0.02669\teval-merror:0.11813\teval-mlogloss:0.34564\n",
      "[239]\ttrain-merror:0.00002\ttrain-mlogloss:0.02636\teval-merror:0.11835\teval-mlogloss:0.34523\n",
      "[240]\ttrain-merror:0.00002\ttrain-mlogloss:0.02608\teval-merror:0.11862\teval-mlogloss:0.34488\n",
      "[241]\ttrain-merror:0.00001\ttrain-mlogloss:0.02579\teval-merror:0.11813\teval-mlogloss:0.34476\n",
      "[242]\ttrain-merror:0.00001\ttrain-mlogloss:0.02549\teval-merror:0.11824\teval-mlogloss:0.34457\n",
      "[243]\ttrain-merror:0.00001\ttrain-mlogloss:0.02522\teval-merror:0.11781\teval-mlogloss:0.34456\n",
      "[244]\ttrain-merror:0.00001\ttrain-mlogloss:0.02488\teval-merror:0.11792\teval-mlogloss:0.34429\n",
      "[245]\ttrain-merror:0.00001\ttrain-mlogloss:0.02466\teval-merror:0.11789\teval-mlogloss:0.34411\n",
      "[246]\ttrain-merror:0.00001\ttrain-mlogloss:0.02430\teval-merror:0.11781\teval-mlogloss:0.34374\n",
      "[247]\ttrain-merror:0.00001\ttrain-mlogloss:0.02405\teval-merror:0.11745\teval-mlogloss:0.34370\n",
      "[248]\ttrain-merror:0.00001\ttrain-mlogloss:0.02382\teval-merror:0.11767\teval-mlogloss:0.34363\n",
      "[249]\ttrain-merror:0.00001\ttrain-mlogloss:0.02356\teval-merror:0.11745\teval-mlogloss:0.34350\n",
      "[250]\ttrain-merror:0.00001\ttrain-mlogloss:0.02328\teval-merror:0.11756\teval-mlogloss:0.34338\n",
      "[251]\ttrain-merror:0.00001\ttrain-mlogloss:0.02306\teval-merror:0.11721\teval-mlogloss:0.34320\n",
      "[252]\ttrain-merror:0.00001\ttrain-mlogloss:0.02283\teval-merror:0.11705\teval-mlogloss:0.34306\n",
      "[253]\ttrain-merror:0.00001\ttrain-mlogloss:0.02258\teval-merror:0.11694\teval-mlogloss:0.34294\n",
      "[254]\ttrain-merror:0.00001\ttrain-mlogloss:0.02231\teval-merror:0.11696\teval-mlogloss:0.34278\n",
      "[255]\ttrain-merror:0.00001\ttrain-mlogloss:0.02209\teval-merror:0.11705\teval-mlogloss:0.34267\n",
      "[256]\ttrain-merror:0.00001\ttrain-mlogloss:0.02179\teval-merror:0.11696\teval-mlogloss:0.34252\n",
      "[257]\ttrain-merror:0.00001\ttrain-mlogloss:0.02147\teval-merror:0.11675\teval-mlogloss:0.34221\n",
      "[258]\ttrain-merror:0.00001\ttrain-mlogloss:0.02121\teval-merror:0.11656\teval-mlogloss:0.34198\n",
      "[259]\ttrain-merror:0.00001\ttrain-mlogloss:0.02099\teval-merror:0.11612\teval-mlogloss:0.34181\n",
      "[260]\ttrain-merror:0.00001\ttrain-mlogloss:0.02073\teval-merror:0.11626\teval-mlogloss:0.34175\n",
      "[261]\ttrain-merror:0.00001\ttrain-mlogloss:0.02053\teval-merror:0.11609\teval-mlogloss:0.34153\n",
      "[262]\ttrain-merror:0.00000\ttrain-mlogloss:0.02026\teval-merror:0.11555\teval-mlogloss:0.34129\n",
      "[263]\ttrain-merror:0.00000\ttrain-mlogloss:0.02001\teval-merror:0.11579\teval-mlogloss:0.34114\n",
      "[264]\ttrain-merror:0.00000\ttrain-mlogloss:0.01982\teval-merror:0.11601\teval-mlogloss:0.34111\n",
      "[265]\ttrain-merror:0.00000\ttrain-mlogloss:0.01959\teval-merror:0.11579\teval-mlogloss:0.34084\n",
      "[266]\ttrain-merror:0.00000\ttrain-mlogloss:0.01936\teval-merror:0.11533\teval-mlogloss:0.34057\n",
      "[267]\ttrain-merror:0.00000\ttrain-mlogloss:0.01916\teval-merror:0.11560\teval-mlogloss:0.34041\n",
      "[268]\ttrain-merror:0.00000\ttrain-mlogloss:0.01897\teval-merror:0.11547\teval-mlogloss:0.34031\n",
      "[269]\ttrain-merror:0.00000\ttrain-mlogloss:0.01872\teval-merror:0.11531\teval-mlogloss:0.34013\n",
      "[270]\ttrain-merror:0.00000\ttrain-mlogloss:0.01852\teval-merror:0.11487\teval-mlogloss:0.34014\n",
      "[271]\ttrain-merror:0.00000\ttrain-mlogloss:0.01831\teval-merror:0.11490\teval-mlogloss:0.33996\n",
      "[272]\ttrain-merror:0.00000\ttrain-mlogloss:0.01813\teval-merror:0.11506\teval-mlogloss:0.33981\n",
      "[273]\ttrain-merror:0.00000\ttrain-mlogloss:0.01794\teval-merror:0.11468\teval-mlogloss:0.33970\n",
      "[274]\ttrain-merror:0.00000\ttrain-mlogloss:0.01777\teval-merror:0.11503\teval-mlogloss:0.33955\n",
      "[275]\ttrain-merror:0.00000\ttrain-mlogloss:0.01761\teval-merror:0.11487\teval-mlogloss:0.33949\n",
      "[276]\ttrain-merror:0.00000\ttrain-mlogloss:0.01746\teval-merror:0.11476\teval-mlogloss:0.33945\n",
      "[277]\ttrain-merror:0.00000\ttrain-mlogloss:0.01731\teval-merror:0.11468\teval-mlogloss:0.33943\n",
      "[278]\ttrain-merror:0.00000\ttrain-mlogloss:0.01716\teval-merror:0.11487\teval-mlogloss:0.33929\n",
      "[279]\ttrain-merror:0.00000\ttrain-mlogloss:0.01698\teval-merror:0.11473\teval-mlogloss:0.33915\n",
      "[280]\ttrain-merror:0.00000\ttrain-mlogloss:0.01679\teval-merror:0.11490\teval-mlogloss:0.33905\n",
      "[281]\ttrain-merror:0.00000\ttrain-mlogloss:0.01661\teval-merror:0.11446\teval-mlogloss:0.33877\n",
      "[282]\ttrain-merror:0.00000\ttrain-mlogloss:0.01642\teval-merror:0.11449\teval-mlogloss:0.33858\n",
      "[283]\ttrain-merror:0.00000\ttrain-mlogloss:0.01626\teval-merror:0.11465\teval-mlogloss:0.33857\n",
      "[284]\ttrain-merror:0.00000\ttrain-mlogloss:0.01609\teval-merror:0.11465\teval-mlogloss:0.33848\n",
      "[285]\ttrain-merror:0.00000\ttrain-mlogloss:0.01595\teval-merror:0.11441\teval-mlogloss:0.33836\n",
      "[286]\ttrain-merror:0.00000\ttrain-mlogloss:0.01578\teval-merror:0.11435\teval-mlogloss:0.33819\n",
      "[287]\ttrain-merror:0.00000\ttrain-mlogloss:0.01561\teval-merror:0.11416\teval-mlogloss:0.33804\n",
      "[288]\ttrain-merror:0.00000\ttrain-mlogloss:0.01546\teval-merror:0.11411\teval-mlogloss:0.33798\n",
      "[289]\ttrain-merror:0.00000\ttrain-mlogloss:0.01527\teval-merror:0.11392\teval-mlogloss:0.33786\n",
      "[290]\ttrain-merror:0.00000\ttrain-mlogloss:0.01512\teval-merror:0.11376\teval-mlogloss:0.33790\n",
      "[291]\ttrain-merror:0.00000\ttrain-mlogloss:0.01497\teval-merror:0.11367\teval-mlogloss:0.33781\n",
      "[292]\ttrain-merror:0.00000\ttrain-mlogloss:0.01482\teval-merror:0.11389\teval-mlogloss:0.33762\n",
      "[293]\ttrain-merror:0.00000\ttrain-mlogloss:0.01470\teval-merror:0.11392\teval-mlogloss:0.33755\n",
      "[294]\ttrain-merror:0.00000\ttrain-mlogloss:0.01453\teval-merror:0.11386\teval-mlogloss:0.33741\n",
      "[295]\ttrain-merror:0.00000\ttrain-mlogloss:0.01437\teval-merror:0.11367\teval-mlogloss:0.33729\n",
      "[296]\ttrain-merror:0.00000\ttrain-mlogloss:0.01419\teval-merror:0.11316\teval-mlogloss:0.33703\n",
      "[297]\ttrain-merror:0.00000\ttrain-mlogloss:0.01407\teval-merror:0.11318\teval-mlogloss:0.33703\n",
      "[298]\ttrain-merror:0.00000\ttrain-mlogloss:0.01390\teval-merror:0.11305\teval-mlogloss:0.33699\n",
      "[299]\ttrain-merror:0.00000\ttrain-mlogloss:0.01375\teval-merror:0.11321\teval-mlogloss:0.33701\n",
      "[300]\ttrain-merror:0.00000\ttrain-mlogloss:0.01365\teval-merror:0.11299\teval-mlogloss:0.33699\n",
      "[301]\ttrain-merror:0.00000\ttrain-mlogloss:0.01352\teval-merror:0.11294\teval-mlogloss:0.33694\n",
      "[302]\ttrain-merror:0.00000\ttrain-mlogloss:0.01339\teval-merror:0.11288\teval-mlogloss:0.33677\n",
      "[303]\ttrain-merror:0.00000\ttrain-mlogloss:0.01326\teval-merror:0.11318\teval-mlogloss:0.33668\n",
      "[304]\ttrain-merror:0.00000\ttrain-mlogloss:0.01312\teval-merror:0.11305\teval-mlogloss:0.33662\n",
      "[305]\ttrain-merror:0.00000\ttrain-mlogloss:0.01302\teval-merror:0.11272\teval-mlogloss:0.33653\n",
      "[306]\ttrain-merror:0.00000\ttrain-mlogloss:0.01289\teval-merror:0.11267\teval-mlogloss:0.33645\n",
      "[307]\ttrain-merror:0.00000\ttrain-mlogloss:0.01274\teval-merror:0.11259\teval-mlogloss:0.33626\n",
      "[308]\ttrain-merror:0.00000\ttrain-mlogloss:0.01263\teval-merror:0.11269\teval-mlogloss:0.33608\n",
      "[309]\ttrain-merror:0.00000\ttrain-mlogloss:0.01251\teval-merror:0.11267\teval-mlogloss:0.33602\n",
      "[310]\ttrain-merror:0.00000\ttrain-mlogloss:0.01238\teval-merror:0.11275\teval-mlogloss:0.33603\n",
      "[311]\ttrain-merror:0.00000\ttrain-mlogloss:0.01226\teval-merror:0.11253\teval-mlogloss:0.33580\n",
      "[312]\ttrain-merror:0.00000\ttrain-mlogloss:0.01215\teval-merror:0.11248\teval-mlogloss:0.33569\n",
      "[313]\ttrain-merror:0.00000\ttrain-mlogloss:0.01205\teval-merror:0.11261\teval-mlogloss:0.33563\n",
      "[314]\ttrain-merror:0.00000\ttrain-mlogloss:0.01193\teval-merror:0.11245\teval-mlogloss:0.33564\n",
      "[315]\ttrain-merror:0.00000\ttrain-mlogloss:0.01181\teval-merror:0.11223\teval-mlogloss:0.33555\n",
      "[316]\ttrain-merror:0.00000\ttrain-mlogloss:0.01170\teval-merror:0.11226\teval-mlogloss:0.33541\n",
      "[317]\ttrain-merror:0.00000\ttrain-mlogloss:0.01158\teval-merror:0.11212\teval-mlogloss:0.33552\n",
      "[318]\ttrain-merror:0.00000\ttrain-mlogloss:0.01147\teval-merror:0.11199\teval-mlogloss:0.33548\n",
      "[319]\ttrain-merror:0.00000\ttrain-mlogloss:0.01136\teval-merror:0.11215\teval-mlogloss:0.33542\n",
      "[320]\ttrain-merror:0.00000\ttrain-mlogloss:0.01128\teval-merror:0.11237\teval-mlogloss:0.33538\n",
      "[321]\ttrain-merror:0.00000\ttrain-mlogloss:0.01116\teval-merror:0.11242\teval-mlogloss:0.33534\n",
      "[322]\ttrain-merror:0.00000\ttrain-mlogloss:0.01102\teval-merror:0.11191\teval-mlogloss:0.33506\n",
      "[323]\ttrain-merror:0.00000\ttrain-mlogloss:0.01093\teval-merror:0.11223\teval-mlogloss:0.33495\n",
      "[324]\ttrain-merror:0.00000\ttrain-mlogloss:0.01081\teval-merror:0.11185\teval-mlogloss:0.33469\n",
      "[325]\ttrain-merror:0.00000\ttrain-mlogloss:0.01070\teval-merror:0.11161\teval-mlogloss:0.33474\n",
      "[326]\ttrain-merror:0.00000\ttrain-mlogloss:0.01057\teval-merror:0.11161\teval-mlogloss:0.33475\n",
      "[327]\ttrain-merror:0.00000\ttrain-mlogloss:0.01046\teval-merror:0.11153\teval-mlogloss:0.33465\n",
      "[328]\ttrain-merror:0.00000\ttrain-mlogloss:0.01037\teval-merror:0.11158\teval-mlogloss:0.33451\n",
      "[329]\ttrain-merror:0.00000\ttrain-mlogloss:0.01028\teval-merror:0.11188\teval-mlogloss:0.33460\n",
      "[330]\ttrain-merror:0.00000\ttrain-mlogloss:0.01018\teval-merror:0.11128\teval-mlogloss:0.33464\n",
      "[331]\ttrain-merror:0.00000\ttrain-mlogloss:0.01011\teval-merror:0.11142\teval-mlogloss:0.33462\n",
      "[332]\ttrain-merror:0.00000\ttrain-mlogloss:0.01002\teval-merror:0.11139\teval-mlogloss:0.33461\n",
      "[333]\ttrain-merror:0.00000\ttrain-mlogloss:0.00993\teval-merror:0.11125\teval-mlogloss:0.33454\n",
      "[334]\ttrain-merror:0.00000\ttrain-mlogloss:0.00984\teval-merror:0.11117\teval-mlogloss:0.33447\n",
      "[335]\ttrain-merror:0.00000\ttrain-mlogloss:0.00974\teval-merror:0.11117\teval-mlogloss:0.33430\n",
      "[336]\ttrain-merror:0.00000\ttrain-mlogloss:0.00962\teval-merror:0.11128\teval-mlogloss:0.33421\n",
      "[337]\ttrain-merror:0.00000\ttrain-mlogloss:0.00952\teval-merror:0.11109\teval-mlogloss:0.33410\n",
      "[338]\ttrain-merror:0.00000\ttrain-mlogloss:0.00941\teval-merror:0.11098\teval-mlogloss:0.33405\n",
      "[339]\ttrain-merror:0.00000\ttrain-mlogloss:0.00934\teval-merror:0.11095\teval-mlogloss:0.33397\n",
      "[340]\ttrain-merror:0.00000\ttrain-mlogloss:0.00924\teval-merror:0.11114\teval-mlogloss:0.33388\n",
      "[341]\ttrain-merror:0.00000\ttrain-mlogloss:0.00915\teval-merror:0.11074\teval-mlogloss:0.33382\n",
      "[342]\ttrain-merror:0.00000\ttrain-mlogloss:0.00907\teval-merror:0.11071\teval-mlogloss:0.33378\n",
      "[343]\ttrain-merror:0.00000\ttrain-mlogloss:0.00900\teval-merror:0.11063\teval-mlogloss:0.33377\n",
      "[344]\ttrain-merror:0.00000\ttrain-mlogloss:0.00892\teval-merror:0.11079\teval-mlogloss:0.33372\n",
      "[345]\ttrain-merror:0.00000\ttrain-mlogloss:0.00882\teval-merror:0.11063\teval-mlogloss:0.33370\n",
      "[346]\ttrain-merror:0.00000\ttrain-mlogloss:0.00877\teval-merror:0.11082\teval-mlogloss:0.33374\n",
      "[347]\ttrain-merror:0.00000\ttrain-mlogloss:0.00870\teval-merror:0.11087\teval-mlogloss:0.33377\n",
      "[348]\ttrain-merror:0.00000\ttrain-mlogloss:0.00861\teval-merror:0.11068\teval-mlogloss:0.33368\n",
      "[349]\ttrain-merror:0.00000\ttrain-mlogloss:0.00854\teval-merror:0.11055\teval-mlogloss:0.33375\n",
      "[350]\ttrain-merror:0.00000\ttrain-mlogloss:0.00847\teval-merror:0.11057\teval-mlogloss:0.33390\n",
      "[351]\ttrain-merror:0.00000\ttrain-mlogloss:0.00839\teval-merror:0.11060\teval-mlogloss:0.33376\n",
      "[352]\ttrain-merror:0.00000\ttrain-mlogloss:0.00832\teval-merror:0.11049\teval-mlogloss:0.33366\n",
      "[353]\ttrain-merror:0.00000\ttrain-mlogloss:0.00823\teval-merror:0.11036\teval-mlogloss:0.33359\n",
      "[354]\ttrain-merror:0.00000\ttrain-mlogloss:0.00814\teval-merror:0.10995\teval-mlogloss:0.33344\n",
      "[355]\ttrain-merror:0.00000\ttrain-mlogloss:0.00806\teval-merror:0.10997\teval-mlogloss:0.33352\n",
      "[356]\ttrain-merror:0.00000\ttrain-mlogloss:0.00798\teval-merror:0.10992\teval-mlogloss:0.33343\n",
      "[357]\ttrain-merror:0.00000\ttrain-mlogloss:0.00789\teval-merror:0.11019\teval-mlogloss:0.33340\n",
      "[358]\ttrain-merror:0.00000\ttrain-mlogloss:0.00783\teval-merror:0.10995\teval-mlogloss:0.33340\n",
      "[359]\ttrain-merror:0.00000\ttrain-mlogloss:0.00777\teval-merror:0.10954\teval-mlogloss:0.33343\n",
      "[360]\ttrain-merror:0.00000\ttrain-mlogloss:0.00771\teval-merror:0.10989\teval-mlogloss:0.33350\n",
      "[361]\ttrain-merror:0.00000\ttrain-mlogloss:0.00765\teval-merror:0.10997\teval-mlogloss:0.33345\n",
      "[362]\ttrain-merror:0.00000\ttrain-mlogloss:0.00758\teval-merror:0.10984\teval-mlogloss:0.33340\n",
      "[363]\ttrain-merror:0.00000\ttrain-mlogloss:0.00752\teval-merror:0.10968\teval-mlogloss:0.33341\n",
      "[364]\ttrain-merror:0.00000\ttrain-mlogloss:0.00746\teval-merror:0.10943\teval-mlogloss:0.33332\n",
      "[365]\ttrain-merror:0.00000\ttrain-mlogloss:0.00741\teval-merror:0.10913\teval-mlogloss:0.33323\n",
      "[366]\ttrain-merror:0.00000\ttrain-mlogloss:0.00734\teval-merror:0.10927\teval-mlogloss:0.33310\n",
      "[367]\ttrain-merror:0.00000\ttrain-mlogloss:0.00727\teval-merror:0.10916\teval-mlogloss:0.33313\n",
      "[368]\ttrain-merror:0.00000\ttrain-mlogloss:0.00720\teval-merror:0.10940\teval-mlogloss:0.33324\n",
      "[369]\ttrain-merror:0.00000\ttrain-mlogloss:0.00714\teval-merror:0.10930\teval-mlogloss:0.33320\n",
      "[370]\ttrain-merror:0.00000\ttrain-mlogloss:0.00707\teval-merror:0.10921\teval-mlogloss:0.33321\n",
      "[371]\ttrain-merror:0.00000\ttrain-mlogloss:0.00700\teval-merror:0.10908\teval-mlogloss:0.33304\n",
      "[372]\ttrain-merror:0.00000\ttrain-mlogloss:0.00694\teval-merror:0.10921\teval-mlogloss:0.33293\n",
      "[373]\ttrain-merror:0.00000\ttrain-mlogloss:0.00688\teval-merror:0.10932\teval-mlogloss:0.33301\n",
      "[374]\ttrain-merror:0.00000\ttrain-mlogloss:0.00681\teval-merror:0.10924\teval-mlogloss:0.33301\n",
      "[375]\ttrain-merror:0.00000\ttrain-mlogloss:0.00674\teval-merror:0.10935\teval-mlogloss:0.33313\n",
      "[376]\ttrain-merror:0.00000\ttrain-mlogloss:0.00668\teval-merror:0.10891\teval-mlogloss:0.33308\n",
      "[377]\ttrain-merror:0.00000\ttrain-mlogloss:0.00662\teval-merror:0.10921\teval-mlogloss:0.33297\n",
      "[378]\ttrain-merror:0.00000\ttrain-mlogloss:0.00657\teval-merror:0.10940\teval-mlogloss:0.33308\n",
      "[379]\ttrain-merror:0.00000\ttrain-mlogloss:0.00650\teval-merror:0.10908\teval-mlogloss:0.33291\n",
      "[380]\ttrain-merror:0.00000\ttrain-mlogloss:0.00644\teval-merror:0.10894\teval-mlogloss:0.33299\n",
      "[381]\ttrain-merror:0.00000\ttrain-mlogloss:0.00638\teval-merror:0.10875\teval-mlogloss:0.33299\n",
      "[382]\ttrain-merror:0.00000\ttrain-mlogloss:0.00633\teval-merror:0.10878\teval-mlogloss:0.33302\n",
      "[383]\ttrain-merror:0.00000\ttrain-mlogloss:0.00628\teval-merror:0.10845\teval-mlogloss:0.33300\n",
      "[384]\ttrain-merror:0.00000\ttrain-mlogloss:0.00624\teval-merror:0.10848\teval-mlogloss:0.33294\n",
      "[385]\ttrain-merror:0.00000\ttrain-mlogloss:0.00618\teval-merror:0.10842\teval-mlogloss:0.33285\n",
      "[386]\ttrain-merror:0.00000\ttrain-mlogloss:0.00613\teval-merror:0.10862\teval-mlogloss:0.33262\n",
      "[387]\ttrain-merror:0.00000\ttrain-mlogloss:0.00608\teval-merror:0.10842\teval-mlogloss:0.33252\n",
      "[388]\ttrain-merror:0.00000\ttrain-mlogloss:0.00602\teval-merror:0.10845\teval-mlogloss:0.33246\n",
      "[389]\ttrain-merror:0.00000\ttrain-mlogloss:0.00596\teval-merror:0.10834\teval-mlogloss:0.33236\n",
      "[390]\ttrain-merror:0.00000\ttrain-mlogloss:0.00591\teval-merror:0.10832\teval-mlogloss:0.33230\n",
      "[391]\ttrain-merror:0.00000\ttrain-mlogloss:0.00586\teval-merror:0.10842\teval-mlogloss:0.33233\n",
      "[392]\ttrain-merror:0.00000\ttrain-mlogloss:0.00582\teval-merror:0.10840\teval-mlogloss:0.33234\n",
      "[393]\ttrain-merror:0.00000\ttrain-mlogloss:0.00576\teval-merror:0.10872\teval-mlogloss:0.33229\n",
      "[394]\ttrain-merror:0.00000\ttrain-mlogloss:0.00572\teval-merror:0.10834\teval-mlogloss:0.33234\n",
      "[395]\ttrain-merror:0.00000\ttrain-mlogloss:0.00567\teval-merror:0.10821\teval-mlogloss:0.33233\n",
      "[396]\ttrain-merror:0.00000\ttrain-mlogloss:0.00562\teval-merror:0.10853\teval-mlogloss:0.33235\n",
      "[397]\ttrain-merror:0.00000\ttrain-mlogloss:0.00557\teval-merror:0.10823\teval-mlogloss:0.33231\n",
      "[398]\ttrain-merror:0.00000\ttrain-mlogloss:0.00553\teval-merror:0.10815\teval-mlogloss:0.33230\n",
      "[399]\ttrain-merror:0.00000\ttrain-mlogloss:0.00549\teval-merror:0.10832\teval-mlogloss:0.33229\n",
      "[400]\ttrain-merror:0.00000\ttrain-mlogloss:0.00544\teval-merror:0.10821\teval-mlogloss:0.33232\n",
      "[401]\ttrain-merror:0.00000\ttrain-mlogloss:0.00538\teval-merror:0.10829\teval-mlogloss:0.33237\n",
      "[402]\ttrain-merror:0.00000\ttrain-mlogloss:0.00534\teval-merror:0.10818\teval-mlogloss:0.33237\n",
      "[403]\ttrain-merror:0.00000\ttrain-mlogloss:0.00529\teval-merror:0.10815\teval-mlogloss:0.33237\n",
      "[404]\ttrain-merror:0.00000\ttrain-mlogloss:0.00525\teval-merror:0.10832\teval-mlogloss:0.33231\n",
      "[405]\ttrain-merror:0.00000\ttrain-mlogloss:0.00522\teval-merror:0.10832\teval-mlogloss:0.33230\n",
      "[406]\ttrain-merror:0.00000\ttrain-mlogloss:0.00518\teval-merror:0.10799\teval-mlogloss:0.33231\n",
      "[407]\ttrain-merror:0.00000\ttrain-mlogloss:0.00514\teval-merror:0.10826\teval-mlogloss:0.33233\n",
      "[408]\ttrain-merror:0.00000\ttrain-mlogloss:0.00511\teval-merror:0.10794\teval-mlogloss:0.33241\n",
      "Best merror: 0.33 in 400 rounds\n"
     ]
    }
   ],
   "source": [
    "# train model with that\n",
    "evals_result = {}\n",
    "\n",
    "model = xgb.train(\n",
    "    params,\n",
    "    dtrain,\n",
    "    num_boost_round=999,\n",
    "    evals=[(dtrain, \"train\"), (dtest, \"eval\")],\n",
    "    early_stopping_rounds=10,\n",
    "    evals_result = evals_result\n",
    ")\n",
    "print(\"Best merror: {:.2f} in {} rounds\".format(model.best_score, model.best_iteration+1))"
   ]
  },
  {
   "cell_type": "code",
   "execution_count": 23,
   "metadata": {
    "execution": {
     "iopub.execute_input": "2024-06-05T00:49:38.042839Z",
     "iopub.status.busy": "2024-06-05T00:49:38.042673Z",
     "iopub.status.idle": "2024-06-05T00:49:38.152661Z",
     "shell.execute_reply": "2024-06-05T00:49:38.151799Z"
    }
   },
   "outputs": [
    {
     "data": {
      "image/png": "[encoded data removed]",
      "text/plain": [
       "<Figure size 640x480 with 1 Axes>"
      ]
     },
     "metadata": {},
     "output_type": "display_data"
    }
   ],
   "source": [
    "epochs = len(evals_result['train']['mlogloss'])\n",
    "x_axis = range(0, epochs)\n",
    "\n",
    "fig, ax = plt.subplots()\n",
    "ax.plot(x_axis, evals_result['train']['mlogloss'], label='Train')\n",
    "ax.plot(x_axis, evals_result['eval']['mlogloss'], label='Eval')\n",
    "ax.legend()\n",
    "plt.ylabel('Log Loss')\n",
    "plt.xlabel('iteration')\n",
    "plt.title('Log Loss')\n",
    "plt.show()"
   ]
  },
  {
   "cell_type": "code",
   "execution_count": 24,
   "metadata": {
    "execution": {
     "iopub.execute_input": "2024-06-05T00:49:38.154335Z",
     "iopub.status.busy": "2024-06-05T00:49:38.154211Z",
     "iopub.status.idle": "2024-06-05T00:49:38.252650Z",
     "shell.execute_reply": "2024-06-05T00:49:38.252302Z"
    }
   },
   "outputs": [
    {
     "data": {
      "image/png": "[encoded data removed]",
      "text/plain": [
       "<Figure size 900x500 with 1 Axes>"
      ]
     },
     "metadata": {},
     "output_type": "display_data"
    }
   ],
   "source": [
    "# xgboost 'merror' plot\n",
    "fig, ax = plt.subplots(figsize=(9,5))\n",
    "ax.plot(x_axis, evals_result['train']['merror'], label='Train')\n",
    "ax.plot(x_axis, evals_result['eval']['merror'], label='Test')\n",
    "ax.legend()\n",
    "plt.ylabel('merror')\n",
    "plt.xlabel('iteration')\n",
    "plt.title('XGBoost merror')\n",
    "plt.show()"
   ]
  },
  {
   "cell_type": "code",
   "execution_count": 25,
   "metadata": {
    "execution": {
     "iopub.execute_input": "2024-06-05T00:49:38.254309Z",
     "iopub.status.busy": "2024-06-05T00:49:38.254188Z",
     "iopub.status.idle": "2024-06-05T10:44:26.649162Z",
     "shell.execute_reply": "2024-06-05T10:44:26.648224Z"
    }
   },
   "outputs": [
    {
     "name": "stderr",
     "output_type": "stream",
     "text": [
      "[02:49:38] WARNING: /home/conda/feedstock_root/build_artifacts/xgboost-split_1705650052425/work/src/context.cc:44: No visible GPU is found, setting device to CPU.\n"
     ]
    },
    {
     "name": "stdout",
     "output_type": "stream",
     "text": [
      "[0]\tTest-merror:0.35872\tTest-mlogloss:1.86016\n",
      "[1]\tTest-merror:0.32794\tTest-mlogloss:1.56997\n",
      "[2]\tTest-merror:0.30964\tTest-mlogloss:1.38060\n",
      "[3]\tTest-merror:0.29517\tTest-mlogloss:1.24162\n",
      "[4]\tTest-merror:0.28625\tTest-mlogloss:1.13804\n",
      "[5]\tTest-merror:0.27709\tTest-mlogloss:1.05478\n",
      "[6]\tTest-merror:0.26751\tTest-mlogloss:0.98488\n",
      "[7]\tTest-merror:0.26205\tTest-mlogloss:0.93001\n",
      "[8]\tTest-merror:0.25636\tTest-mlogloss:0.88402\n",
      "[9]\tTest-merror:0.24937\tTest-mlogloss:0.84258\n",
      "[10]\tTest-merror:0.24375\tTest-mlogloss:0.80677\n",
      "[11]\tTest-merror:0.23752\tTest-mlogloss:0.77476\n",
      "[12]\tTest-merror:0.23241\tTest-mlogloss:0.74841\n",
      "[13]\tTest-merror:0.22835\tTest-mlogloss:0.72573\n",
      "[14]\tTest-merror:0.22359\tTest-mlogloss:0.70412\n",
      "[15]\tTest-merror:0.21922\tTest-mlogloss:0.68457\n",
      "[16]\tTest-merror:0.21587\tTest-mlogloss:0.66918\n",
      "[17]\tTest-merror:0.21402\tTest-mlogloss:0.65572\n",
      "[18]\tTest-merror:0.21065\tTest-mlogloss:0.64153\n",
      "[19]\tTest-merror:0.20747\tTest-mlogloss:0.62880\n",
      "[20]\tTest-merror:0.20328\tTest-mlogloss:0.61777\n",
      "[21]\tTest-merror:0.20056\tTest-mlogloss:0.60815\n",
      "[22]\tTest-merror:0.19792\tTest-mlogloss:0.59743\n",
      "[23]\tTest-merror:0.19602\tTest-mlogloss:0.58891\n",
      "[24]\tTest-merror:0.19398\tTest-mlogloss:0.58084\n",
      "[25]\tTest-merror:0.19164\tTest-mlogloss:0.57155\n",
      "[26]\tTest-merror:0.19014\tTest-mlogloss:0.56403\n",
      "[27]\tTest-merror:0.18778\tTest-mlogloss:0.55788\n",
      "[28]\tTest-merror:0.18639\tTest-mlogloss:0.55234\n",
      "[29]\tTest-merror:0.18468\tTest-mlogloss:0.54592\n",
      "[30]\tTest-merror:0.18269\tTest-mlogloss:0.53985\n",
      "[31]\tTest-merror:0.18125\tTest-mlogloss:0.53494\n",
      "[32]\tTest-merror:0.17978\tTest-mlogloss:0.52975\n",
      "[33]\tTest-merror:0.17815\tTest-mlogloss:0.52531\n",
      "[34]\tTest-merror:0.17636\tTest-mlogloss:0.52055\n",
      "[35]\tTest-merror:0.17565\tTest-mlogloss:0.51666\n",
      "[36]\tTest-merror:0.17386\tTest-mlogloss:0.51297\n",
      "[37]\tTest-merror:0.17293\tTest-mlogloss:0.50888\n",
      "[38]\tTest-merror:0.17160\tTest-mlogloss:0.50476\n",
      "[39]\tTest-merror:0.17021\tTest-mlogloss:0.50134\n",
      "[40]\tTest-merror:0.16956\tTest-mlogloss:0.49800\n",
      "[41]\tTest-merror:0.16842\tTest-mlogloss:0.49422\n",
      "[42]\tTest-merror:0.16727\tTest-mlogloss:0.49122\n",
      "[43]\tTest-merror:0.16551\tTest-mlogloss:0.48833\n",
      "[44]\tTest-merror:0.16472\tTest-mlogloss:0.48513\n",
      "[45]\tTest-merror:0.16382\tTest-mlogloss:0.48211\n",
      "[46]\tTest-merror:0.16287\tTest-mlogloss:0.47927\n",
      "[47]\tTest-merror:0.16208\tTest-mlogloss:0.47633\n",
      "[48]\tTest-merror:0.16056\tTest-mlogloss:0.47372\n",
      "[49]\tTest-merror:0.15974\tTest-mlogloss:0.47121\n",
      "[50]\tTest-merror:0.15879\tTest-mlogloss:0.46888\n",
      "[51]\tTest-merror:0.15740\tTest-mlogloss:0.46600\n",
      "[52]\tTest-merror:0.15708\tTest-mlogloss:0.46377\n",
      "[53]\tTest-merror:0.15640\tTest-mlogloss:0.46168\n",
      "[54]\tTest-merror:0.15563\tTest-mlogloss:0.45953\n",
      "[55]\tTest-merror:0.15531\tTest-mlogloss:0.45730\n",
      "[56]\tTest-merror:0.15471\tTest-mlogloss:0.45536\n",
      "[57]\tTest-merror:0.15447\tTest-mlogloss:0.45347\n",
      "[58]\tTest-merror:0.15316\tTest-mlogloss:0.45161\n",
      "[59]\tTest-merror:0.15259\tTest-mlogloss:0.45003\n",
      "[60]\tTest-merror:0.15237\tTest-mlogloss:0.44843\n",
      "[61]\tTest-merror:0.15172\tTest-mlogloss:0.44693\n",
      "[62]\tTest-merror:0.15104\tTest-mlogloss:0.44517\n",
      "[63]\tTest-merror:0.15109\tTest-mlogloss:0.44362\n",
      "[64]\tTest-merror:0.15028\tTest-mlogloss:0.44188\n",
      "[65]\tTest-merror:0.14971\tTest-mlogloss:0.44001\n",
      "[66]\tTest-merror:0.14905\tTest-mlogloss:0.43777\n",
      "[67]\tTest-merror:0.14832\tTest-mlogloss:0.43627\n",
      "[68]\tTest-merror:0.14742\tTest-mlogloss:0.43434\n",
      "[69]\tTest-merror:0.14707\tTest-mlogloss:0.43277\n",
      "[70]\tTest-merror:0.14647\tTest-mlogloss:0.43087\n",
      "[71]\tTest-merror:0.14579\tTest-mlogloss:0.42944\n",
      "[72]\tTest-merror:0.14565\tTest-mlogloss:0.42794\n",
      "[73]\tTest-merror:0.14476\tTest-mlogloss:0.42609\n",
      "[74]\tTest-merror:0.14473\tTest-mlogloss:0.42510\n",
      "[75]\tTest-merror:0.14468\tTest-mlogloss:0.42379\n",
      "[76]\tTest-merror:0.14389\tTest-mlogloss:0.42215\n",
      "[77]\tTest-merror:0.14375\tTest-mlogloss:0.42134\n",
      "[78]\tTest-merror:0.14321\tTest-mlogloss:0.41992\n",
      "[79]\tTest-merror:0.14307\tTest-mlogloss:0.41862\n",
      "[80]\tTest-merror:0.14261\tTest-mlogloss:0.41751\n",
      "[81]\tTest-merror:0.14206\tTest-mlogloss:0.41674\n",
      "[82]\tTest-merror:0.14149\tTest-mlogloss:0.41557\n",
      "[83]\tTest-merror:0.14141\tTest-mlogloss:0.41434\n",
      "[84]\tTest-merror:0.14070\tTest-mlogloss:0.41302\n",
      "[85]\tTest-merror:0.14060\tTest-mlogloss:0.41208\n",
      "[86]\tTest-merror:0.14076\tTest-mlogloss:0.41131\n",
      "[87]\tTest-merror:0.14008\tTest-mlogloss:0.41011\n",
      "[88]\tTest-merror:0.13975\tTest-mlogloss:0.40906\n",
      "[89]\tTest-merror:0.13915\tTest-mlogloss:0.40806\n",
      "[90]\tTest-merror:0.13899\tTest-mlogloss:0.40674\n",
      "[91]\tTest-merror:0.13880\tTest-mlogloss:0.40616\n",
      "[92]\tTest-merror:0.13883\tTest-mlogloss:0.40492\n",
      "[93]\tTest-merror:0.13883\tTest-mlogloss:0.40421\n",
      "[94]\tTest-merror:0.13902\tTest-mlogloss:0.40343\n",
      "[95]\tTest-merror:0.13807\tTest-mlogloss:0.40283\n",
      "[96]\tTest-merror:0.13807\tTest-mlogloss:0.40199\n",
      "[97]\tTest-merror:0.13769\tTest-mlogloss:0.40115\n",
      "[98]\tTest-merror:0.13766\tTest-mlogloss:0.40058\n",
      "[99]\tTest-merror:0.13766\tTest-mlogloss:0.39960\n",
      "[100]\tTest-merror:0.13733\tTest-mlogloss:0.39881\n",
      "[101]\tTest-merror:0.13706\tTest-mlogloss:0.39827\n",
      "[102]\tTest-merror:0.13722\tTest-mlogloss:0.39739\n",
      "[103]\tTest-merror:0.13641\tTest-mlogloss:0.39668\n",
      "[104]\tTest-merror:0.13595\tTest-mlogloss:0.39552\n",
      "[105]\tTest-merror:0.13562\tTest-mlogloss:0.39475\n",
      "[106]\tTest-merror:0.13570\tTest-mlogloss:0.39428\n",
      "[107]\tTest-merror:0.13573\tTest-mlogloss:0.39359\n",
      "[108]\tTest-merror:0.13554\tTest-mlogloss:0.39271\n",
      "[109]\tTest-merror:0.13540\tTest-mlogloss:0.39213\n",
      "[110]\tTest-merror:0.13537\tTest-mlogloss:0.39140\n",
      "[111]\tTest-merror:0.13494\tTest-mlogloss:0.39058\n",
      "[112]\tTest-merror:0.13475\tTest-mlogloss:0.39002\n",
      "[113]\tTest-merror:0.13448\tTest-mlogloss:0.38953\n",
      "[114]\tTest-merror:0.13431\tTest-mlogloss:0.38871\n",
      "[115]\tTest-merror:0.13361\tTest-mlogloss:0.38799\n",
      "[116]\tTest-merror:0.13325\tTest-mlogloss:0.38738\n",
      "[117]\tTest-merror:0.13344\tTest-mlogloss:0.38686\n",
      "[118]\tTest-merror:0.13353\tTest-mlogloss:0.38648\n",
      "[119]\tTest-merror:0.13355\tTest-mlogloss:0.38599\n",
      "[120]\tTest-merror:0.13314\tTest-mlogloss:0.38537\n",
      "[121]\tTest-merror:0.13293\tTest-mlogloss:0.38476\n",
      "[122]\tTest-merror:0.13230\tTest-mlogloss:0.38423\n",
      "[123]\tTest-merror:0.13214\tTest-mlogloss:0.38346\n",
      "[124]\tTest-merror:0.13236\tTest-mlogloss:0.38279\n",
      "[125]\tTest-merror:0.13195\tTest-mlogloss:0.38220\n",
      "[126]\tTest-merror:0.13189\tTest-mlogloss:0.38184\n",
      "[127]\tTest-merror:0.13179\tTest-mlogloss:0.38130\n",
      "[128]\tTest-merror:0.13159\tTest-mlogloss:0.38077\n",
      "[129]\tTest-merror:0.13130\tTest-mlogloss:0.38037\n",
      "[130]\tTest-merror:0.13116\tTest-mlogloss:0.37976\n",
      "[131]\tTest-merror:0.13127\tTest-mlogloss:0.37932\n",
      "[132]\tTest-merror:0.13157\tTest-mlogloss:0.37861\n",
      "[133]\tTest-merror:0.13105\tTest-mlogloss:0.37792\n",
      "[134]\tTest-merror:0.13032\tTest-mlogloss:0.37720\n",
      "[135]\tTest-merror:0.13010\tTest-mlogloss:0.37675\n",
      "[136]\tTest-merror:0.12977\tTest-mlogloss:0.37618\n",
      "[137]\tTest-merror:0.12966\tTest-mlogloss:0.37583\n",
      "[138]\tTest-merror:0.12985\tTest-mlogloss:0.37543\n",
      "[139]\tTest-merror:0.12931\tTest-mlogloss:0.37502\n",
      "[140]\tTest-merror:0.12969\tTest-mlogloss:0.37459\n",
      "[141]\tTest-merror:0.12931\tTest-mlogloss:0.37425\n",
      "[142]\tTest-merror:0.12920\tTest-mlogloss:0.37390\n",
      "[143]\tTest-merror:0.12898\tTest-mlogloss:0.37340\n",
      "[144]\tTest-merror:0.12888\tTest-mlogloss:0.37305\n",
      "[145]\tTest-merror:0.12855\tTest-mlogloss:0.37257\n",
      "[146]\tTest-merror:0.12817\tTest-mlogloss:0.37192\n",
      "[147]\tTest-merror:0.12803\tTest-mlogloss:0.37140\n",
      "[148]\tTest-merror:0.12841\tTest-mlogloss:0.37091\n",
      "[149]\tTest-merror:0.12820\tTest-mlogloss:0.37067\n",
      "[150]\tTest-merror:0.12779\tTest-mlogloss:0.36995\n",
      "[151]\tTest-merror:0.12790\tTest-mlogloss:0.36978\n",
      "[152]\tTest-merror:0.12784\tTest-mlogloss:0.36945\n",
      "[153]\tTest-merror:0.12765\tTest-mlogloss:0.36894\n",
      "[154]\tTest-merror:0.12746\tTest-mlogloss:0.36838\n",
      "[155]\tTest-merror:0.12735\tTest-mlogloss:0.36798\n",
      "[156]\tTest-merror:0.12703\tTest-mlogloss:0.36744\n",
      "[157]\tTest-merror:0.12713\tTest-mlogloss:0.36703\n",
      "[158]\tTest-merror:0.12689\tTest-mlogloss:0.36657\n",
      "[159]\tTest-merror:0.12689\tTest-mlogloss:0.36591\n",
      "[160]\tTest-merror:0.12656\tTest-mlogloss:0.36562\n",
      "[161]\tTest-merror:0.12637\tTest-mlogloss:0.36527\n",
      "[162]\tTest-merror:0.12645\tTest-mlogloss:0.36521\n",
      "[163]\tTest-merror:0.12621\tTest-mlogloss:0.36449\n",
      "[164]\tTest-merror:0.12632\tTest-mlogloss:0.36417\n",
      "[165]\tTest-merror:0.12599\tTest-mlogloss:0.36375\n",
      "[166]\tTest-merror:0.12610\tTest-mlogloss:0.36340\n",
      "[167]\tTest-merror:0.12599\tTest-mlogloss:0.36297\n",
      "[168]\tTest-merror:0.12569\tTest-mlogloss:0.36272\n",
      "[169]\tTest-merror:0.12529\tTest-mlogloss:0.36238\n",
      "[170]\tTest-merror:0.12537\tTest-mlogloss:0.36188\n",
      "[171]\tTest-merror:0.12515\tTest-mlogloss:0.36152\n",
      "[172]\tTest-merror:0.12461\tTest-mlogloss:0.36123\n",
      "[173]\tTest-merror:0.12499\tTest-mlogloss:0.36078\n",
      "[174]\tTest-merror:0.12452\tTest-mlogloss:0.36070\n",
      "[175]\tTest-merror:0.12439\tTest-mlogloss:0.36026\n",
      "[176]\tTest-merror:0.12412\tTest-mlogloss:0.35999\n",
      "[177]\tTest-merror:0.12431\tTest-mlogloss:0.35966\n",
      "[178]\tTest-merror:0.12403\tTest-mlogloss:0.35930\n",
      "[179]\tTest-merror:0.12406\tTest-mlogloss:0.35895\n",
      "[180]\tTest-merror:0.12414\tTest-mlogloss:0.35866\n",
      "[181]\tTest-merror:0.12395\tTest-mlogloss:0.35832\n",
      "[182]\tTest-merror:0.12368\tTest-mlogloss:0.35802\n",
      "[183]\tTest-merror:0.12346\tTest-mlogloss:0.35761\n",
      "[184]\tTest-merror:0.12297\tTest-mlogloss:0.35723\n",
      "[185]\tTest-merror:0.12314\tTest-mlogloss:0.35696\n",
      "[186]\tTest-merror:0.12270\tTest-mlogloss:0.35681\n",
      "[187]\tTest-merror:0.12319\tTest-mlogloss:0.35665\n",
      "[188]\tTest-merror:0.12259\tTest-mlogloss:0.35640\n",
      "[189]\tTest-merror:0.12259\tTest-mlogloss:0.35603\n",
      "[190]\tTest-merror:0.12257\tTest-mlogloss:0.35566\n",
      "[191]\tTest-merror:0.12276\tTest-mlogloss:0.35546\n",
      "[192]\tTest-merror:0.12278\tTest-mlogloss:0.35521\n",
      "[193]\tTest-merror:0.12276\tTest-mlogloss:0.35523\n",
      "[194]\tTest-merror:0.12284\tTest-mlogloss:0.35496\n",
      "[195]\tTest-merror:0.12281\tTest-mlogloss:0.35486\n",
      "[196]\tTest-merror:0.12254\tTest-mlogloss:0.35448\n",
      "[197]\tTest-merror:0.12229\tTest-mlogloss:0.35421\n",
      "[198]\tTest-merror:0.12243\tTest-mlogloss:0.35388\n",
      "[199]\tTest-merror:0.12210\tTest-mlogloss:0.35348\n",
      "[200]\tTest-merror:0.12164\tTest-mlogloss:0.35324\n",
      "[201]\tTest-merror:0.12189\tTest-mlogloss:0.35302\n",
      "[202]\tTest-merror:0.12156\tTest-mlogloss:0.35277\n",
      "[203]\tTest-merror:0.12170\tTest-mlogloss:0.35251\n",
      "[204]\tTest-merror:0.12164\tTest-mlogloss:0.35220\n",
      "[205]\tTest-merror:0.12129\tTest-mlogloss:0.35216\n",
      "[206]\tTest-merror:0.12148\tTest-mlogloss:0.35203\n",
      "[207]\tTest-merror:0.12142\tTest-mlogloss:0.35175\n",
      "[208]\tTest-merror:0.12164\tTest-mlogloss:0.35162\n",
      "[209]\tTest-merror:0.12180\tTest-mlogloss:0.35144\n",
      "[210]\tTest-merror:0.12134\tTest-mlogloss:0.35140\n",
      "[211]\tTest-merror:0.12140\tTest-mlogloss:0.35113\n",
      "[212]\tTest-merror:0.12096\tTest-mlogloss:0.35090\n",
      "[213]\tTest-merror:0.12093\tTest-mlogloss:0.35077\n",
      "[214]\tTest-merror:0.12091\tTest-mlogloss:0.35056\n",
      "[215]\tTest-merror:0.12083\tTest-mlogloss:0.35038\n",
      "[216]\tTest-merror:0.12050\tTest-mlogloss:0.35027\n",
      "[217]\tTest-merror:0.12012\tTest-mlogloss:0.34979\n",
      "[218]\tTest-merror:0.11996\tTest-mlogloss:0.34959\n",
      "[219]\tTest-merror:0.12034\tTest-mlogloss:0.34939\n",
      "[220]\tTest-merror:0.11982\tTest-mlogloss:0.34916\n",
      "[221]\tTest-merror:0.11966\tTest-mlogloss:0.34900\n",
      "[222]\tTest-merror:0.11966\tTest-mlogloss:0.34875\n",
      "[223]\tTest-merror:0.11960\tTest-mlogloss:0.34865\n",
      "[224]\tTest-merror:0.11960\tTest-mlogloss:0.34839\n",
      "[225]\tTest-merror:0.11938\tTest-mlogloss:0.34813\n",
      "[226]\tTest-merror:0.11933\tTest-mlogloss:0.34799\n",
      "[227]\tTest-merror:0.11911\tTest-mlogloss:0.34776\n",
      "[228]\tTest-merror:0.11887\tTest-mlogloss:0.34756\n",
      "[229]\tTest-merror:0.11919\tTest-mlogloss:0.34716\n",
      "[230]\tTest-merror:0.11914\tTest-mlogloss:0.34700\n",
      "[231]\tTest-merror:0.11851\tTest-mlogloss:0.34667\n",
      "[232]\tTest-merror:0.11873\tTest-mlogloss:0.34664\n",
      "[233]\tTest-merror:0.11849\tTest-mlogloss:0.34641\n",
      "[234]\tTest-merror:0.11854\tTest-mlogloss:0.34630\n",
      "[235]\tTest-merror:0.11846\tTest-mlogloss:0.34608\n",
      "[236]\tTest-merror:0.11854\tTest-mlogloss:0.34584\n",
      "[237]\tTest-merror:0.11860\tTest-mlogloss:0.34574\n",
      "[238]\tTest-merror:0.11813\tTest-mlogloss:0.34564\n",
      "[239]\tTest-merror:0.11835\tTest-mlogloss:0.34523\n",
      "[240]\tTest-merror:0.11862\tTest-mlogloss:0.34488\n",
      "[241]\tTest-merror:0.11813\tTest-mlogloss:0.34476\n",
      "[242]\tTest-merror:0.11824\tTest-mlogloss:0.34457\n",
      "[243]\tTest-merror:0.11781\tTest-mlogloss:0.34456\n",
      "[244]\tTest-merror:0.11792\tTest-mlogloss:0.34429\n",
      "[245]\tTest-merror:0.11789\tTest-mlogloss:0.34411\n",
      "[246]\tTest-merror:0.11781\tTest-mlogloss:0.34374\n",
      "[247]\tTest-merror:0.11745\tTest-mlogloss:0.34370\n",
      "[248]\tTest-merror:0.11767\tTest-mlogloss:0.34363\n",
      "[249]\tTest-merror:0.11745\tTest-mlogloss:0.34350\n",
      "[250]\tTest-merror:0.11756\tTest-mlogloss:0.34338\n",
      "[251]\tTest-merror:0.11721\tTest-mlogloss:0.34320\n",
      "[252]\tTest-merror:0.11705\tTest-mlogloss:0.34306\n",
      "[253]\tTest-merror:0.11694\tTest-mlogloss:0.34294\n",
      "[254]\tTest-merror:0.11696\tTest-mlogloss:0.34278\n",
      "[255]\tTest-merror:0.11705\tTest-mlogloss:0.34267\n",
      "[256]\tTest-merror:0.11696\tTest-mlogloss:0.34252\n",
      "[257]\tTest-merror:0.11675\tTest-mlogloss:0.34221\n",
      "[258]\tTest-merror:0.11656\tTest-mlogloss:0.34198\n",
      "[259]\tTest-merror:0.11612\tTest-mlogloss:0.34181\n",
      "[260]\tTest-merror:0.11626\tTest-mlogloss:0.34175\n",
      "[261]\tTest-merror:0.11609\tTest-mlogloss:0.34153\n",
      "[262]\tTest-merror:0.11555\tTest-mlogloss:0.34129\n",
      "[263]\tTest-merror:0.11579\tTest-mlogloss:0.34114\n",
      "[264]\tTest-merror:0.11601\tTest-mlogloss:0.34111\n",
      "[265]\tTest-merror:0.11579\tTest-mlogloss:0.34084\n",
      "[266]\tTest-merror:0.11533\tTest-mlogloss:0.34057\n",
      "[267]\tTest-merror:0.11560\tTest-mlogloss:0.34041\n",
      "[268]\tTest-merror:0.11547\tTest-mlogloss:0.34031\n",
      "[269]\tTest-merror:0.11531\tTest-mlogloss:0.34013\n",
      "[270]\tTest-merror:0.11487\tTest-mlogloss:0.34014\n",
      "[271]\tTest-merror:0.11490\tTest-mlogloss:0.33996\n",
      "[272]\tTest-merror:0.11506\tTest-mlogloss:0.33981\n",
      "[273]\tTest-merror:0.11468\tTest-mlogloss:0.33970\n",
      "[274]\tTest-merror:0.11503\tTest-mlogloss:0.33955\n",
      "[275]\tTest-merror:0.11487\tTest-mlogloss:0.33949\n",
      "[276]\tTest-merror:0.11476\tTest-mlogloss:0.33945\n",
      "[277]\tTest-merror:0.11468\tTest-mlogloss:0.33943\n",
      "[278]\tTest-merror:0.11487\tTest-mlogloss:0.33929\n",
      "[279]\tTest-merror:0.11473\tTest-mlogloss:0.33915\n",
      "[280]\tTest-merror:0.11490\tTest-mlogloss:0.33905\n",
      "[281]\tTest-merror:0.11446\tTest-mlogloss:0.33877\n",
      "[282]\tTest-merror:0.11449\tTest-mlogloss:0.33858\n",
      "[283]\tTest-merror:0.11465\tTest-mlogloss:0.33857\n",
      "[284]\tTest-merror:0.11465\tTest-mlogloss:0.33848\n",
      "[285]\tTest-merror:0.11441\tTest-mlogloss:0.33836\n",
      "[286]\tTest-merror:0.11435\tTest-mlogloss:0.33819\n",
      "[287]\tTest-merror:0.11416\tTest-mlogloss:0.33804\n",
      "[288]\tTest-merror:0.11411\tTest-mlogloss:0.33798\n",
      "[289]\tTest-merror:0.11392\tTest-mlogloss:0.33786\n",
      "[290]\tTest-merror:0.11376\tTest-mlogloss:0.33790\n",
      "[291]\tTest-merror:0.11367\tTest-mlogloss:0.33781\n",
      "[292]\tTest-merror:0.11389\tTest-mlogloss:0.33762\n",
      "[293]\tTest-merror:0.11392\tTest-mlogloss:0.33755\n",
      "[294]\tTest-merror:0.11386\tTest-mlogloss:0.33741\n",
      "[295]\tTest-merror:0.11367\tTest-mlogloss:0.33729\n",
      "[296]\tTest-merror:0.11316\tTest-mlogloss:0.33703\n",
      "[297]\tTest-merror:0.11318\tTest-mlogloss:0.33703\n",
      "[298]\tTest-merror:0.11305\tTest-mlogloss:0.33699\n",
      "[299]\tTest-merror:0.11321\tTest-mlogloss:0.33701\n",
      "[300]\tTest-merror:0.11299\tTest-mlogloss:0.33699\n",
      "[301]\tTest-merror:0.11294\tTest-mlogloss:0.33694\n",
      "[302]\tTest-merror:0.11288\tTest-mlogloss:0.33677\n",
      "[303]\tTest-merror:0.11318\tTest-mlogloss:0.33668\n",
      "[304]\tTest-merror:0.11305\tTest-mlogloss:0.33662\n",
      "[305]\tTest-merror:0.11272\tTest-mlogloss:0.33653\n",
      "[306]\tTest-merror:0.11267\tTest-mlogloss:0.33645\n",
      "[307]\tTest-merror:0.11259\tTest-mlogloss:0.33626\n",
      "[308]\tTest-merror:0.11269\tTest-mlogloss:0.33608\n",
      "[309]\tTest-merror:0.11267\tTest-mlogloss:0.33602\n",
      "[310]\tTest-merror:0.11275\tTest-mlogloss:0.33603\n",
      "[311]\tTest-merror:0.11253\tTest-mlogloss:0.33580\n",
      "[312]\tTest-merror:0.11248\tTest-mlogloss:0.33569\n",
      "[313]\tTest-merror:0.11261\tTest-mlogloss:0.33563\n",
      "[314]\tTest-merror:0.11245\tTest-mlogloss:0.33564\n",
      "[315]\tTest-merror:0.11223\tTest-mlogloss:0.33555\n",
      "[316]\tTest-merror:0.11226\tTest-mlogloss:0.33541\n",
      "[317]\tTest-merror:0.11212\tTest-mlogloss:0.33552\n",
      "[318]\tTest-merror:0.11199\tTest-mlogloss:0.33548\n",
      "[319]\tTest-merror:0.11215\tTest-mlogloss:0.33542\n",
      "[320]\tTest-merror:0.11237\tTest-mlogloss:0.33538\n",
      "[321]\tTest-merror:0.11242\tTest-mlogloss:0.33534\n",
      "[322]\tTest-merror:0.11191\tTest-mlogloss:0.33506\n",
      "[323]\tTest-merror:0.11223\tTest-mlogloss:0.33495\n",
      "[324]\tTest-merror:0.11185\tTest-mlogloss:0.33469\n",
      "[325]\tTest-merror:0.11161\tTest-mlogloss:0.33474\n",
      "[326]\tTest-merror:0.11161\tTest-mlogloss:0.33475\n",
      "[327]\tTest-merror:0.11153\tTest-mlogloss:0.33465\n",
      "[328]\tTest-merror:0.11158\tTest-mlogloss:0.33451\n",
      "[329]\tTest-merror:0.11188\tTest-mlogloss:0.33460\n",
      "[330]\tTest-merror:0.11128\tTest-mlogloss:0.33464\n",
      "[331]\tTest-merror:0.11142\tTest-mlogloss:0.33462\n",
      "[332]\tTest-merror:0.11139\tTest-mlogloss:0.33461\n",
      "[333]\tTest-merror:0.11125\tTest-mlogloss:0.33454\n",
      "[334]\tTest-merror:0.11117\tTest-mlogloss:0.33447\n",
      "[335]\tTest-merror:0.11117\tTest-mlogloss:0.33430\n",
      "[336]\tTest-merror:0.11128\tTest-mlogloss:0.33421\n",
      "[337]\tTest-merror:0.11109\tTest-mlogloss:0.33410\n",
      "[338]\tTest-merror:0.11098\tTest-mlogloss:0.33405\n",
      "[339]\tTest-merror:0.11095\tTest-mlogloss:0.33397\n",
      "[340]\tTest-merror:0.11114\tTest-mlogloss:0.33388\n",
      "[341]\tTest-merror:0.11074\tTest-mlogloss:0.33382\n",
      "[342]\tTest-merror:0.11071\tTest-mlogloss:0.33378\n",
      "[343]\tTest-merror:0.11063\tTest-mlogloss:0.33377\n",
      "[344]\tTest-merror:0.11079\tTest-mlogloss:0.33372\n",
      "[345]\tTest-merror:0.11063\tTest-mlogloss:0.33370\n",
      "[346]\tTest-merror:0.11082\tTest-mlogloss:0.33374\n",
      "[347]\tTest-merror:0.11087\tTest-mlogloss:0.33377\n",
      "[348]\tTest-merror:0.11068\tTest-mlogloss:0.33368\n",
      "[349]\tTest-merror:0.11055\tTest-mlogloss:0.33375\n",
      "[350]\tTest-merror:0.11057\tTest-mlogloss:0.33390\n",
      "[351]\tTest-merror:0.11060\tTest-mlogloss:0.33376\n",
      "[352]\tTest-merror:0.11049\tTest-mlogloss:0.33366\n",
      "[353]\tTest-merror:0.11036\tTest-mlogloss:0.33359\n",
      "[354]\tTest-merror:0.10995\tTest-mlogloss:0.33344\n",
      "[355]\tTest-merror:0.10997\tTest-mlogloss:0.33352\n",
      "[356]\tTest-merror:0.10992\tTest-mlogloss:0.33343\n",
      "[357]\tTest-merror:0.11019\tTest-mlogloss:0.33340\n",
      "[358]\tTest-merror:0.10995\tTest-mlogloss:0.33340\n",
      "[359]\tTest-merror:0.10954\tTest-mlogloss:0.33343\n",
      "[360]\tTest-merror:0.10989\tTest-mlogloss:0.33350\n",
      "[361]\tTest-merror:0.10997\tTest-mlogloss:0.33345\n",
      "[362]\tTest-merror:0.10984\tTest-mlogloss:0.33340\n",
      "[363]\tTest-merror:0.10968\tTest-mlogloss:0.33341\n",
      "[364]\tTest-merror:0.10943\tTest-mlogloss:0.33332\n",
      "[365]\tTest-merror:0.10913\tTest-mlogloss:0.33323\n",
      "[366]\tTest-merror:0.10927\tTest-mlogloss:0.33310\n",
      "[367]\tTest-merror:0.10916\tTest-mlogloss:0.33313\n",
      "[368]\tTest-merror:0.10940\tTest-mlogloss:0.33324\n",
      "[369]\tTest-merror:0.10930\tTest-mlogloss:0.33320\n",
      "[370]\tTest-merror:0.10921\tTest-mlogloss:0.33321\n",
      "[371]\tTest-merror:0.10908\tTest-mlogloss:0.33304\n",
      "[372]\tTest-merror:0.10921\tTest-mlogloss:0.33293\n",
      "[373]\tTest-merror:0.10932\tTest-mlogloss:0.33301\n",
      "[374]\tTest-merror:0.10924\tTest-mlogloss:0.33301\n",
      "[375]\tTest-merror:0.10935\tTest-mlogloss:0.33313\n",
      "[376]\tTest-merror:0.10891\tTest-mlogloss:0.33308\n",
      "[377]\tTest-merror:0.10921\tTest-mlogloss:0.33297\n",
      "[378]\tTest-merror:0.10940\tTest-mlogloss:0.33308\n",
      "[379]\tTest-merror:0.10908\tTest-mlogloss:0.33291\n",
      "[380]\tTest-merror:0.10894\tTest-mlogloss:0.33299\n",
      "[381]\tTest-merror:0.10875\tTest-mlogloss:0.33299\n",
      "[382]\tTest-merror:0.10878\tTest-mlogloss:0.33302\n",
      "[383]\tTest-merror:0.10845\tTest-mlogloss:0.33300\n",
      "[384]\tTest-merror:0.10848\tTest-mlogloss:0.33294\n",
      "[385]\tTest-merror:0.10842\tTest-mlogloss:0.33285\n",
      "[386]\tTest-merror:0.10862\tTest-mlogloss:0.33262\n",
      "[387]\tTest-merror:0.10842\tTest-mlogloss:0.33252\n",
      "[388]\tTest-merror:0.10845\tTest-mlogloss:0.33246\n",
      "[389]\tTest-merror:0.10834\tTest-mlogloss:0.33236\n",
      "[390]\tTest-merror:0.10832\tTest-mlogloss:0.33230\n",
      "[391]\tTest-merror:0.10842\tTest-mlogloss:0.33233\n",
      "[392]\tTest-merror:0.10840\tTest-mlogloss:0.33234\n",
      "[393]\tTest-merror:0.10872\tTest-mlogloss:0.33229\n",
      "[394]\tTest-merror:0.10834\tTest-mlogloss:0.33234\n",
      "[395]\tTest-merror:0.10821\tTest-mlogloss:0.33233\n",
      "[396]\tTest-merror:0.10853\tTest-mlogloss:0.33235\n",
      "[397]\tTest-merror:0.10823\tTest-mlogloss:0.33231\n",
      "[398]\tTest-merror:0.10815\tTest-mlogloss:0.33230\n",
      "[399]\tTest-merror:0.10832\tTest-mlogloss:0.33229\n"
     ]
    }
   ],
   "source": [
    "# saving that \n",
    "evals_result = {}\n",
    "\n",
    "num_boost_round = model.best_iteration + 1\n",
    "best_model = xgb.train(\n",
    "    params,\n",
    "    dtrain,\n",
    "    num_boost_round=num_boost_round,\n",
    "    evals=[(dtest, \"Test\")],\n",
    "    evals_result = evals_result\n",
    ")"
   ]
  },
  {
   "cell_type": "code",
   "execution_count": 26,
   "metadata": {
    "execution": {
     "iopub.execute_input": "2024-06-05T10:44:26.654309Z",
     "iopub.status.busy": "2024-06-05T10:44:26.654170Z",
     "iopub.status.idle": "2024-06-05T10:44:26.667379Z",
     "shell.execute_reply": "2024-06-05T10:44:26.666685Z"
    }
   },
   "outputs": [
    {
     "name": "stderr",
     "output_type": "stream",
     "text": [
      "[12:44:26] WARNING: /home/conda/feedstock_root/build_artifacts/xgboost-split_1705650052425/work/src/c_api/c_api.cc:1240: Saving into deprecated binary model format, please consider using `json` or `ubj`. Model format will default to JSON in XGBoost 2.2 if not specified.\n"
     ]
    }
   ],
   "source": [
    "best_model.save_model(\"bestT_softprob.model\")"
   ]
  },
  {
   "cell_type": "code",
   "execution_count": 2,
   "metadata": {},
   "outputs": [],
   "source": [
    "# use model later: \n",
    "loaded_model = xgb.Booster()\n",
    "loaded_model.load_model(\"bestT_softprob.model\")"
   ]
  },
  {
   "cell_type": "code",
   "execution_count": 22,
   "metadata": {},
   "outputs": [
    {
     "name": "stdout",
     "output_type": "stream",
     "text": [
      "training done\n",
      "Accuracy: 0.8916838899162406\n",
      "Classification Report for celltype:  T cells\n",
      "              precision    recall  f1-score   support\n",
      "\n",
      "           0       0.96      0.95      0.95      3271\n",
      "           1       0.93      0.90      0.91      4059\n",
      "           2       0.83      0.38      0.52        40\n",
      "           3       0.96      0.93      0.94       128\n",
      "           4       0.91      0.86      0.89       139\n",
      "           5       0.89      0.90      0.90      5264\n",
      "           6       0.87      0.83      0.85      3458\n",
      "           7       0.88      0.86      0.87      1200\n",
      "           8       0.89      0.93      0.91      8814\n",
      "           9       0.92      0.70      0.80      1075\n",
      "          10       0.85      0.86      0.85      3134\n",
      "          11       0.95      0.57      0.71        70\n",
      "          12       0.50      0.07      0.12        15\n",
      "          13       0.90      0.76      0.83        84\n",
      "          14       0.87      0.89      0.88      5939\n",
      "          15       0.45      0.20      0.28        25\n",
      "          16       0.92      0.81      0.86        57\n",
      "\n",
      "    accuracy                           0.89     36772\n",
      "   macro avg       0.85      0.73      0.77     36772\n",
      "weighted avg       0.89      0.89      0.89     36772\n",
      "\n"
     ]
    },
    {
     "data": {
      "image/png": "[encoded data removed]",
      "text/plain": [
       "<Figure size 1200x600 with 1 Axes>"
      ]
     },
     "metadata": {},
     "output_type": "display_data"
    },
    {
     "ename": "ValueError",
     "evalue": "Classification metrics can't handle a mix of multiclass and continuous-multioutput targets",
     "output_type": "error",
     "traceback": [
      "\u001b[0;31m---------------------------------------------------------------------------\u001b[0m",
      "\u001b[0;31mValueError\u001b[0m                                Traceback (most recent call last)",
      "Cell \u001b[0;32mIn[22], line 5\u001b[0m\n\u001b[1;32m      2\u001b[0m y_pred_encoded \u001b[38;5;241m=\u001b[39m prediction(loaded_model) \u001b[38;5;66;03m# predict\u001b[39;00m\n\u001b[1;32m      3\u001b[0m y_pred_encoded \u001b[38;5;241m=\u001b[39m loaded_model\u001b[38;5;241m.\u001b[39mpredict(dtest)\n\u001b[0;32m----> 5\u001b[0m accuracy \u001b[38;5;241m=\u001b[39m \u001b[43maccuracy_score\u001b[49m\u001b[43m(\u001b[49m\u001b[43my_test\u001b[49m\u001b[43m,\u001b[49m\u001b[43m \u001b[49m\u001b[43my_pred_encoded\u001b[49m\u001b[43m)\u001b[49m\n\u001b[1;32m      6\u001b[0m \u001b[38;5;28mprint\u001b[39m (\u001b[38;5;124m\"\u001b[39m\u001b[38;5;124mSCORE:\u001b[39m\u001b[38;5;124m\"\u001b[39m, accuracy)\n",
      "File \u001b[0;32m~/miniconda3/envs/xgboost/lib/python3.8/site-packages/sklearn/utils/_param_validation.py:214\u001b[0m, in \u001b[0;36mvalidate_params.<locals>.decorator.<locals>.wrapper\u001b[0;34m(*args, **kwargs)\u001b[0m\n\u001b[1;32m    208\u001b[0m \u001b[38;5;28;01mtry\u001b[39;00m:\n\u001b[1;32m    209\u001b[0m     \u001b[38;5;28;01mwith\u001b[39;00m config_context(\n\u001b[1;32m    210\u001b[0m         skip_parameter_validation\u001b[38;5;241m=\u001b[39m(\n\u001b[1;32m    211\u001b[0m             prefer_skip_nested_validation \u001b[38;5;129;01mor\u001b[39;00m global_skip_validation\n\u001b[1;32m    212\u001b[0m         )\n\u001b[1;32m    213\u001b[0m     ):\n\u001b[0;32m--> 214\u001b[0m         \u001b[38;5;28;01mreturn\u001b[39;00m \u001b[43mfunc\u001b[49m\u001b[43m(\u001b[49m\u001b[38;5;241;43m*\u001b[39;49m\u001b[43margs\u001b[49m\u001b[43m,\u001b[49m\u001b[43m \u001b[49m\u001b[38;5;241;43m*\u001b[39;49m\u001b[38;5;241;43m*\u001b[39;49m\u001b[43mkwargs\u001b[49m\u001b[43m)\u001b[49m\n\u001b[1;32m    215\u001b[0m \u001b[38;5;28;01mexcept\u001b[39;00m InvalidParameterError \u001b[38;5;28;01mas\u001b[39;00m e:\n\u001b[1;32m    216\u001b[0m     \u001b[38;5;66;03m# When the function is just a wrapper around an estimator, we allow\u001b[39;00m\n\u001b[1;32m    217\u001b[0m     \u001b[38;5;66;03m# the function to delegate validation to the estimator, but we replace\u001b[39;00m\n\u001b[1;32m    218\u001b[0m     \u001b[38;5;66;03m# the name of the estimator by the name of the function in the error\u001b[39;00m\n\u001b[1;32m    219\u001b[0m     \u001b[38;5;66;03m# message to avoid confusion.\u001b[39;00m\n\u001b[1;32m    220\u001b[0m     msg \u001b[38;5;241m=\u001b[39m re\u001b[38;5;241m.\u001b[39msub(\n\u001b[1;32m    221\u001b[0m         \u001b[38;5;124mr\u001b[39m\u001b[38;5;124m\"\u001b[39m\u001b[38;5;124mparameter of \u001b[39m\u001b[38;5;124m\\\u001b[39m\u001b[38;5;124mw+ must be\u001b[39m\u001b[38;5;124m\"\u001b[39m,\n\u001b[1;32m    222\u001b[0m         \u001b[38;5;124mf\u001b[39m\u001b[38;5;124m\"\u001b[39m\u001b[38;5;124mparameter of \u001b[39m\u001b[38;5;132;01m{\u001b[39;00mfunc\u001b[38;5;241m.\u001b[39m\u001b[38;5;18m__qualname__\u001b[39m\u001b[38;5;132;01m}\u001b[39;00m\u001b[38;5;124m must be\u001b[39m\u001b[38;5;124m\"\u001b[39m,\n\u001b[1;32m    223\u001b[0m         \u001b[38;5;28mstr\u001b[39m(e),\n\u001b[1;32m    224\u001b[0m     )\n",
      "File \u001b[0;32m~/miniconda3/envs/xgboost/lib/python3.8/site-packages/sklearn/metrics/_classification.py:220\u001b[0m, in \u001b[0;36maccuracy_score\u001b[0;34m(y_true, y_pred, normalize, sample_weight)\u001b[0m\n\u001b[1;32m    154\u001b[0m \u001b[38;5;250m\u001b[39m\u001b[38;5;124;03m\"\"\"Accuracy classification score.\u001b[39;00m\n\u001b[1;32m    155\u001b[0m \n\u001b[1;32m    156\u001b[0m \u001b[38;5;124;03mIn multilabel classification, this function computes subset accuracy:\u001b[39;00m\n\u001b[0;32m   (...)\u001b[0m\n\u001b[1;32m    216\u001b[0m \u001b[38;5;124;03m0.5\u001b[39;00m\n\u001b[1;32m    217\u001b[0m \u001b[38;5;124;03m\"\"\"\u001b[39;00m\n\u001b[1;32m    219\u001b[0m \u001b[38;5;66;03m# Compute accuracy for each possible representation\u001b[39;00m\n\u001b[0;32m--> 220\u001b[0m y_type, y_true, y_pred \u001b[38;5;241m=\u001b[39m \u001b[43m_check_targets\u001b[49m\u001b[43m(\u001b[49m\u001b[43my_true\u001b[49m\u001b[43m,\u001b[49m\u001b[43m \u001b[49m\u001b[43my_pred\u001b[49m\u001b[43m)\u001b[49m\n\u001b[1;32m    221\u001b[0m check_consistent_length(y_true, y_pred, sample_weight)\n\u001b[1;32m    222\u001b[0m \u001b[38;5;28;01mif\u001b[39;00m y_type\u001b[38;5;241m.\u001b[39mstartswith(\u001b[38;5;124m\"\u001b[39m\u001b[38;5;124mmultilabel\u001b[39m\u001b[38;5;124m\"\u001b[39m):\n",
      "File \u001b[0;32m~/miniconda3/envs/xgboost/lib/python3.8/site-packages/sklearn/metrics/_classification.py:93\u001b[0m, in \u001b[0;36m_check_targets\u001b[0;34m(y_true, y_pred)\u001b[0m\n\u001b[1;32m     90\u001b[0m     y_type \u001b[38;5;241m=\u001b[39m {\u001b[38;5;124m\"\u001b[39m\u001b[38;5;124mmulticlass\u001b[39m\u001b[38;5;124m\"\u001b[39m}\n\u001b[1;32m     92\u001b[0m \u001b[38;5;28;01mif\u001b[39;00m \u001b[38;5;28mlen\u001b[39m(y_type) \u001b[38;5;241m>\u001b[39m \u001b[38;5;241m1\u001b[39m:\n\u001b[0;32m---> 93\u001b[0m     \u001b[38;5;28;01mraise\u001b[39;00m \u001b[38;5;167;01mValueError\u001b[39;00m(\n\u001b[1;32m     94\u001b[0m         \u001b[38;5;124m\"\u001b[39m\u001b[38;5;124mClassification metrics can\u001b[39m\u001b[38;5;124m'\u001b[39m\u001b[38;5;124mt handle a mix of \u001b[39m\u001b[38;5;132;01m{0}\u001b[39;00m\u001b[38;5;124m and \u001b[39m\u001b[38;5;132;01m{1}\u001b[39;00m\u001b[38;5;124m targets\u001b[39m\u001b[38;5;124m\"\u001b[39m\u001b[38;5;241m.\u001b[39mformat(\n\u001b[1;32m     95\u001b[0m             type_true, type_pred\n\u001b[1;32m     96\u001b[0m         )\n\u001b[1;32m     97\u001b[0m     )\n\u001b[1;32m     99\u001b[0m \u001b[38;5;66;03m# We can't have more than one value on y_type => The set is no more needed\u001b[39;00m\n\u001b[1;32m    100\u001b[0m y_type \u001b[38;5;241m=\u001b[39m y_type\u001b[38;5;241m.\u001b[39mpop()\n",
      "\u001b[0;31mValueError\u001b[0m: Classification metrics can't handle a mix of multiclass and continuous-multioutput targets"
     ]
    }
   ],
   "source": [
    "print(\"training done\")\n",
    "y_pred_encoded = prediction(loaded_model) # predict\n",
    "y_pred_encoded = loaded_model.predict(dtest)\n",
    "    \n",
    "accuracy = accuracy_score(y_test, y_pred_encoded)\n",
    "print (\"SCORE:\", accuracy)"
   ]
  },
  {
   "cell_type": "code",
   "execution_count": 27,
   "metadata": {},
   "outputs": [
    {
     "data": {
      "image/png": "[encoded data removed]",
      "text/plain": [
       "<Figure size 1400x800 with 1 Axes>"
      ]
     },
     "metadata": {},
     "output_type": "display_data"
    }
   ],
   "source": [
    "# Convert class indices to class labels\n",
    "class_labels = label_table['Decoded_Label'].tolist()\n",
    "df = pd.DataFrame(y_pred_prob, columns=class_labels)\n",
    "\n",
    "# Boxplot for each class\n",
    "plt.figure(figsize=(14, 8))\n",
    "sns.boxplot(data=df)\n",
    "plt.title('Boxplots of probabilities for each class')\n",
    "plt.xlabel('Class')\n",
    "plt.ylabel('Probability')\n",
    "plt.xticks(rotation=45)\n",
    "plt.show()"
   ]
  },
  {
   "cell_type": "markdown",
   "metadata": {},
   "source": [
    "# Feature importance scores"
   ]
  },
  {
   "cell_type": "code",
   "execution_count": null,
   "metadata": {},
   "outputs": [
    {
     "name": "stdout",
     "output_type": "stream",
     "text": [
      "Feature f6788 is gene MTRNR2L12 and has importance score: 1344.0\n",
      "Feature f36563 is gene MT-ATP8 and has importance score: 1284.0\n",
      "Feature f21898 is gene RPS26 and has importance score: 1063.0\n",
      "Feature f31591 is gene JUND and has importance score: 959.0\n",
      "Feature f36450 is gene RPS4Y1 and has importance score: 729.0\n",
      "Feature f36564 is gene MT-ATP6 and has importance score: 721.0\n",
      "Feature f19107 is gene HBB and has importance score: 672.0\n",
      "Feature f24894 is gene HSP90AA1 and has importance score: 636.0\n",
      "Feature f31445 is gene DNAJB1 and has importance score: 631.0\n",
      "Feature f31504 is gene KLF2 and has importance score: 630.0\n",
      "Feature f1853 is gene TXNIP and has importance score: 622.0\n",
      "Feature f20003 is gene MALAT1 and has importance score: 602.0\n",
      "Feature f11718 is gene HSPA1B and has importance score: 575.0\n",
      "Feature f1182 is gene JUN and has importance score: 572.0\n",
      "Feature f11717 is gene HSPA1A and has importance score: 563.0\n",
      "Feature f11000 is gene DUSP1 and has importance score: 561.0\n",
      "Feature f36561 is gene MT-CO1 and has importance score: 528.0\n",
      "Feature f36567 is gene MT-ND4L and has importance score: 517.0\n",
      "Feature f31374 is gene JUNB and has importance score: 473.0\n",
      "Feature f24191 is gene RPS29 and has importance score: 468.0\n",
      "Feature f4929 is gene CXCR4 and has importance score: 444.0\n",
      "Feature f24559 is gene FOS and has importance score: 441.0\n",
      "Feature f11818 is gene RPS10 and has importance score: 436.0\n",
      "Feature f12659 is gene TNFAIP3 and has importance score: 433.0\n",
      "Feature f17562 is gene KLF6 and has importance score: 428.0\n"
     ]
    }
   ],
   "source": [
    "feature_names = adata.var_names.tolist()\n",
    "\n",
    "# Create a dictionary mapping feature indices to feature names\n",
    "feature_index_to_name = {index: name for index, name in enumerate(feature_names)}\n",
    "\n",
    "# Example feature importance scores from an XGBoost model\n",
    "importance_scores = loaded_model.get_score(importance_type=\"weight\")\n",
    "sorted_features = sorted(importance_scores.items(), key=lambda x: x[1], reverse=True)\n",
    "\n",
    "# Map feature indices to feature names and print them\n",
    "for feature, score in sorted_features[:25]:\n",
    "    feature_index_match = re.search(r\"\\d+\", feature)\n",
    "    if feature_index_match:\n",
    "        feature_index = int(feature_index_match.group())\n",
    "        feature_name = feature_index_to_name.get(feature_index, \"Unknown\")\n",
    "        print(f\"Feature {feature} is gene {feature_name} and has importance score: {score}\")\n",
    "\n",
    "# Visualize feature importance with feature names instead of numbers\n",
    "sorted_features_with_names = [(feature_index_to_name[int(re.search(r\"\\d+\", feature[0]).group())], feature[1]) for feature in sorted_features]\n",
    "\n",
    "# Visualize feature importance\n",
    "plt.figure(figsize=(10, 6))\n",
    "plt.barh(\n",
    "    range(len(sorted_features_with_names)),\n",
    "    [feature[1] for feature in sorted_features_with_names],\n",
    "    tick_label=[feature[0] for feature in sorted_features_with_names],  # Use feature names instead of numbers\n",
    ")\n",
    "plt.ylabel(\"Importance Score\")\n",
    "plt.xlabel(\"Feature\")\n",
    "plt.title(\"Feature Importance\")\n",
    "plt.yticks(rotation=0)\n",
    "plt.show()\n",
    "\n",
    "# Limit to the Top 40 features\n",
    "top_features = sorted_features_with_names[:40]\n",
    "\n",
    "# Visualize feature importance for the top 40 features\n",
    "plt.figure(figsize=(10, 6))\n",
    "plt.bar(\n",
    "    range(len(top_features)),\n",
    "    [feature[1] for feature in top_features],\n",
    "    tick_label=[feature[0] for feature in top_features]  # Use feature names instead of numbers\n",
    ")\n",
    "plt.xlabel(\"Feature\")\n",
    "plt.ylabel(\"Importance Score\")\n",
    "plt.title(\"Top 40 Features by Importance\")\n",
    "plt.xticks(rotation=90)\n",
    "plt.show()"
   ]
  },
  {
   "cell_type": "markdown",
   "metadata": {},
   "source": [
    "# Prediction on Exercise Dataset"
   ]
  },
  {
   "cell_type": "code",
   "execution_count": 22,
   "metadata": {},
   "outputs": [
    {
     "name": "stdout",
     "output_type": "stream",
     "text": [
      "reading file\n"
     ]
    }
   ],
   "source": [
    "file = \"adata_final.h5ad\"\n",
    "print(\"reading file\")\n",
    "adata2 = sc.read_h5ad(file)\n",
    "modelname = \"T cells\""
   ]
  },
  {
   "cell_type": "code",
   "execution_count": 23,
   "metadata": {},
   "outputs": [],
   "source": [
    "bst = xgb.Booster()\n",
    "bst.load_model(\"bestT_softprob.model\")"
   ]
  },
  {
   "cell_type": "code",
   "execution_count": 24,
   "metadata": {},
   "outputs": [],
   "source": [
    "subset = adata2[(adata2.obs[\"celltypist_cell_label_coarse\"] == \"T cells\")]\n",
    "X = subset.to_df()\n",
    "deval = xgb.DMatrix(X) "
   ]
  },
  {
   "cell_type": "code",
   "execution_count": 29,
   "metadata": {},
   "outputs": [],
   "source": [
    "y_pred_prob_ex = loaded_model.predict(deval) # predict\n",
    "predictions = np.argmax(y_pred_prob_ex, axis =1)"
   ]
  },
  {
   "cell_type": "code",
   "execution_count": 38,
   "metadata": {},
   "outputs": [],
   "source": [
    "label_mapping = {\n",
    "            0: 'BLD',\n",
    "            1: 'BMA',\n",
    "            2: 'CAE',\n",
    "            3: 'DUO',\n",
    "            4: 'ILE',\n",
    "            5: 'JEJEPI',\n",
    "            6: 'JEJLP',\n",
    "            7: 'LIV',\n",
    "            8: 'LLN',\n",
    "            9: 'LNG',\n",
    "            10: 'MLN',\n",
    "            11: 'OME',\n",
    "            12: 'SCL',\n",
    "            13: 'SKM',\n",
    "            14: 'SPL',\n",
    "            15: 'TCL',\n",
    "            16: 'THY'\n",
    "}"
   ]
  },
  {
   "cell_type": "code",
   "execution_count": 36,
   "metadata": {
    "execution": {
     "iopub.execute_input": "2024-06-05T10:44:51.249783Z",
     "iopub.status.busy": "2024-06-05T10:44:51.249551Z",
     "iopub.status.idle": "2024-06-05T10:44:59.082439Z",
     "shell.execute_reply": "2024-06-05T10:44:59.081640Z"
    }
   },
   "outputs": [
    {
     "name": "stderr",
     "output_type": "stream",
     "text": [
      "Trying to modify attribute `.obs` of view, initializing view as actual.\n"
     ]
    }
   ],
   "source": [
    "# Add predictions to the subset\n",
    "subset.obs[\"Predicted_tissue\"] = [label_mapping[int(pred)] for pred in predictions]\n",
    "subset.obs[\"celltype_model\"] = modelname"
   ]
  },
  {
   "cell_type": "code",
   "execution_count": 37,
   "metadata": {
    "execution": {
     "iopub.execute_input": "2024-06-05T10:44:59.087119Z",
     "iopub.status.busy": "2024-06-05T10:44:59.087001Z",
     "iopub.status.idle": "2024-06-05T10:45:00.704746Z",
     "shell.execute_reply": "2024-06-05T10:45:00.704059Z"
    }
   },
   "outputs": [
    {
     "data": {
      "image/png": "[encoded data removed]",
      "text/plain": [
       "<Figure size 1400x800 with 1 Axes>"
      ]
     },
     "metadata": {},
     "output_type": "display_data"
    }
   ],
   "source": [
    "# Convert class indices to class labels\n",
    "class_labels = [label_mapping[i] for i in range(y_pred_prob_ex.shape[1])]\n",
    "df = pd.DataFrame(y_pred_prob_ex, columns=class_labels)\n",
    "\n",
    "# Boxplot for each class\n",
    "plt.figure(figsize=(14, 8))\n",
    "sns.boxplot(data=df)\n",
    "plt.title('Boxplots of probabilities for each class')\n",
    "plt.xlabel('Class')\n",
    "plt.ylabel('Probability')\n",
    "plt.xticks(rotation=45)\n",
    "plt.show()"
   ]
  },
  {
   "cell_type": "code",
   "execution_count": 40,
   "metadata": {
    "execution": {
     "iopub.execute_input": "2024-06-05T10:45:00.733753Z",
     "iopub.status.busy": "2024-06-05T10:45:00.733436Z",
     "iopub.status.idle": "2024-06-05T10:45:00.750716Z",
     "shell.execute_reply": "2024-06-05T10:45:00.749921Z"
    }
   },
   "outputs": [
    {
     "name": "stdout",
     "output_type": "stream",
     "text": [
      "Timepoint 5b:\n",
      "('5b', 'SPL')\t13725\n",
      "('5b', 'SCL')\t4042\n",
      "('5b', 'LIV')\t1427\n",
      "('5b', 'JEJEPI')\t1275\n",
      "('5b', 'LNG')\t944\n",
      "('5b', 'ILE')\t3\n",
      "('5b', 'DUO')\t1\n",
      "('5b', 'LLN')\t1\n",
      "('5b', 'BMA')\t0\n",
      "\n",
      "Timepoint 5a:\n",
      "('5a', 'SPL')\t13335\n",
      "('5a', 'SCL')\t3818\n",
      "('5a', 'LIV')\t1269\n",
      "('5a', 'JEJEPI')\t1085\n",
      "('5a', 'LNG')\t833\n",
      "('5a', 'DUO')\t3\n",
      "('5a', 'ILE')\t2\n",
      "('5a', 'BMA')\t1\n",
      "('5a', 'LLN')\t0\n",
      "\n",
      "Timepoint 30a:\n",
      "('30a', 'SPL')\t14649\n",
      "('30a', 'SCL')\t4532\n",
      "('30a', 'LIV')\t1509\n",
      "('30a', 'JEJEPI')\t1301\n",
      "('30a', 'LNG')\t955\n",
      "('30a', 'DUO')\t1\n",
      "('30a', 'ILE')\t1\n",
      "('30a', 'LLN')\t0\n",
      "('30a', 'BMA')\t0\n",
      "\n",
      "Timepoint 120a:\n",
      "('120a', 'SPL')\t470\n",
      "('120a', 'SCL')\t162\n",
      "('120a', 'LIV')\t56\n",
      "('120a', 'JEJEPI')\t38\n",
      "('120a', 'LNG')\t13\n",
      "('120a', 'LLN')\t0\n",
      "('120a', 'ILE')\t0\n",
      "('120a', 'DUO')\t0\n",
      "('120a', 'BMA')\t0\n",
      "\n"
     ]
    }
   ],
   "source": [
    "# Extract 'timepoint' and 'Predicted_tissue' columns\n",
    "data = {\n",
    "    'timepoint': subset.obs['timepoint'],\n",
    "    'Predicted_tissue': subset.obs['Predicted_tissue']\n",
    "}\n",
    "df = pd.DataFrame(data)\n",
    "\n",
    "df = pd.DataFrame(data)\n",
    "\n",
    "# Group by timepoint and calculate predicted tissue value counts for each timepoint\n",
    "predicted_tissue_counts_by_timepoint = df.groupby('timepoint')['Predicted_tissue'].value_counts()\n",
    "\n",
    "# Print the predicted tissue value counts for each timepoint\n",
    "for timepoint, counts in predicted_tissue_counts_by_timepoint.groupby(level=0):\n",
    "    print(f\"Timepoint {timepoint}:\")\n",
    "    for tissue, count in counts.items():\n",
    "        print(f\"{tissue}\\t{count}\")\n",
    "    print()\n"
   ]
  },
  {
   "cell_type": "markdown",
   "metadata": {},
   "source": [
    "# Testing prediction using a split"
   ]
  },
  {
   "cell_type": "code",
   "execution_count": 23,
   "metadata": {},
   "outputs": [
    {
     "name": "stdout",
     "output_type": "stream",
     "text": [
      "P3\n",
      "120a\n"
     ]
    },
    {
     "name": "stderr",
     "output_type": "stream",
     "text": [
      "Trying to modify attribute `.obs` of view, initializing view as actual.\n"
     ]
    },
    {
     "name": "stdout",
     "output_type": "stream",
     "text": [
      "copy\n",
      "5a\n"
     ]
    },
    {
     "name": "stderr",
     "output_type": "stream",
     "text": [
      "Trying to modify attribute `.obs` of view, initializing view as actual.\n"
     ]
    },
    {
     "name": "stdout",
     "output_type": "stream",
     "text": [
      "5b\n"
     ]
    },
    {
     "name": "stderr",
     "output_type": "stream",
     "text": [
      "Trying to modify attribute `.obs` of view, initializing view as actual.\n"
     ]
    },
    {
     "name": "stdout",
     "output_type": "stream",
     "text": [
      "30a\n"
     ]
    },
    {
     "name": "stderr",
     "output_type": "stream",
     "text": [
      "Trying to modify attribute `.obs` of view, initializing view as actual.\n"
     ]
    },
    {
     "name": "stdout",
     "output_type": "stream",
     "text": [
      "P1\n",
      "120a\n"
     ]
    },
    {
     "name": "stderr",
     "output_type": "stream",
     "text": [
      "Trying to modify attribute `.obs` of view, initializing view as actual.\n"
     ]
    },
    {
     "name": "stdout",
     "output_type": "stream",
     "text": [
      "5b\n"
     ]
    },
    {
     "name": "stderr",
     "output_type": "stream",
     "text": [
      "Trying to modify attribute `.obs` of view, initializing view as actual.\n"
     ]
    },
    {
     "name": "stdout",
     "output_type": "stream",
     "text": [
      "30a\n"
     ]
    },
    {
     "name": "stderr",
     "output_type": "stream",
     "text": [
      "Trying to modify attribute `.obs` of view, initializing view as actual.\n"
     ]
    },
    {
     "name": "stdout",
     "output_type": "stream",
     "text": [
      "5a\n"
     ]
    },
    {
     "name": "stderr",
     "output_type": "stream",
     "text": [
      "Trying to modify attribute `.obs` of view, initializing view as actual.\n"
     ]
    },
    {
     "name": "stdout",
     "output_type": "stream",
     "text": [
      "P2\n",
      "30a\n"
     ]
    },
    {
     "name": "stderr",
     "output_type": "stream",
     "text": [
      "Trying to modify attribute `.obs` of view, initializing view as actual.\n"
     ]
    },
    {
     "name": "stdout",
     "output_type": "stream",
     "text": [
      "5b\n"
     ]
    },
    {
     "name": "stderr",
     "output_type": "stream",
     "text": [
      "Trying to modify attribute `.obs` of view, initializing view as actual.\n"
     ]
    },
    {
     "name": "stdout",
     "output_type": "stream",
     "text": [
      "5a\n"
     ]
    },
    {
     "name": "stderr",
     "output_type": "stream",
     "text": [
      "Trying to modify attribute `.obs` of view, initializing view as actual.\n"
     ]
    },
    {
     "name": "stdout",
     "output_type": "stream",
     "text": [
      "P7\n",
      "30a\n"
     ]
    },
    {
     "name": "stderr",
     "output_type": "stream",
     "text": [
      "Trying to modify attribute `.obs` of view, initializing view as actual.\n"
     ]
    },
    {
     "name": "stdout",
     "output_type": "stream",
     "text": [
      "5b\n"
     ]
    },
    {
     "name": "stderr",
     "output_type": "stream",
     "text": [
      "Trying to modify attribute `.obs` of view, initializing view as actual.\n"
     ]
    },
    {
     "name": "stdout",
     "output_type": "stream",
     "text": [
      "5a\n"
     ]
    },
    {
     "name": "stderr",
     "output_type": "stream",
     "text": [
      "Trying to modify attribute `.obs` of view, initializing view as actual.\n"
     ]
    },
    {
     "name": "stdout",
     "output_type": "stream",
     "text": [
      "P9\n",
      "5b\n"
     ]
    },
    {
     "name": "stderr",
     "output_type": "stream",
     "text": [
      "Trying to modify attribute `.obs` of view, initializing view as actual.\n"
     ]
    },
    {
     "name": "stdout",
     "output_type": "stream",
     "text": [
      "30a\n"
     ]
    },
    {
     "name": "stderr",
     "output_type": "stream",
     "text": [
      "Trying to modify attribute `.obs` of view, initializing view as actual.\n"
     ]
    },
    {
     "name": "stdout",
     "output_type": "stream",
     "text": [
      "5a\n"
     ]
    },
    {
     "name": "stderr",
     "output_type": "stream",
     "text": [
      "Trying to modify attribute `.obs` of view, initializing view as actual.\n"
     ]
    },
    {
     "name": "stdout",
     "output_type": "stream",
     "text": [
      "P4\n",
      "30a\n"
     ]
    },
    {
     "name": "stderr",
     "output_type": "stream",
     "text": [
      "Trying to modify attribute `.obs` of view, initializing view as actual.\n"
     ]
    },
    {
     "name": "stdout",
     "output_type": "stream",
     "text": [
      "5b\n"
     ]
    },
    {
     "name": "stderr",
     "output_type": "stream",
     "text": [
      "Trying to modify attribute `.obs` of view, initializing view as actual.\n"
     ]
    },
    {
     "name": "stdout",
     "output_type": "stream",
     "text": [
      "5a\n"
     ]
    },
    {
     "name": "stderr",
     "output_type": "stream",
     "text": [
      "Trying to modify attribute `.obs` of view, initializing view as actual.\n"
     ]
    },
    {
     "name": "stdout",
     "output_type": "stream",
     "text": [
      "P5\n",
      "5a\n"
     ]
    },
    {
     "name": "stderr",
     "output_type": "stream",
     "text": [
      "Trying to modify attribute `.obs` of view, initializing view as actual.\n"
     ]
    },
    {
     "name": "stdout",
     "output_type": "stream",
     "text": [
      "5b\n"
     ]
    },
    {
     "name": "stderr",
     "output_type": "stream",
     "text": [
      "Trying to modify attribute `.obs` of view, initializing view as actual.\n"
     ]
    },
    {
     "name": "stdout",
     "output_type": "stream",
     "text": [
      "30a\n"
     ]
    },
    {
     "name": "stderr",
     "output_type": "stream",
     "text": [
      "Trying to modify attribute `.obs` of view, initializing view as actual.\n"
     ]
    },
    {
     "name": "stdout",
     "output_type": "stream",
     "text": [
      "P6\n",
      "5b\n"
     ]
    },
    {
     "name": "stderr",
     "output_type": "stream",
     "text": [
      "Trying to modify attribute `.obs` of view, initializing view as actual.\n"
     ]
    },
    {
     "name": "stdout",
     "output_type": "stream",
     "text": [
      "5a\n"
     ]
    },
    {
     "name": "stderr",
     "output_type": "stream",
     "text": [
      "Trying to modify attribute `.obs` of view, initializing view as actual.\n"
     ]
    },
    {
     "name": "stdout",
     "output_type": "stream",
     "text": [
      "30a\n"
     ]
    },
    {
     "name": "stderr",
     "output_type": "stream",
     "text": [
      "Trying to modify attribute `.obs` of view, initializing view as actual.\n"
     ]
    }
   ],
   "source": [
    "first = True\n",
    "for person in subset.obs[\"participant\"].unique():\n",
    "    print(person)\n",
    "    sub_person = subset[subset.obs[\"participant\"] == person]\n",
    "\n",
    "    for tp in sub_person.obs[\"timepoint\"].unique(): \n",
    "        print(tp)\n",
    "        \n",
    "        sub = sub_person[sub_person.obs[\"timepoint\"] == tp]\n",
    "\n",
    "        X = sub.to_df()\n",
    "        deval = xgb.DMatrix(X) \n",
    "        \n",
    "        y_pred_prob_ex = bst.predict(deval)\n",
    "        predictions = np.argmax(y_pred_prob_ex, axis =1)\n",
    "        \n",
    "        sub.obs[\"Predicted_tissue\"] = [label_mapping[int(pred)] for pred in predictions]\n",
    "        sub.obs[\"celltype_model\"] = modelname\n",
    "\n",
    "        if first:\n",
    "            combined_adata = sub.copy()\n",
    "            first = False\n",
    "        else:\n",
    "            combined_adata = anndata.concat([combined_adata, sub], axis=0)\n"
   ]
  },
  {
   "cell_type": "code",
   "execution_count": 26,
   "metadata": {},
   "outputs": [
    {
     "name": "stdout",
     "output_type": "stream",
     "text": [
      "Timepoint 120a:\n",
      "('120a', 'SPL')\t470\n",
      "('120a', 'SCL')\t162\n",
      "('120a', 'LIV')\t56\n",
      "('120a', 'JEJEPI')\t38\n",
      "('120a', 'LNG')\t13\n",
      "\n",
      "Timepoint 30a:\n",
      "('30a', 'SPL')\t14649\n",
      "('30a', 'SCL')\t4532\n",
      "('30a', 'LIV')\t1509\n",
      "('30a', 'JEJEPI')\t1301\n",
      "('30a', 'LNG')\t955\n",
      "('30a', 'ILE')\t1\n",
      "('30a', 'DUO')\t1\n",
      "\n",
      "Timepoint 5a:\n",
      "('5a', 'SPL')\t13335\n",
      "('5a', 'SCL')\t3818\n",
      "('5a', 'LIV')\t1269\n",
      "('5a', 'JEJEPI')\t1085\n",
      "('5a', 'LNG')\t833\n",
      "('5a', 'DUO')\t3\n",
      "('5a', 'ILE')\t2\n",
      "('5a', 'BMA')\t1\n",
      "\n",
      "Timepoint 5b:\n",
      "('5b', 'SPL')\t13725\n",
      "('5b', 'SCL')\t4042\n",
      "('5b', 'LIV')\t1427\n",
      "('5b', 'JEJEPI')\t1275\n",
      "('5b', 'LNG')\t944\n",
      "('5b', 'ILE')\t3\n",
      "('5b', 'DUO')\t1\n",
      "('5b', 'LLN')\t1\n",
      "\n"
     ]
    }
   ],
   "source": [
    "# Extract 'timepoint' and 'Predicted_tissue' columns into a pandas DataFrame\n",
    "data = {\n",
    "    'timepoint': combined_adata.obs['timepoint'],\n",
    "    'Predicted_tissue': combined_adata.obs['Predicted_tissue']\n",
    "}\n",
    "df = pd.DataFrame(data)\n",
    "\n",
    "df = pd.DataFrame(data)\n",
    "\n",
    "# Group by timepoint and calculate predicted tissue value counts for each timepoint\n",
    "predicted_tissue_counts_by_timepoint = df.groupby('timepoint')['Predicted_tissue'].value_counts()\n",
    "\n",
    "# Print the predicted tissue value counts for each timepoint\n",
    "for timepoint, counts in predicted_tissue_counts_by_timepoint.groupby(level=0):\n",
    "    print(f\"Timepoint {timepoint}:\")\n",
    "    for tissue, count in counts.items():\n",
    "        print(f\"{tissue}\\t{count}\")\n",
    "    print()"
   ]
  }
 ],
 "metadata": {
  "kernelspec": {
   "display_name": "xgboost",
   "language": "python",
   "name": "xgboost"
  },
  "language_info": {
   "codemirror_mode": {
    "name": "ipython",
    "version": 3
   },
   "file_extension": ".py",
   "mimetype": "text/x-python",
   "name": "python",
   "nbconvert_exporter": "python",
   "pygments_lexer": "ipython3",
   "version": "3.8.18"
  }
 },
 "nbformat": 4,
 "nbformat_minor": 4
}
